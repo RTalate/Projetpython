{
  "nbformat": 4,
  "nbformat_minor": 0,
  "metadata": {
    "colab": {
      "name": "odds_vizualization.ipynb",
      "provenance": [],
      "collapsed_sections": []
    },
    "kernelspec": {
      "name": "python3",
      "display_name": "Python 3"
    },
    "language_info": {
      "name": "python"
    }
  },
  "cells": [
    {
      "cell_type": "markdown",
      "source": [
        "On va étudier un pool de cotes de bookmakers anglais lors de l'année 2016 afin d'avoir une idée des performances des professionnels dans le secteur de la prédiction de match de football. On étudiera également si de simples stratégies de paris sportifs sont rentables."
      ],
      "metadata": {
        "id": "KVEkQzHS6ItY"
      }
    },
    {
      "cell_type": "code",
      "execution_count": 22,
      "metadata": {
        "id": "IQkA2HIJ-mkT"
      },
      "outputs": [],
      "source": [
        "import pandas as pd \n",
        "import numpy as np \n"
      ]
    },
    {
      "cell_type": "code",
      "source": [
        "odds_2016_2017 = pd.read_csv('2016.csv')\n"
      ],
      "metadata": {
        "id": "f_auvx41-xCe"
      },
      "execution_count": 23,
      "outputs": []
    },
    {
      "cell_type": "code",
      "source": [
        "odds_2016_2017.columns"
      ],
      "metadata": {
        "colab": {
          "base_uri": "https://localhost:8080/"
        },
        "id": "kmNnIYp_-3Gf",
        "outputId": "f39466f2-d1f6-4b07-8b4c-87337dbb8ff0"
      },
      "execution_count": 24,
      "outputs": [
        {
          "output_type": "execute_result",
          "data": {
            "text/plain": [
              "Index(['Div', 'Date', 'HomeTeam', 'AwayTeam', 'FTHG', 'FTAG', 'FTR', 'HTHG',\n",
              "       'HTAG', 'HTR', 'Referee', 'HS', 'AS', 'HST', 'AST', 'HF', 'AF', 'HC',\n",
              "       'AC', 'HY', 'AY', 'HR', 'AR', 'B365H', 'B365D', 'B365A', 'BWH', 'BWD',\n",
              "       'BWA', 'IWH', 'IWD', 'IWA', 'LBH', 'LBD', 'LBA', 'PSH', 'PSD', 'PSA',\n",
              "       'WHH', 'WHD', 'WHA', 'VCH', 'VCD', 'VCA', 'Bb1X2', 'BbMxH', 'BbAvH',\n",
              "       'BbMxD', 'BbAvD', 'BbMxA', 'BbAvA', 'BbOU', 'BbMx>2.5', 'BbAv>2.5',\n",
              "       'BbMx<2.5', 'BbAv<2.5', 'BbAH', 'BbAHh', 'BbMxAHH', 'BbAvAHH',\n",
              "       'BbMxAHA', 'BbAvAHA', 'PSCH', 'PSCD', 'PSCA'],\n",
              "      dtype='object')"
            ]
          },
          "metadata": {},
          "execution_count": 24
        }
      ]
    },
    {
      "cell_type": "code",
      "source": [
        "odds_2016_short = odds_2016_2017[['Div', 'Date', 'HomeTeam', 'AwayTeam', 'FTHG', 'FTAG', 'FTR', 'HTHG',\n",
        "       'HTAG', 'HTR', 'Referee', 'HS', 'AS', 'HST', 'AST', 'HF', 'AF', 'HC',\n",
        "       'AC', 'HY', 'AY', 'HR', 'AR', 'B365H', 'B365D', 'B365A', 'BWH', 'BWD',\n",
        "       'BWA', 'IWH', 'IWD', 'IWA', 'LBH', 'LBD', 'LBA', 'PSH', 'PSD', 'PSA',\n",
        "       'WHH', 'WHD', 'WHA', 'VCH', 'VCD', 'VCA']]"
      ],
      "metadata": {
        "id": "LDty4pDl_L3V"
      },
      "execution_count": 25,
      "outputs": []
    },
    {
      "cell_type": "markdown",
      "source": [
        "On garde seulement 7 bookmakers c'est amplement suffisant "
      ],
      "metadata": {
        "id": "OQeaSqe36fDJ"
      }
    },
    {
      "cell_type": "code",
      "source": [
        "len(odds_2016_short)"
      ],
      "metadata": {
        "id": "CRAB6P9ifoIk",
        "colab": {
          "base_uri": "https://localhost:8080/"
        },
        "outputId": "063b292a-8a58-4faf-84a5-05612a834c16"
      },
      "execution_count": 26,
      "outputs": [
        {
          "output_type": "execute_result",
          "data": {
            "text/plain": [
              "380"
            ]
          },
          "metadata": {},
          "execution_count": 26
        }
      ]
    },
    {
      "cell_type": "code",
      "source": [
        "odds_2016_short.drop(['HTHG',\n",
        "       'HTAG', 'HTR', 'Referee', 'HS', 'AS', 'HST', 'AST', 'HF', 'AF', 'HC',\n",
        "       'AC', 'HY', 'AY', 'HR', 'AR'], axis =1)"
      ],
      "metadata": {
        "colab": {
          "base_uri": "https://localhost:8080/",
          "height": 468
        },
        "id": "LolLLPyG_c1n",
        "outputId": "a0e98a4d-f35a-44b2-fed0-45dc893fcb54"
      },
      "execution_count": 27,
      "outputs": [
        {
          "output_type": "execute_result",
          "data": {
            "text/html": [
              "\n",
              "  <div id=\"df-6ce85b6e-42a9-4ed7-87b5-8aa6da45d7a2\">\n",
              "    <div class=\"colab-df-container\">\n",
              "      <div>\n",
              "<style scoped>\n",
              "    .dataframe tbody tr th:only-of-type {\n",
              "        vertical-align: middle;\n",
              "    }\n",
              "\n",
              "    .dataframe tbody tr th {\n",
              "        vertical-align: top;\n",
              "    }\n",
              "\n",
              "    .dataframe thead th {\n",
              "        text-align: right;\n",
              "    }\n",
              "</style>\n",
              "<table border=\"1\" class=\"dataframe\">\n",
              "  <thead>\n",
              "    <tr style=\"text-align: right;\">\n",
              "      <th></th>\n",
              "      <th>Div</th>\n",
              "      <th>Date</th>\n",
              "      <th>HomeTeam</th>\n",
              "      <th>AwayTeam</th>\n",
              "      <th>FTHG</th>\n",
              "      <th>FTAG</th>\n",
              "      <th>FTR</th>\n",
              "      <th>B365H</th>\n",
              "      <th>B365D</th>\n",
              "      <th>B365A</th>\n",
              "      <th>BWH</th>\n",
              "      <th>BWD</th>\n",
              "      <th>BWA</th>\n",
              "      <th>IWH</th>\n",
              "      <th>IWD</th>\n",
              "      <th>IWA</th>\n",
              "      <th>LBH</th>\n",
              "      <th>LBD</th>\n",
              "      <th>LBA</th>\n",
              "      <th>PSH</th>\n",
              "      <th>PSD</th>\n",
              "      <th>PSA</th>\n",
              "      <th>WHH</th>\n",
              "      <th>WHD</th>\n",
              "      <th>WHA</th>\n",
              "      <th>VCH</th>\n",
              "      <th>VCD</th>\n",
              "      <th>VCA</th>\n",
              "    </tr>\n",
              "  </thead>\n",
              "  <tbody>\n",
              "    <tr>\n",
              "      <th>0</th>\n",
              "      <td>E0</td>\n",
              "      <td>11/08/2017</td>\n",
              "      <td>Arsenal</td>\n",
              "      <td>Leicester</td>\n",
              "      <td>4</td>\n",
              "      <td>3</td>\n",
              "      <td>H</td>\n",
              "      <td>1.53</td>\n",
              "      <td>4.50</td>\n",
              "      <td>6.50</td>\n",
              "      <td>1.50</td>\n",
              "      <td>4.60</td>\n",
              "      <td>6.75</td>\n",
              "      <td>1.47</td>\n",
              "      <td>4.5</td>\n",
              "      <td>6.50</td>\n",
              "      <td>1.44</td>\n",
              "      <td>4.40</td>\n",
              "      <td>6.50</td>\n",
              "      <td>1.53</td>\n",
              "      <td>4.55</td>\n",
              "      <td>6.85</td>\n",
              "      <td>1.53</td>\n",
              "      <td>4.20</td>\n",
              "      <td>6.00</td>\n",
              "      <td>1.53</td>\n",
              "      <td>4.50</td>\n",
              "      <td>6.50</td>\n",
              "    </tr>\n",
              "    <tr>\n",
              "      <th>1</th>\n",
              "      <td>E0</td>\n",
              "      <td>12/08/2017</td>\n",
              "      <td>Brighton</td>\n",
              "      <td>Man City</td>\n",
              "      <td>0</td>\n",
              "      <td>2</td>\n",
              "      <td>A</td>\n",
              "      <td>11.00</td>\n",
              "      <td>5.50</td>\n",
              "      <td>1.33</td>\n",
              "      <td>11.00</td>\n",
              "      <td>5.25</td>\n",
              "      <td>1.30</td>\n",
              "      <td>8.00</td>\n",
              "      <td>5.3</td>\n",
              "      <td>1.35</td>\n",
              "      <td>10.00</td>\n",
              "      <td>5.00</td>\n",
              "      <td>1.30</td>\n",
              "      <td>10.95</td>\n",
              "      <td>5.55</td>\n",
              "      <td>1.34</td>\n",
              "      <td>10.00</td>\n",
              "      <td>4.80</td>\n",
              "      <td>1.33</td>\n",
              "      <td>10.00</td>\n",
              "      <td>5.50</td>\n",
              "      <td>1.33</td>\n",
              "    </tr>\n",
              "    <tr>\n",
              "      <th>2</th>\n",
              "      <td>E0</td>\n",
              "      <td>12/08/2017</td>\n",
              "      <td>Chelsea</td>\n",
              "      <td>Burnley</td>\n",
              "      <td>2</td>\n",
              "      <td>3</td>\n",
              "      <td>A</td>\n",
              "      <td>1.25</td>\n",
              "      <td>6.50</td>\n",
              "      <td>15.00</td>\n",
              "      <td>1.22</td>\n",
              "      <td>6.50</td>\n",
              "      <td>12.50</td>\n",
              "      <td>1.22</td>\n",
              "      <td>6.2</td>\n",
              "      <td>13.50</td>\n",
              "      <td>1.25</td>\n",
              "      <td>5.75</td>\n",
              "      <td>15.00</td>\n",
              "      <td>1.26</td>\n",
              "      <td>6.30</td>\n",
              "      <td>15.25</td>\n",
              "      <td>1.25</td>\n",
              "      <td>5.50</td>\n",
              "      <td>13.00</td>\n",
              "      <td>1.25</td>\n",
              "      <td>6.25</td>\n",
              "      <td>15.00</td>\n",
              "    </tr>\n",
              "    <tr>\n",
              "      <th>3</th>\n",
              "      <td>E0</td>\n",
              "      <td>12/08/2017</td>\n",
              "      <td>Crystal Palace</td>\n",
              "      <td>Huddersfield</td>\n",
              "      <td>0</td>\n",
              "      <td>3</td>\n",
              "      <td>A</td>\n",
              "      <td>1.83</td>\n",
              "      <td>3.60</td>\n",
              "      <td>5.00</td>\n",
              "      <td>1.80</td>\n",
              "      <td>3.50</td>\n",
              "      <td>4.75</td>\n",
              "      <td>1.85</td>\n",
              "      <td>3.5</td>\n",
              "      <td>4.30</td>\n",
              "      <td>1.80</td>\n",
              "      <td>3.40</td>\n",
              "      <td>4.60</td>\n",
              "      <td>1.83</td>\n",
              "      <td>3.58</td>\n",
              "      <td>5.11</td>\n",
              "      <td>1.80</td>\n",
              "      <td>3.30</td>\n",
              "      <td>5.00</td>\n",
              "      <td>1.83</td>\n",
              "      <td>3.60</td>\n",
              "      <td>5.00</td>\n",
              "    </tr>\n",
              "    <tr>\n",
              "      <th>4</th>\n",
              "      <td>E0</td>\n",
              "      <td>12/08/2017</td>\n",
              "      <td>Everton</td>\n",
              "      <td>Stoke</td>\n",
              "      <td>1</td>\n",
              "      <td>0</td>\n",
              "      <td>H</td>\n",
              "      <td>1.70</td>\n",
              "      <td>3.80</td>\n",
              "      <td>5.75</td>\n",
              "      <td>1.70</td>\n",
              "      <td>3.60</td>\n",
              "      <td>5.50</td>\n",
              "      <td>1.70</td>\n",
              "      <td>3.7</td>\n",
              "      <td>5.00</td>\n",
              "      <td>1.67</td>\n",
              "      <td>3.60</td>\n",
              "      <td>5.25</td>\n",
              "      <td>1.70</td>\n",
              "      <td>3.83</td>\n",
              "      <td>5.81</td>\n",
              "      <td>1.70</td>\n",
              "      <td>3.50</td>\n",
              "      <td>5.50</td>\n",
              "      <td>1.70</td>\n",
              "      <td>3.80</td>\n",
              "      <td>5.75</td>\n",
              "    </tr>\n",
              "    <tr>\n",
              "      <th>...</th>\n",
              "      <td>...</td>\n",
              "      <td>...</td>\n",
              "      <td>...</td>\n",
              "      <td>...</td>\n",
              "      <td>...</td>\n",
              "      <td>...</td>\n",
              "      <td>...</td>\n",
              "      <td>...</td>\n",
              "      <td>...</td>\n",
              "      <td>...</td>\n",
              "      <td>...</td>\n",
              "      <td>...</td>\n",
              "      <td>...</td>\n",
              "      <td>...</td>\n",
              "      <td>...</td>\n",
              "      <td>...</td>\n",
              "      <td>...</td>\n",
              "      <td>...</td>\n",
              "      <td>...</td>\n",
              "      <td>...</td>\n",
              "      <td>...</td>\n",
              "      <td>...</td>\n",
              "      <td>...</td>\n",
              "      <td>...</td>\n",
              "      <td>...</td>\n",
              "      <td>...</td>\n",
              "      <td>...</td>\n",
              "      <td>...</td>\n",
              "    </tr>\n",
              "    <tr>\n",
              "      <th>375</th>\n",
              "      <td>E0</td>\n",
              "      <td>13/05/2018</td>\n",
              "      <td>Newcastle</td>\n",
              "      <td>Chelsea</td>\n",
              "      <td>3</td>\n",
              "      <td>0</td>\n",
              "      <td>H</td>\n",
              "      <td>6.50</td>\n",
              "      <td>4.20</td>\n",
              "      <td>1.60</td>\n",
              "      <td>6.50</td>\n",
              "      <td>4.10</td>\n",
              "      <td>1.53</td>\n",
              "      <td>4.50</td>\n",
              "      <td>4.0</td>\n",
              "      <td>1.70</td>\n",
              "      <td>5.50</td>\n",
              "      <td>3.90</td>\n",
              "      <td>1.60</td>\n",
              "      <td>5.96</td>\n",
              "      <td>4.22</td>\n",
              "      <td>1.61</td>\n",
              "      <td>6.50</td>\n",
              "      <td>4.00</td>\n",
              "      <td>1.57</td>\n",
              "      <td>6.00</td>\n",
              "      <td>4.20</td>\n",
              "      <td>1.60</td>\n",
              "    </tr>\n",
              "    <tr>\n",
              "      <th>376</th>\n",
              "      <td>E0</td>\n",
              "      <td>13/05/2018</td>\n",
              "      <td>Southampton</td>\n",
              "      <td>Man City</td>\n",
              "      <td>0</td>\n",
              "      <td>1</td>\n",
              "      <td>A</td>\n",
              "      <td>9.00</td>\n",
              "      <td>5.00</td>\n",
              "      <td>1.39</td>\n",
              "      <td>7.25</td>\n",
              "      <td>4.75</td>\n",
              "      <td>1.42</td>\n",
              "      <td>7.20</td>\n",
              "      <td>4.4</td>\n",
              "      <td>1.45</td>\n",
              "      <td>7.00</td>\n",
              "      <td>4.60</td>\n",
              "      <td>1.40</td>\n",
              "      <td>8.06</td>\n",
              "      <td>5.11</td>\n",
              "      <td>1.42</td>\n",
              "      <td>8.50</td>\n",
              "      <td>4.50</td>\n",
              "      <td>1.40</td>\n",
              "      <td>7.50</td>\n",
              "      <td>5.00</td>\n",
              "      <td>1.44</td>\n",
              "    </tr>\n",
              "    <tr>\n",
              "      <th>377</th>\n",
              "      <td>E0</td>\n",
              "      <td>13/05/2018</td>\n",
              "      <td>Swansea</td>\n",
              "      <td>Stoke</td>\n",
              "      <td>1</td>\n",
              "      <td>2</td>\n",
              "      <td>A</td>\n",
              "      <td>1.90</td>\n",
              "      <td>3.79</td>\n",
              "      <td>4.20</td>\n",
              "      <td>1.83</td>\n",
              "      <td>3.75</td>\n",
              "      <td>4.25</td>\n",
              "      <td>1.90</td>\n",
              "      <td>3.5</td>\n",
              "      <td>4.10</td>\n",
              "      <td>1.87</td>\n",
              "      <td>3.60</td>\n",
              "      <td>4.00</td>\n",
              "      <td>1.91</td>\n",
              "      <td>3.72</td>\n",
              "      <td>4.29</td>\n",
              "      <td>1.91</td>\n",
              "      <td>3.75</td>\n",
              "      <td>4.00</td>\n",
              "      <td>1.90</td>\n",
              "      <td>3.75</td>\n",
              "      <td>4.20</td>\n",
              "    </tr>\n",
              "    <tr>\n",
              "      <th>378</th>\n",
              "      <td>E0</td>\n",
              "      <td>13/05/2018</td>\n",
              "      <td>Tottenham</td>\n",
              "      <td>Leicester</td>\n",
              "      <td>5</td>\n",
              "      <td>4</td>\n",
              "      <td>H</td>\n",
              "      <td>1.33</td>\n",
              "      <td>6.00</td>\n",
              "      <td>9.00</td>\n",
              "      <td>1.30</td>\n",
              "      <td>5.75</td>\n",
              "      <td>9.25</td>\n",
              "      <td>1.30</td>\n",
              "      <td>5.5</td>\n",
              "      <td>9.50</td>\n",
              "      <td>1.30</td>\n",
              "      <td>5.50</td>\n",
              "      <td>9.50</td>\n",
              "      <td>1.33</td>\n",
              "      <td>5.95</td>\n",
              "      <td>9.56</td>\n",
              "      <td>1.30</td>\n",
              "      <td>6.00</td>\n",
              "      <td>9.00</td>\n",
              "      <td>1.33</td>\n",
              "      <td>5.75</td>\n",
              "      <td>9.50</td>\n",
              "    </tr>\n",
              "    <tr>\n",
              "      <th>379</th>\n",
              "      <td>E0</td>\n",
              "      <td>13/05/2018</td>\n",
              "      <td>West Ham</td>\n",
              "      <td>Everton</td>\n",
              "      <td>3</td>\n",
              "      <td>1</td>\n",
              "      <td>H</td>\n",
              "      <td>2.45</td>\n",
              "      <td>3.50</td>\n",
              "      <td>3.00</td>\n",
              "      <td>2.40</td>\n",
              "      <td>3.40</td>\n",
              "      <td>2.95</td>\n",
              "      <td>2.40</td>\n",
              "      <td>3.3</td>\n",
              "      <td>2.95</td>\n",
              "      <td>2.30</td>\n",
              "      <td>3.40</td>\n",
              "      <td>3.00</td>\n",
              "      <td>2.36</td>\n",
              "      <td>3.51</td>\n",
              "      <td>3.17</td>\n",
              "      <td>2.40</td>\n",
              "      <td>3.30</td>\n",
              "      <td>3.10</td>\n",
              "      <td>2.40</td>\n",
              "      <td>3.50</td>\n",
              "      <td>3.10</td>\n",
              "    </tr>\n",
              "  </tbody>\n",
              "</table>\n",
              "<p>380 rows × 28 columns</p>\n",
              "</div>\n",
              "      <button class=\"colab-df-convert\" onclick=\"convertToInteractive('df-6ce85b6e-42a9-4ed7-87b5-8aa6da45d7a2')\"\n",
              "              title=\"Convert this dataframe to an interactive table.\"\n",
              "              style=\"display:none;\">\n",
              "        \n",
              "  <svg xmlns=\"http://www.w3.org/2000/svg\" height=\"24px\"viewBox=\"0 0 24 24\"\n",
              "       width=\"24px\">\n",
              "    <path d=\"M0 0h24v24H0V0z\" fill=\"none\"/>\n",
              "    <path d=\"M18.56 5.44l.94 2.06.94-2.06 2.06-.94-2.06-.94-.94-2.06-.94 2.06-2.06.94zm-11 1L8.5 8.5l.94-2.06 2.06-.94-2.06-.94L8.5 2.5l-.94 2.06-2.06.94zm10 10l.94 2.06.94-2.06 2.06-.94-2.06-.94-.94-2.06-.94 2.06-2.06.94z\"/><path d=\"M17.41 7.96l-1.37-1.37c-.4-.4-.92-.59-1.43-.59-.52 0-1.04.2-1.43.59L10.3 9.45l-7.72 7.72c-.78.78-.78 2.05 0 2.83L4 21.41c.39.39.9.59 1.41.59.51 0 1.02-.2 1.41-.59l7.78-7.78 2.81-2.81c.8-.78.8-2.07 0-2.86zM5.41 20L4 18.59l7.72-7.72 1.47 1.35L5.41 20z\"/>\n",
              "  </svg>\n",
              "      </button>\n",
              "      \n",
              "  <style>\n",
              "    .colab-df-container {\n",
              "      display:flex;\n",
              "      flex-wrap:wrap;\n",
              "      gap: 12px;\n",
              "    }\n",
              "\n",
              "    .colab-df-convert {\n",
              "      background-color: #E8F0FE;\n",
              "      border: none;\n",
              "      border-radius: 50%;\n",
              "      cursor: pointer;\n",
              "      display: none;\n",
              "      fill: #1967D2;\n",
              "      height: 32px;\n",
              "      padding: 0 0 0 0;\n",
              "      width: 32px;\n",
              "    }\n",
              "\n",
              "    .colab-df-convert:hover {\n",
              "      background-color: #E2EBFA;\n",
              "      box-shadow: 0px 1px 2px rgba(60, 64, 67, 0.3), 0px 1px 3px 1px rgba(60, 64, 67, 0.15);\n",
              "      fill: #174EA6;\n",
              "    }\n",
              "\n",
              "    [theme=dark] .colab-df-convert {\n",
              "      background-color: #3B4455;\n",
              "      fill: #D2E3FC;\n",
              "    }\n",
              "\n",
              "    [theme=dark] .colab-df-convert:hover {\n",
              "      background-color: #434B5C;\n",
              "      box-shadow: 0px 1px 3px 1px rgba(0, 0, 0, 0.15);\n",
              "      filter: drop-shadow(0px 1px 2px rgba(0, 0, 0, 0.3));\n",
              "      fill: #FFFFFF;\n",
              "    }\n",
              "  </style>\n",
              "\n",
              "      <script>\n",
              "        const buttonEl =\n",
              "          document.querySelector('#df-6ce85b6e-42a9-4ed7-87b5-8aa6da45d7a2 button.colab-df-convert');\n",
              "        buttonEl.style.display =\n",
              "          google.colab.kernel.accessAllowed ? 'block' : 'none';\n",
              "\n",
              "        async function convertToInteractive(key) {\n",
              "          const element = document.querySelector('#df-6ce85b6e-42a9-4ed7-87b5-8aa6da45d7a2');\n",
              "          const dataTable =\n",
              "            await google.colab.kernel.invokeFunction('convertToInteractive',\n",
              "                                                     [key], {});\n",
              "          if (!dataTable) return;\n",
              "\n",
              "          const docLinkHtml = 'Like what you see? Visit the ' +\n",
              "            '<a target=\"_blank\" href=https://colab.research.google.com/notebooks/data_table.ipynb>data table notebook</a>'\n",
              "            + ' to learn more about interactive tables.';\n",
              "          element.innerHTML = '';\n",
              "          dataTable['output_type'] = 'display_data';\n",
              "          await google.colab.output.renderOutput(dataTable, element);\n",
              "          const docLink = document.createElement('div');\n",
              "          docLink.innerHTML = docLinkHtml;\n",
              "          element.appendChild(docLink);\n",
              "        }\n",
              "      </script>\n",
              "    </div>\n",
              "  </div>\n",
              "  "
            ],
            "text/plain": [
              "    Div        Date        HomeTeam      AwayTeam  ...    WHA    VCH   VCD    VCA\n",
              "0    E0  11/08/2017         Arsenal     Leicester  ...   6.00   1.53  4.50   6.50\n",
              "1    E0  12/08/2017        Brighton      Man City  ...   1.33  10.00  5.50   1.33\n",
              "2    E0  12/08/2017         Chelsea       Burnley  ...  13.00   1.25  6.25  15.00\n",
              "3    E0  12/08/2017  Crystal Palace  Huddersfield  ...   5.00   1.83  3.60   5.00\n",
              "4    E0  12/08/2017         Everton         Stoke  ...   5.50   1.70  3.80   5.75\n",
              "..   ..         ...             ...           ...  ...    ...    ...   ...    ...\n",
              "375  E0  13/05/2018       Newcastle       Chelsea  ...   1.57   6.00  4.20   1.60\n",
              "376  E0  13/05/2018     Southampton      Man City  ...   1.40   7.50  5.00   1.44\n",
              "377  E0  13/05/2018         Swansea         Stoke  ...   4.00   1.90  3.75   4.20\n",
              "378  E0  13/05/2018       Tottenham     Leicester  ...   9.00   1.33  5.75   9.50\n",
              "379  E0  13/05/2018        West Ham       Everton  ...   3.10   2.40  3.50   3.10\n",
              "\n",
              "[380 rows x 28 columns]"
            ]
          },
          "metadata": {},
          "execution_count": 27
        }
      ]
    },
    {
      "cell_type": "code",
      "source": [
        "lt_odds_home, lt_odds_away,lt_odds_draw = [],[],[]\n",
        "for i in odds_2016_short.columns:\n",
        "  if i.endswith('H'):\n",
        "    lt_odds_home.append(i)\n",
        "  elif i.endswith('D'):\n",
        "    lt_odds_draw.append(i)\n",
        "  elif i.endswith('A'):\n",
        "    lt_odds_away.append(i)"
      ],
      "metadata": {
        "id": "94V0XrZ5AE-9"
      },
      "execution_count": 28,
      "outputs": []
    },
    {
      "cell_type": "markdown",
      "source": [
        "On récupère toutes les cotes d'un même type (extérieur, à domicile, et match nul) afin de trouver une cote moyenne dans chaque catégorie pour tous les matchs. Ainsi nous nous appuyons sur l'intelligence collective des bookmakers plutôt que sur des performances individuelles, comme dans l'article de Lisandro Kaunitz, Shenjun Zhong and Javier Kreiner: Beating the bookies with their own numbers - and how the online sports betting market is rigged. "
      ],
      "metadata": {
        "id": "b0dYNzxp6uba"
      }
    },
    {
      "cell_type": "code",
      "source": [
        "odds_2016_short['odds_home_mean']= odds_2016_short[lt_odds_home].mean(axis=1)"
      ],
      "metadata": {
        "colab": {
          "base_uri": "https://localhost:8080/"
        },
        "id": "TVK67c2KBRsI",
        "outputId": "d49b835d-8e6a-4d45-9cbf-c96db58974b5"
      },
      "execution_count": 29,
      "outputs": [
        {
          "output_type": "stream",
          "name": "stderr",
          "text": [
            "/usr/local/lib/python3.7/dist-packages/ipykernel_launcher.py:1: SettingWithCopyWarning: \n",
            "A value is trying to be set on a copy of a slice from a DataFrame.\n",
            "Try using .loc[row_indexer,col_indexer] = value instead\n",
            "\n",
            "See the caveats in the documentation: https://pandas.pydata.org/pandas-docs/stable/user_guide/indexing.html#returning-a-view-versus-a-copy\n",
            "  \"\"\"Entry point for launching an IPython kernel.\n"
          ]
        }
      ]
    },
    {
      "cell_type": "code",
      "source": [
        "odds_2016_short['odds_away_mean']= odds_2016_short[lt_odds_away].mean(axis=1)\n",
        "odds_2016_short['odds_draw_mean']= odds_2016_short[lt_odds_draw].mean(axis=1)"
      ],
      "metadata": {
        "colab": {
          "base_uri": "https://localhost:8080/"
        },
        "id": "zaL8Am18B2Ng",
        "outputId": "1a17cd88-4e90-4eef-f166-934a6f04f5b9"
      },
      "execution_count": 30,
      "outputs": [
        {
          "output_type": "stream",
          "name": "stderr",
          "text": [
            "/usr/local/lib/python3.7/dist-packages/ipykernel_launcher.py:1: SettingWithCopyWarning: \n",
            "A value is trying to be set on a copy of a slice from a DataFrame.\n",
            "Try using .loc[row_indexer,col_indexer] = value instead\n",
            "\n",
            "See the caveats in the documentation: https://pandas.pydata.org/pandas-docs/stable/user_guide/indexing.html#returning-a-view-versus-a-copy\n",
            "  \"\"\"Entry point for launching an IPython kernel.\n",
            "/usr/local/lib/python3.7/dist-packages/ipykernel_launcher.py:2: SettingWithCopyWarning: \n",
            "A value is trying to be set on a copy of a slice from a DataFrame.\n",
            "Try using .loc[row_indexer,col_indexer] = value instead\n",
            "\n",
            "See the caveats in the documentation: https://pandas.pydata.org/pandas-docs/stable/user_guide/indexing.html#returning-a-view-versus-a-copy\n",
            "  \n"
          ]
        }
      ]
    },
    {
      "cell_type": "code",
      "source": [
        "(1/odds_2016_short[['odds_home_mean','odds_away_mean', 'odds_draw_mean']]).sum(axis=1)"
      ],
      "metadata": {
        "colab": {
          "base_uri": "https://localhost:8080/"
        },
        "id": "vRrdLHFNC7iU",
        "outputId": "8d6ca535-add7-41e4-baf5-ad3f57b84fef"
      },
      "execution_count": 31,
      "outputs": [
        {
          "output_type": "execute_result",
          "data": {
            "text/plain": [
              "0      1.042276\n",
              "1      1.042673\n",
              "2      1.037917\n",
              "3      1.042744\n",
              "4      1.042260\n",
              "         ...   \n",
              "375    1.037864\n",
              "376    1.043894\n",
              "377    1.041236\n",
              "378    1.041932\n",
              "379    1.040777\n",
              "Length: 380, dtype: float64"
            ]
          },
          "metadata": {},
          "execution_count": 31
        }
      ]
    },
    {
      "cell_type": "markdown",
      "source": [
        "La somme de l'inverse des cotes pour un même match devrait normalement,si le jeu n'était pas truqué en faveur des bookmakers, être égal à 1. Nous retrouvons ici facilement une des preuves avancées dans l'article de recherche cité plus haut.  "
      ],
      "metadata": {
        "id": "zc6wjlvw7XkY"
      }
    },
    {
      "cell_type": "code",
      "source": [
        "odds_2016_short['Bookie_pred'] = odds_2016_short[['odds_home_mean','odds_away_mean', 'odds_draw_mean']].min(axis=1)"
      ],
      "metadata": {
        "colab": {
          "base_uri": "https://localhost:8080/"
        },
        "id": "g1qzsyLMEmsT",
        "outputId": "6fc2131b-c2cb-45f0-90c2-7a4b8b98a1f4"
      },
      "execution_count": 32,
      "outputs": [
        {
          "output_type": "stream",
          "name": "stderr",
          "text": [
            "/usr/local/lib/python3.7/dist-packages/ipykernel_launcher.py:1: SettingWithCopyWarning: \n",
            "A value is trying to be set on a copy of a slice from a DataFrame.\n",
            "Try using .loc[row_indexer,col_indexer] = value instead\n",
            "\n",
            "See the caveats in the documentation: https://pandas.pydata.org/pandas-docs/stable/user_guide/indexing.html#returning-a-view-versus-a-copy\n",
            "  \"\"\"Entry point for launching an IPython kernel.\n"
          ]
        }
      ]
    },
    {
      "cell_type": "markdown",
      "source": [
        "On identifie ici le favori des bookmakers afin de vérifier l'accuracy des bookmakers. "
      ],
      "metadata": {
        "id": "excXBdgB7xyC"
      }
    },
    {
      "cell_type": "code",
      "source": [
        "odds_2016_short['Bookie_pred_def'] = odds_2016_short['Bookie_pred']"
      ],
      "metadata": {
        "colab": {
          "base_uri": "https://localhost:8080/"
        },
        "id": "DnlPq9NEGAVW",
        "outputId": "d8600ec4-0e17-41af-fdb3-5f64e4c2c0ca"
      },
      "execution_count": 33,
      "outputs": [
        {
          "output_type": "stream",
          "name": "stderr",
          "text": [
            "/usr/local/lib/python3.7/dist-packages/ipykernel_launcher.py:1: SettingWithCopyWarning: \n",
            "A value is trying to be set on a copy of a slice from a DataFrame.\n",
            "Try using .loc[row_indexer,col_indexer] = value instead\n",
            "\n",
            "See the caveats in the documentation: https://pandas.pydata.org/pandas-docs/stable/user_guide/indexing.html#returning-a-view-versus-a-copy\n",
            "  \"\"\"Entry point for launching an IPython kernel.\n"
          ]
        }
      ]
    },
    {
      "cell_type": "code",
      "source": [
        "odds_2016_short[['Bookie_pred','odds_home_mean','odds_away_mean', 'odds_draw_mean']]"
      ],
      "metadata": {
        "colab": {
          "base_uri": "https://localhost:8080/",
          "height": 424
        },
        "id": "3F_7t5_LFoQo",
        "outputId": "df4c68cf-88c5-42f7-cdf7-7f3bc35f6034"
      },
      "execution_count": 34,
      "outputs": [
        {
          "output_type": "execute_result",
          "data": {
            "text/html": [
              "\n",
              "  <div id=\"df-97f76fc7-e432-42b8-9807-63ab8ede5ad0\">\n",
              "    <div class=\"colab-df-container\">\n",
              "      <div>\n",
              "<style scoped>\n",
              "    .dataframe tbody tr th:only-of-type {\n",
              "        vertical-align: middle;\n",
              "    }\n",
              "\n",
              "    .dataframe tbody tr th {\n",
              "        vertical-align: top;\n",
              "    }\n",
              "\n",
              "    .dataframe thead th {\n",
              "        text-align: right;\n",
              "    }\n",
              "</style>\n",
              "<table border=\"1\" class=\"dataframe\">\n",
              "  <thead>\n",
              "    <tr style=\"text-align: right;\">\n",
              "      <th></th>\n",
              "      <th>Bookie_pred</th>\n",
              "      <th>odds_home_mean</th>\n",
              "      <th>odds_away_mean</th>\n",
              "      <th>odds_draw_mean</th>\n",
              "    </tr>\n",
              "  </thead>\n",
              "  <tbody>\n",
              "    <tr>\n",
              "      <th>0</th>\n",
              "      <td>1.504286</td>\n",
              "      <td>1.504286</td>\n",
              "      <td>6.514286</td>\n",
              "      <td>4.464286</td>\n",
              "    </tr>\n",
              "    <tr>\n",
              "      <th>1</th>\n",
              "      <td>1.325714</td>\n",
              "      <td>10.135714</td>\n",
              "      <td>1.325714</td>\n",
              "      <td>5.271429</td>\n",
              "    </tr>\n",
              "    <tr>\n",
              "      <th>2</th>\n",
              "      <td>1.242857</td>\n",
              "      <td>1.242857</td>\n",
              "      <td>14.178571</td>\n",
              "      <td>6.142857</td>\n",
              "    </tr>\n",
              "    <tr>\n",
              "      <th>3</th>\n",
              "      <td>1.820000</td>\n",
              "      <td>1.820000</td>\n",
              "      <td>4.822857</td>\n",
              "      <td>3.497143</td>\n",
              "    </tr>\n",
              "    <tr>\n",
              "      <th>4</th>\n",
              "      <td>1.695714</td>\n",
              "      <td>1.695714</td>\n",
              "      <td>5.508571</td>\n",
              "      <td>3.690000</td>\n",
              "    </tr>\n",
              "    <tr>\n",
              "      <th>...</th>\n",
              "      <td>...</td>\n",
              "      <td>...</td>\n",
              "      <td>...</td>\n",
              "      <td>...</td>\n",
              "    </tr>\n",
              "    <tr>\n",
              "      <th>375</th>\n",
              "      <td>1.601429</td>\n",
              "      <td>5.922857</td>\n",
              "      <td>1.601429</td>\n",
              "      <td>4.088571</td>\n",
              "    </tr>\n",
              "    <tr>\n",
              "      <th>376</th>\n",
              "      <td>1.417143</td>\n",
              "      <td>7.787143</td>\n",
              "      <td>1.417143</td>\n",
              "      <td>4.765714</td>\n",
              "    </tr>\n",
              "    <tr>\n",
              "      <th>377</th>\n",
              "      <td>1.888571</td>\n",
              "      <td>1.888571</td>\n",
              "      <td>4.148571</td>\n",
              "      <td>3.694286</td>\n",
              "    </tr>\n",
              "    <tr>\n",
              "      <th>378</th>\n",
              "      <td>1.312857</td>\n",
              "      <td>1.312857</td>\n",
              "      <td>9.330000</td>\n",
              "      <td>5.778571</td>\n",
              "    </tr>\n",
              "    <tr>\n",
              "      <th>379</th>\n",
              "      <td>2.387143</td>\n",
              "      <td>2.387143</td>\n",
              "      <td>3.038571</td>\n",
              "      <td>3.415714</td>\n",
              "    </tr>\n",
              "  </tbody>\n",
              "</table>\n",
              "<p>380 rows × 4 columns</p>\n",
              "</div>\n",
              "      <button class=\"colab-df-convert\" onclick=\"convertToInteractive('df-97f76fc7-e432-42b8-9807-63ab8ede5ad0')\"\n",
              "              title=\"Convert this dataframe to an interactive table.\"\n",
              "              style=\"display:none;\">\n",
              "        \n",
              "  <svg xmlns=\"http://www.w3.org/2000/svg\" height=\"24px\"viewBox=\"0 0 24 24\"\n",
              "       width=\"24px\">\n",
              "    <path d=\"M0 0h24v24H0V0z\" fill=\"none\"/>\n",
              "    <path d=\"M18.56 5.44l.94 2.06.94-2.06 2.06-.94-2.06-.94-.94-2.06-.94 2.06-2.06.94zm-11 1L8.5 8.5l.94-2.06 2.06-.94-2.06-.94L8.5 2.5l-.94 2.06-2.06.94zm10 10l.94 2.06.94-2.06 2.06-.94-2.06-.94-.94-2.06-.94 2.06-2.06.94z\"/><path d=\"M17.41 7.96l-1.37-1.37c-.4-.4-.92-.59-1.43-.59-.52 0-1.04.2-1.43.59L10.3 9.45l-7.72 7.72c-.78.78-.78 2.05 0 2.83L4 21.41c.39.39.9.59 1.41.59.51 0 1.02-.2 1.41-.59l7.78-7.78 2.81-2.81c.8-.78.8-2.07 0-2.86zM5.41 20L4 18.59l7.72-7.72 1.47 1.35L5.41 20z\"/>\n",
              "  </svg>\n",
              "      </button>\n",
              "      \n",
              "  <style>\n",
              "    .colab-df-container {\n",
              "      display:flex;\n",
              "      flex-wrap:wrap;\n",
              "      gap: 12px;\n",
              "    }\n",
              "\n",
              "    .colab-df-convert {\n",
              "      background-color: #E8F0FE;\n",
              "      border: none;\n",
              "      border-radius: 50%;\n",
              "      cursor: pointer;\n",
              "      display: none;\n",
              "      fill: #1967D2;\n",
              "      height: 32px;\n",
              "      padding: 0 0 0 0;\n",
              "      width: 32px;\n",
              "    }\n",
              "\n",
              "    .colab-df-convert:hover {\n",
              "      background-color: #E2EBFA;\n",
              "      box-shadow: 0px 1px 2px rgba(60, 64, 67, 0.3), 0px 1px 3px 1px rgba(60, 64, 67, 0.15);\n",
              "      fill: #174EA6;\n",
              "    }\n",
              "\n",
              "    [theme=dark] .colab-df-convert {\n",
              "      background-color: #3B4455;\n",
              "      fill: #D2E3FC;\n",
              "    }\n",
              "\n",
              "    [theme=dark] .colab-df-convert:hover {\n",
              "      background-color: #434B5C;\n",
              "      box-shadow: 0px 1px 3px 1px rgba(0, 0, 0, 0.15);\n",
              "      filter: drop-shadow(0px 1px 2px rgba(0, 0, 0, 0.3));\n",
              "      fill: #FFFFFF;\n",
              "    }\n",
              "  </style>\n",
              "\n",
              "      <script>\n",
              "        const buttonEl =\n",
              "          document.querySelector('#df-97f76fc7-e432-42b8-9807-63ab8ede5ad0 button.colab-df-convert');\n",
              "        buttonEl.style.display =\n",
              "          google.colab.kernel.accessAllowed ? 'block' : 'none';\n",
              "\n",
              "        async function convertToInteractive(key) {\n",
              "          const element = document.querySelector('#df-97f76fc7-e432-42b8-9807-63ab8ede5ad0');\n",
              "          const dataTable =\n",
              "            await google.colab.kernel.invokeFunction('convertToInteractive',\n",
              "                                                     [key], {});\n",
              "          if (!dataTable) return;\n",
              "\n",
              "          const docLinkHtml = 'Like what you see? Visit the ' +\n",
              "            '<a target=\"_blank\" href=https://colab.research.google.com/notebooks/data_table.ipynb>data table notebook</a>'\n",
              "            + ' to learn more about interactive tables.';\n",
              "          element.innerHTML = '';\n",
              "          dataTable['output_type'] = 'display_data';\n",
              "          await google.colab.output.renderOutput(dataTable, element);\n",
              "          const docLink = document.createElement('div');\n",
              "          docLink.innerHTML = docLinkHtml;\n",
              "          element.appendChild(docLink);\n",
              "        }\n",
              "      </script>\n",
              "    </div>\n",
              "  </div>\n",
              "  "
            ],
            "text/plain": [
              "     Bookie_pred  odds_home_mean  odds_away_mean  odds_draw_mean\n",
              "0       1.504286        1.504286        6.514286        4.464286\n",
              "1       1.325714       10.135714        1.325714        5.271429\n",
              "2       1.242857        1.242857       14.178571        6.142857\n",
              "3       1.820000        1.820000        4.822857        3.497143\n",
              "4       1.695714        1.695714        5.508571        3.690000\n",
              "..           ...             ...             ...             ...\n",
              "375     1.601429        5.922857        1.601429        4.088571\n",
              "376     1.417143        7.787143        1.417143        4.765714\n",
              "377     1.888571        1.888571        4.148571        3.694286\n",
              "378     1.312857        1.312857        9.330000        5.778571\n",
              "379     2.387143        2.387143        3.038571        3.415714\n",
              "\n",
              "[380 rows x 4 columns]"
            ]
          },
          "metadata": {},
          "execution_count": 34
        }
      ]
    },
    {
      "cell_type": "code",
      "source": [
        "odds_2016_short['Bookie_pred']"
      ],
      "metadata": {
        "colab": {
          "base_uri": "https://localhost:8080/"
        },
        "id": "aq9FaIML4orf",
        "outputId": "5038fffe-dbff-461b-f572-5781e01266ad"
      },
      "execution_count": 35,
      "outputs": [
        {
          "output_type": "execute_result",
          "data": {
            "text/plain": [
              "0      1.504286\n",
              "1      1.325714\n",
              "2      1.242857\n",
              "3      1.820000\n",
              "4      1.695714\n",
              "         ...   \n",
              "375    1.601429\n",
              "376    1.417143\n",
              "377    1.888571\n",
              "378    1.312857\n",
              "379    2.387143\n",
              "Name: Bookie_pred, Length: 380, dtype: float64"
            ]
          },
          "metadata": {},
          "execution_count": 35
        }
      ]
    },
    {
      "cell_type": "code",
      "source": [
        "for i in range(len(odds_2016_short)):\n",
        "  if odds_2016_short['Bookie_pred'][i] == odds_2016_short['odds_home_mean'][i]:\n",
        "    odds_2016_short['Bookie_pred_def'][i] = 'H'\n",
        "  elif odds_2016_short['Bookie_pred'][i] == odds_2016_short['odds_away_mean'][i]:\n",
        "    odds_2016_short['Bookie_pred_def'][i] = 'A'\n",
        "  elif odds_2016_short['Bookie_pred'][i] == odds_2016_short['odds_draw_mean'][i]:\n",
        "    odds_2016_short['Bookie_pred_def'][i] = 'D'\n",
        "  \n"
      ],
      "metadata": {
        "colab": {
          "base_uri": "https://localhost:8080/"
        },
        "id": "d8lv-O7JFyAf",
        "outputId": "f2662c85-7aca-47e0-f5c0-d85b52af2363"
      },
      "execution_count": 36,
      "outputs": [
        {
          "output_type": "stream",
          "name": "stderr",
          "text": [
            "/usr/local/lib/python3.7/dist-packages/ipykernel_launcher.py:3: SettingWithCopyWarning: \n",
            "A value is trying to be set on a copy of a slice from a DataFrame\n",
            "\n",
            "See the caveats in the documentation: https://pandas.pydata.org/pandas-docs/stable/user_guide/indexing.html#returning-a-view-versus-a-copy\n",
            "  This is separate from the ipykernel package so we can avoid doing imports until\n",
            "/usr/local/lib/python3.7/dist-packages/pandas/core/indexing.py:670: SettingWithCopyWarning: \n",
            "A value is trying to be set on a copy of a slice from a DataFrame\n",
            "\n",
            "See the caveats in the documentation: https://pandas.pydata.org/pandas-docs/stable/user_guide/indexing.html#returning-a-view-versus-a-copy\n",
            "  iloc._setitem_with_indexer(indexer, value)\n",
            "/usr/local/lib/python3.7/dist-packages/pandas/core/series.py:1009: SettingWithCopyWarning: \n",
            "A value is trying to be set on a copy of a slice from a DataFrame\n",
            "\n",
            "See the caveats in the documentation: https://pandas.pydata.org/pandas-docs/stable/user_guide/indexing.html#returning-a-view-versus-a-copy\n",
            "  self.loc[key] = value\n",
            "/usr/local/lib/python3.7/dist-packages/IPython/core/interactiveshell.py:2882: SettingWithCopyWarning: \n",
            "A value is trying to be set on a copy of a slice from a DataFrame\n",
            "\n",
            "See the caveats in the documentation: https://pandas.pydata.org/pandas-docs/stable/user_guide/indexing.html#returning-a-view-versus-a-copy\n",
            "  exec(code_obj, self.user_global_ns, self.user_ns)\n",
            "/usr/local/lib/python3.7/dist-packages/ipykernel_launcher.py:5: SettingWithCopyWarning: \n",
            "A value is trying to be set on a copy of a slice from a DataFrame\n",
            "\n",
            "See the caveats in the documentation: https://pandas.pydata.org/pandas-docs/stable/user_guide/indexing.html#returning-a-view-versus-a-copy\n",
            "  \"\"\"\n"
          ]
        }
      ]
    },
    {
      "cell_type": "code",
      "source": [
        "odds_2016_short[['Bookie_pred','odds_home_mean','odds_away_mean', 'odds_draw_mean','Bookie_pred_def','FTR']]\n"
      ],
      "metadata": {
        "colab": {
          "base_uri": "https://localhost:8080/",
          "height": 424
        },
        "id": "zrd1_c4aGifE",
        "outputId": "50f5a2f8-060b-483b-e24d-a0535395b1c7"
      },
      "execution_count": 37,
      "outputs": [
        {
          "output_type": "execute_result",
          "data": {
            "text/html": [
              "\n",
              "  <div id=\"df-190858de-689c-496e-aee6-164923a154ca\">\n",
              "    <div class=\"colab-df-container\">\n",
              "      <div>\n",
              "<style scoped>\n",
              "    .dataframe tbody tr th:only-of-type {\n",
              "        vertical-align: middle;\n",
              "    }\n",
              "\n",
              "    .dataframe tbody tr th {\n",
              "        vertical-align: top;\n",
              "    }\n",
              "\n",
              "    .dataframe thead th {\n",
              "        text-align: right;\n",
              "    }\n",
              "</style>\n",
              "<table border=\"1\" class=\"dataframe\">\n",
              "  <thead>\n",
              "    <tr style=\"text-align: right;\">\n",
              "      <th></th>\n",
              "      <th>Bookie_pred</th>\n",
              "      <th>odds_home_mean</th>\n",
              "      <th>odds_away_mean</th>\n",
              "      <th>odds_draw_mean</th>\n",
              "      <th>Bookie_pred_def</th>\n",
              "      <th>FTR</th>\n",
              "    </tr>\n",
              "  </thead>\n",
              "  <tbody>\n",
              "    <tr>\n",
              "      <th>0</th>\n",
              "      <td>1.504286</td>\n",
              "      <td>1.504286</td>\n",
              "      <td>6.514286</td>\n",
              "      <td>4.464286</td>\n",
              "      <td>H</td>\n",
              "      <td>H</td>\n",
              "    </tr>\n",
              "    <tr>\n",
              "      <th>1</th>\n",
              "      <td>1.325714</td>\n",
              "      <td>10.135714</td>\n",
              "      <td>1.325714</td>\n",
              "      <td>5.271429</td>\n",
              "      <td>A</td>\n",
              "      <td>A</td>\n",
              "    </tr>\n",
              "    <tr>\n",
              "      <th>2</th>\n",
              "      <td>1.242857</td>\n",
              "      <td>1.242857</td>\n",
              "      <td>14.178571</td>\n",
              "      <td>6.142857</td>\n",
              "      <td>H</td>\n",
              "      <td>A</td>\n",
              "    </tr>\n",
              "    <tr>\n",
              "      <th>3</th>\n",
              "      <td>1.820000</td>\n",
              "      <td>1.820000</td>\n",
              "      <td>4.822857</td>\n",
              "      <td>3.497143</td>\n",
              "      <td>H</td>\n",
              "      <td>A</td>\n",
              "    </tr>\n",
              "    <tr>\n",
              "      <th>4</th>\n",
              "      <td>1.695714</td>\n",
              "      <td>1.695714</td>\n",
              "      <td>5.508571</td>\n",
              "      <td>3.690000</td>\n",
              "      <td>H</td>\n",
              "      <td>H</td>\n",
              "    </tr>\n",
              "    <tr>\n",
              "      <th>...</th>\n",
              "      <td>...</td>\n",
              "      <td>...</td>\n",
              "      <td>...</td>\n",
              "      <td>...</td>\n",
              "      <td>...</td>\n",
              "      <td>...</td>\n",
              "    </tr>\n",
              "    <tr>\n",
              "      <th>375</th>\n",
              "      <td>1.601429</td>\n",
              "      <td>5.922857</td>\n",
              "      <td>1.601429</td>\n",
              "      <td>4.088571</td>\n",
              "      <td>A</td>\n",
              "      <td>H</td>\n",
              "    </tr>\n",
              "    <tr>\n",
              "      <th>376</th>\n",
              "      <td>1.417143</td>\n",
              "      <td>7.787143</td>\n",
              "      <td>1.417143</td>\n",
              "      <td>4.765714</td>\n",
              "      <td>A</td>\n",
              "      <td>A</td>\n",
              "    </tr>\n",
              "    <tr>\n",
              "      <th>377</th>\n",
              "      <td>1.888571</td>\n",
              "      <td>1.888571</td>\n",
              "      <td>4.148571</td>\n",
              "      <td>3.694286</td>\n",
              "      <td>H</td>\n",
              "      <td>A</td>\n",
              "    </tr>\n",
              "    <tr>\n",
              "      <th>378</th>\n",
              "      <td>1.312857</td>\n",
              "      <td>1.312857</td>\n",
              "      <td>9.330000</td>\n",
              "      <td>5.778571</td>\n",
              "      <td>H</td>\n",
              "      <td>H</td>\n",
              "    </tr>\n",
              "    <tr>\n",
              "      <th>379</th>\n",
              "      <td>2.387143</td>\n",
              "      <td>2.387143</td>\n",
              "      <td>3.038571</td>\n",
              "      <td>3.415714</td>\n",
              "      <td>H</td>\n",
              "      <td>H</td>\n",
              "    </tr>\n",
              "  </tbody>\n",
              "</table>\n",
              "<p>380 rows × 6 columns</p>\n",
              "</div>\n",
              "      <button class=\"colab-df-convert\" onclick=\"convertToInteractive('df-190858de-689c-496e-aee6-164923a154ca')\"\n",
              "              title=\"Convert this dataframe to an interactive table.\"\n",
              "              style=\"display:none;\">\n",
              "        \n",
              "  <svg xmlns=\"http://www.w3.org/2000/svg\" height=\"24px\"viewBox=\"0 0 24 24\"\n",
              "       width=\"24px\">\n",
              "    <path d=\"M0 0h24v24H0V0z\" fill=\"none\"/>\n",
              "    <path d=\"M18.56 5.44l.94 2.06.94-2.06 2.06-.94-2.06-.94-.94-2.06-.94 2.06-2.06.94zm-11 1L8.5 8.5l.94-2.06 2.06-.94-2.06-.94L8.5 2.5l-.94 2.06-2.06.94zm10 10l.94 2.06.94-2.06 2.06-.94-2.06-.94-.94-2.06-.94 2.06-2.06.94z\"/><path d=\"M17.41 7.96l-1.37-1.37c-.4-.4-.92-.59-1.43-.59-.52 0-1.04.2-1.43.59L10.3 9.45l-7.72 7.72c-.78.78-.78 2.05 0 2.83L4 21.41c.39.39.9.59 1.41.59.51 0 1.02-.2 1.41-.59l7.78-7.78 2.81-2.81c.8-.78.8-2.07 0-2.86zM5.41 20L4 18.59l7.72-7.72 1.47 1.35L5.41 20z\"/>\n",
              "  </svg>\n",
              "      </button>\n",
              "      \n",
              "  <style>\n",
              "    .colab-df-container {\n",
              "      display:flex;\n",
              "      flex-wrap:wrap;\n",
              "      gap: 12px;\n",
              "    }\n",
              "\n",
              "    .colab-df-convert {\n",
              "      background-color: #E8F0FE;\n",
              "      border: none;\n",
              "      border-radius: 50%;\n",
              "      cursor: pointer;\n",
              "      display: none;\n",
              "      fill: #1967D2;\n",
              "      height: 32px;\n",
              "      padding: 0 0 0 0;\n",
              "      width: 32px;\n",
              "    }\n",
              "\n",
              "    .colab-df-convert:hover {\n",
              "      background-color: #E2EBFA;\n",
              "      box-shadow: 0px 1px 2px rgba(60, 64, 67, 0.3), 0px 1px 3px 1px rgba(60, 64, 67, 0.15);\n",
              "      fill: #174EA6;\n",
              "    }\n",
              "\n",
              "    [theme=dark] .colab-df-convert {\n",
              "      background-color: #3B4455;\n",
              "      fill: #D2E3FC;\n",
              "    }\n",
              "\n",
              "    [theme=dark] .colab-df-convert:hover {\n",
              "      background-color: #434B5C;\n",
              "      box-shadow: 0px 1px 3px 1px rgba(0, 0, 0, 0.15);\n",
              "      filter: drop-shadow(0px 1px 2px rgba(0, 0, 0, 0.3));\n",
              "      fill: #FFFFFF;\n",
              "    }\n",
              "  </style>\n",
              "\n",
              "      <script>\n",
              "        const buttonEl =\n",
              "          document.querySelector('#df-190858de-689c-496e-aee6-164923a154ca button.colab-df-convert');\n",
              "        buttonEl.style.display =\n",
              "          google.colab.kernel.accessAllowed ? 'block' : 'none';\n",
              "\n",
              "        async function convertToInteractive(key) {\n",
              "          const element = document.querySelector('#df-190858de-689c-496e-aee6-164923a154ca');\n",
              "          const dataTable =\n",
              "            await google.colab.kernel.invokeFunction('convertToInteractive',\n",
              "                                                     [key], {});\n",
              "          if (!dataTable) return;\n",
              "\n",
              "          const docLinkHtml = 'Like what you see? Visit the ' +\n",
              "            '<a target=\"_blank\" href=https://colab.research.google.com/notebooks/data_table.ipynb>data table notebook</a>'\n",
              "            + ' to learn more about interactive tables.';\n",
              "          element.innerHTML = '';\n",
              "          dataTable['output_type'] = 'display_data';\n",
              "          await google.colab.output.renderOutput(dataTable, element);\n",
              "          const docLink = document.createElement('div');\n",
              "          docLink.innerHTML = docLinkHtml;\n",
              "          element.appendChild(docLink);\n",
              "        }\n",
              "      </script>\n",
              "    </div>\n",
              "  </div>\n",
              "  "
            ],
            "text/plain": [
              "     Bookie_pred  odds_home_mean  ...  Bookie_pred_def  FTR\n",
              "0       1.504286        1.504286  ...                H    H\n",
              "1       1.325714       10.135714  ...                A    A\n",
              "2       1.242857        1.242857  ...                H    A\n",
              "3       1.820000        1.820000  ...                H    A\n",
              "4       1.695714        1.695714  ...                H    H\n",
              "..           ...             ...  ...              ...  ...\n",
              "375     1.601429        5.922857  ...                A    H\n",
              "376     1.417143        7.787143  ...                A    A\n",
              "377     1.888571        1.888571  ...                H    A\n",
              "378     1.312857        1.312857  ...                H    H\n",
              "379     2.387143        2.387143  ...                H    H\n",
              "\n",
              "[380 rows x 6 columns]"
            ]
          },
          "metadata": {},
          "execution_count": 37
        }
      ]
    },
    {
      "cell_type": "markdown",
      "source": [
        "On fait exactement la même chose pour l'underdog."
      ],
      "metadata": {
        "id": "goYrTJwS8AM6"
      }
    },
    {
      "cell_type": "code",
      "source": [
        "odds_2016_short['Bookie_underdog'] = (odds_2016_short[['odds_home_mean','odds_away_mean','odds_draw_mean']]).max(axis =1 )"
      ],
      "metadata": {
        "colab": {
          "base_uri": "https://localhost:8080/"
        },
        "id": "YIGqb6Pgm4MW",
        "outputId": "82c52b5b-a01e-4940-941b-994b8d0b271e"
      },
      "execution_count": 38,
      "outputs": [
        {
          "output_type": "stream",
          "name": "stderr",
          "text": [
            "/usr/local/lib/python3.7/dist-packages/ipykernel_launcher.py:1: SettingWithCopyWarning: \n",
            "A value is trying to be set on a copy of a slice from a DataFrame.\n",
            "Try using .loc[row_indexer,col_indexer] = value instead\n",
            "\n",
            "See the caveats in the documentation: https://pandas.pydata.org/pandas-docs/stable/user_guide/indexing.html#returning-a-view-versus-a-copy\n",
            "  \"\"\"Entry point for launching an IPython kernel.\n"
          ]
        }
      ]
    },
    {
      "cell_type": "code",
      "source": [
        "odds_2016_short['Bookie_underdog']"
      ],
      "metadata": {
        "colab": {
          "base_uri": "https://localhost:8080/"
        },
        "id": "TvwSa_jdndnd",
        "outputId": "1b910636-b5d2-485d-ab23-46721cd0f144"
      },
      "execution_count": 39,
      "outputs": [
        {
          "output_type": "execute_result",
          "data": {
            "text/plain": [
              "0       6.514286\n",
              "1      10.135714\n",
              "2      14.178571\n",
              "3       4.822857\n",
              "4       5.508571\n",
              "         ...    \n",
              "375     5.922857\n",
              "376     7.787143\n",
              "377     4.148571\n",
              "378     9.330000\n",
              "379     3.415714\n",
              "Name: Bookie_underdog, Length: 380, dtype: float64"
            ]
          },
          "metadata": {},
          "execution_count": 39
        }
      ]
    },
    {
      "cell_type": "code",
      "source": [
        "odds_2016_short['Bookie_fav'] = (odds_2016_short[['odds_home_mean','odds_away_mean','odds_draw_mean']]).min(axis =1 )"
      ],
      "metadata": {
        "colab": {
          "base_uri": "https://localhost:8080/"
        },
        "id": "t7DFVeh-npDx",
        "outputId": "8ace98a0-a6b4-4933-8f6c-5c13a18be8b7"
      },
      "execution_count": 40,
      "outputs": [
        {
          "output_type": "stream",
          "name": "stderr",
          "text": [
            "/usr/local/lib/python3.7/dist-packages/ipykernel_launcher.py:1: SettingWithCopyWarning: \n",
            "A value is trying to be set on a copy of a slice from a DataFrame.\n",
            "Try using .loc[row_indexer,col_indexer] = value instead\n",
            "\n",
            "See the caveats in the documentation: https://pandas.pydata.org/pandas-docs/stable/user_guide/indexing.html#returning-a-view-versus-a-copy\n",
            "  \"\"\"Entry point for launching an IPython kernel.\n"
          ]
        }
      ]
    },
    {
      "cell_type": "code",
      "source": [
        "odds_2016_short['Bookie_pred_underdog'] = odds_2016_short['Bookie_pred']\n",
        "for i in range(len(odds_2016_short)):\n",
        "  if odds_2016_short['Bookie_underdog'][i] == odds_2016_short['odds_home_mean'][i]:\n",
        "    odds_2016_short['Bookie_pred_underdog'][i] = 'H'\n",
        "  elif odds_2016_short['Bookie_underdog'][i] == odds_2016_short['odds_away_mean'][i]:\n",
        "    odds_2016_short['Bookie_pred_underdog'][i] = 'A'\n",
        "  elif odds_2016_short['Bookie_underdog'][i] == odds_2016_short['odds_draw_mean'][i]:\n",
        "    odds_2016_short['Bookie_pred_underdog'][i] = 'D'"
      ],
      "metadata": {
        "colab": {
          "base_uri": "https://localhost:8080/"
        },
        "id": "kxZ5dEtPnyXs",
        "outputId": "88c7e60d-b794-4d51-e94c-d3a1b1c1d84e"
      },
      "execution_count": 41,
      "outputs": [
        {
          "output_type": "stream",
          "name": "stderr",
          "text": [
            "/usr/local/lib/python3.7/dist-packages/ipykernel_launcher.py:1: SettingWithCopyWarning: \n",
            "A value is trying to be set on a copy of a slice from a DataFrame.\n",
            "Try using .loc[row_indexer,col_indexer] = value instead\n",
            "\n",
            "See the caveats in the documentation: https://pandas.pydata.org/pandas-docs/stable/user_guide/indexing.html#returning-a-view-versus-a-copy\n",
            "  \"\"\"Entry point for launching an IPython kernel.\n",
            "/usr/local/lib/python3.7/dist-packages/ipykernel_launcher.py:6: SettingWithCopyWarning: \n",
            "A value is trying to be set on a copy of a slice from a DataFrame\n",
            "\n",
            "See the caveats in the documentation: https://pandas.pydata.org/pandas-docs/stable/user_guide/indexing.html#returning-a-view-versus-a-copy\n",
            "  \n",
            "/usr/local/lib/python3.7/dist-packages/pandas/core/indexing.py:670: SettingWithCopyWarning: \n",
            "A value is trying to be set on a copy of a slice from a DataFrame\n",
            "\n",
            "See the caveats in the documentation: https://pandas.pydata.org/pandas-docs/stable/user_guide/indexing.html#returning-a-view-versus-a-copy\n",
            "  iloc._setitem_with_indexer(indexer, value)\n",
            "/usr/local/lib/python3.7/dist-packages/pandas/core/series.py:1009: SettingWithCopyWarning: \n",
            "A value is trying to be set on a copy of a slice from a DataFrame\n",
            "\n",
            "See the caveats in the documentation: https://pandas.pydata.org/pandas-docs/stable/user_guide/indexing.html#returning-a-view-versus-a-copy\n",
            "  self.loc[key] = value\n",
            "/usr/local/lib/python3.7/dist-packages/IPython/core/interactiveshell.py:2882: SettingWithCopyWarning: \n",
            "A value is trying to be set on a copy of a slice from a DataFrame\n",
            "\n",
            "See the caveats in the documentation: https://pandas.pydata.org/pandas-docs/stable/user_guide/indexing.html#returning-a-view-versus-a-copy\n",
            "  exec(code_obj, self.user_global_ns, self.user_ns)\n",
            "/usr/local/lib/python3.7/dist-packages/ipykernel_launcher.py:4: SettingWithCopyWarning: \n",
            "A value is trying to be set on a copy of a slice from a DataFrame\n",
            "\n",
            "See the caveats in the documentation: https://pandas.pydata.org/pandas-docs/stable/user_guide/indexing.html#returning-a-view-versus-a-copy\n",
            "  after removing the cwd from sys.path.\n",
            "/usr/local/lib/python3.7/dist-packages/ipykernel_launcher.py:8: SettingWithCopyWarning: \n",
            "A value is trying to be set on a copy of a slice from a DataFrame\n",
            "\n",
            "See the caveats in the documentation: https://pandas.pydata.org/pandas-docs/stable/user_guide/indexing.html#returning-a-view-versus-a-copy\n",
            "  \n"
          ]
        }
      ]
    },
    {
      "cell_type": "code",
      "source": [
        "odds_2016_short['Bookie_pred_fav'] = odds_2016_short['Bookie_pred']\n",
        "for i in range(len(odds_2016_short)):\n",
        "  if odds_2016_short['Bookie_fav'][i] == odds_2016_short['odds_home_mean'][i]:\n",
        "    odds_2016_short['Bookie_pred_fav'][i] = 'H'\n",
        "  elif odds_2016_short['Bookie_fav'][i] == odds_2016_short['odds_away_mean'][i]:\n",
        "    odds_2016_short['Bookie_pred_fav'][i] = 'A'\n",
        "  elif odds_2016_short['Bookie_fav'][i] == odds_2016_short['odds_draw_mean'][i]:\n",
        "    odds_2016_short['Bookie_pred_fav'][i] = 'D'"
      ],
      "metadata": {
        "colab": {
          "base_uri": "https://localhost:8080/"
        },
        "id": "0_5WwxNBoZYi",
        "outputId": "c417dfd2-0ba2-45f4-a73a-b67af46dae82"
      },
      "execution_count": 42,
      "outputs": [
        {
          "output_type": "stream",
          "name": "stderr",
          "text": [
            "/usr/local/lib/python3.7/dist-packages/ipykernel_launcher.py:1: SettingWithCopyWarning: \n",
            "A value is trying to be set on a copy of a slice from a DataFrame.\n",
            "Try using .loc[row_indexer,col_indexer] = value instead\n",
            "\n",
            "See the caveats in the documentation: https://pandas.pydata.org/pandas-docs/stable/user_guide/indexing.html#returning-a-view-versus-a-copy\n",
            "  \"\"\"Entry point for launching an IPython kernel.\n",
            "/usr/local/lib/python3.7/dist-packages/ipykernel_launcher.py:4: SettingWithCopyWarning: \n",
            "A value is trying to be set on a copy of a slice from a DataFrame\n",
            "\n",
            "See the caveats in the documentation: https://pandas.pydata.org/pandas-docs/stable/user_guide/indexing.html#returning-a-view-versus-a-copy\n",
            "  after removing the cwd from sys.path.\n",
            "/usr/local/lib/python3.7/dist-packages/pandas/core/indexing.py:670: SettingWithCopyWarning: \n",
            "A value is trying to be set on a copy of a slice from a DataFrame\n",
            "\n",
            "See the caveats in the documentation: https://pandas.pydata.org/pandas-docs/stable/user_guide/indexing.html#returning-a-view-versus-a-copy\n",
            "  iloc._setitem_with_indexer(indexer, value)\n",
            "/usr/local/lib/python3.7/dist-packages/pandas/core/series.py:1009: SettingWithCopyWarning: \n",
            "A value is trying to be set on a copy of a slice from a DataFrame\n",
            "\n",
            "See the caveats in the documentation: https://pandas.pydata.org/pandas-docs/stable/user_guide/indexing.html#returning-a-view-versus-a-copy\n",
            "  self.loc[key] = value\n",
            "/usr/local/lib/python3.7/dist-packages/IPython/core/interactiveshell.py:2882: SettingWithCopyWarning: \n",
            "A value is trying to be set on a copy of a slice from a DataFrame\n",
            "\n",
            "See the caveats in the documentation: https://pandas.pydata.org/pandas-docs/stable/user_guide/indexing.html#returning-a-view-versus-a-copy\n",
            "  exec(code_obj, self.user_global_ns, self.user_ns)\n",
            "/usr/local/lib/python3.7/dist-packages/ipykernel_launcher.py:6: SettingWithCopyWarning: \n",
            "A value is trying to be set on a copy of a slice from a DataFrame\n",
            "\n",
            "See the caveats in the documentation: https://pandas.pydata.org/pandas-docs/stable/user_guide/indexing.html#returning-a-view-versus-a-copy\n",
            "  \n"
          ]
        }
      ]
    },
    {
      "cell_type": "code",
      "source": [
        "(odds_2016_short['FTR'] == odds_2016_short['Bookie_pred_def']).sum()/380\n",
        "#55% accuracy moyenne des bookmakers !!!"
      ],
      "metadata": {
        "colab": {
          "base_uri": "https://localhost:8080/"
        },
        "id": "kxa7zv7LGr_t",
        "outputId": "62f8dd8b-85f5-4bb1-907a-0e68530007f1"
      },
      "execution_count": 43,
      "outputs": [
        {
          "output_type": "execute_result",
          "data": {
            "text/plain": [
              "0.5526315789473685"
            ]
          },
          "metadata": {},
          "execution_count": 43
        }
      ]
    },
    {
      "cell_type": "code",
      "source": [
        "len(pd.merge(odds_2016_short['FTR'][odds_2016_short.FTR =='H'],odds_2016_short['Bookie_pred_def'][odds_2016_short.Bookie_pred_def == 'H'] ,\n",
        "             how='inner', left_index= True, right_index = True))/ len(odds_2016_short['FTR'][odds_2016_short.FTR =='H'])\n",
        "#Accuracy de la moyenne des bookmakers pour les matchs à domicile "
      ],
      "metadata": {
        "colab": {
          "base_uri": "https://localhost:8080/"
        },
        "id": "BrefGLUlXqUh",
        "outputId": "98fc1ee6-5208-4a82-e4d0-8a6cf381ba40"
      },
      "execution_count": 44,
      "outputs": [
        {
          "output_type": "execute_result",
          "data": {
            "text/plain": [
              "0.8670520231213873"
            ]
          },
          "metadata": {},
          "execution_count": 44
        }
      ]
    },
    {
      "cell_type": "code",
      "source": [
        "len(pd.merge(odds_2016_short['FTR'][odds_2016_short.FTR =='A'],odds_2016_short['Bookie_pred_def'][odds_2016_short.Bookie_pred_def == 'A'] ,\n",
        "             how='inner', left_index= True, right_index = True))/ len(odds_2016_short['FTR'][odds_2016_short.FTR =='A'])\n",
        "#Accuracy de la moyenne des bookmakers pour les matchs à l'extérieur             "
      ],
      "metadata": {
        "colab": {
          "base_uri": "https://localhost:8080/"
        },
        "id": "zSxrsqXsYaN0",
        "outputId": "5ba3bf7a-a07d-48ae-b75e-bf5e8608bad7"
      },
      "execution_count": 45,
      "outputs": [
        {
          "output_type": "execute_result",
          "data": {
            "text/plain": [
              "0.5555555555555556"
            ]
          },
          "metadata": {},
          "execution_count": 45
        }
      ]
    },
    {
      "cell_type": "code",
      "source": [
        "len(pd.merge(odds_2016_short['FTR'][odds_2016_short.FTR =='D'],odds_2016_short['Bookie_pred_def'][odds_2016_short.Bookie_pred_def == 'D'] ,\n",
        "             how='inner', left_index= True, right_index = True))/ len(odds_2016_short['FTR'][odds_2016_short.FTR =='D'])\n",
        "#Accuracy de la moyenne des bookmakers pour les matchs nuls"
      ],
      "metadata": {
        "colab": {
          "base_uri": "https://localhost:8080/"
        },
        "id": "ynW7c0j9YnUV",
        "outputId": "59550e15-c211-4b2a-efd1-f8ae796aaf78"
      },
      "execution_count": 46,
      "outputs": [
        {
          "output_type": "execute_result",
          "data": {
            "text/plain": [
              "0.0"
            ]
          },
          "metadata": {},
          "execution_count": 46
        }
      ]
    },
    {
      "cell_type": "markdown",
      "source": [
        "On trace la matrice de confusion des bookmakers: on voit que les bookmakers sont particulièrement performants sur les matc hs à l'extérieur, et plutot bon à domicile. En revanche, ils ne parviennent jamais à prédire correctement un match nul, ce qui pôurrait s'expliquer par des considérations économiques en plus de sportives, personne n'a envie de parier sur le match nul (ce n'est pas assez 'fun'). \n"
      ],
      "metadata": {
        "id": "vly8V1QX8Zaz"
      }
    },
    {
      "cell_type": "code",
      "source": [
        "from sklearn.metrics import confusion_matrix\n",
        "import pylab as pl\n",
        "import seaborn as sns\n",
        "import matplotlib.pyplot as plt     \n",
        "\n",
        "y_true = odds_2016_short['FTR']\n",
        "y_pred = odds_2016_short['Bookie_pred_def']\n",
        "\n",
        "cm = confusion_matrix(y_true, y_pred)\n",
        "#cm = cm.astype('float') / cm.sum(axis=1)[:, np.newaxis]\n",
        "plt.figure(figsize= (15,15))\n",
        "ax= plt.subplot()\n",
        "sns.heatmap(cm, annot=True, fmt='g', ax=ax);  #annot=True to annotate cells, ftm='g' to disable scientific notation\n",
        "\n",
        "# labels, title and ticks\n",
        "ax.set_xlabel('Predicted labels');ax.set_ylabel('True labels'); \n",
        "ax.set_title('Confusion Matrix'); \n",
        "ax.xaxis.set_ticklabels(['Home','Draw', 'Away']); ax.yaxis.set_ticklabels(['Home','Draw', 'Away']);"
      ],
      "metadata": {
        "colab": {
          "base_uri": "https://localhost:8080/",
          "height": 893
        },
        "id": "AK6tcXvdbkFH",
        "outputId": "16b9e782-1bdb-4f1c-de24-ae7eaff736ac"
      },
      "execution_count": 47,
      "outputs": [
        {
          "output_type": "display_data",
          "data": {
            "image/png": "[encoded data removed]",
            "text/plain": [
              "<Figure size 1080x1080 with 2 Axes>"
            ]
          },
          "metadata": {
            "needs_background": "light"
          }
        }
      ]
    },
    {
      "cell_type": "markdown",
      "source": [
        "On introduit une stratégie de paris tq on parie toujours un pourcentage de ce qu'il nous reste. Ainsi il est impossible de perdre plus que sa mise de départ. Ici on part de 100 et on mise 5% à chaque fois. "
      ],
      "metadata": {
        "id": "rkKI0zMe97uQ"
      }
    },
    {
      "cell_type": "code",
      "source": [
        "#Strategy betting on the mean\n",
        "x = input('Quel est votre bankroll? ')\n",
        "y = input('Quel est le pourcentage maximum que vous êtes pret à perdre? ')\n",
        "x,y = int(x),float(y)\n",
        "lt_bet = [x]\n",
        "z = x\n",
        "for i in range(len(odds_2016_short)):\n",
        "    \n",
        "        \n",
        "            if odds_2016_short['Bookie_pred_def'].iloc[i] == odds_2016_short['FTR'].iloc[i]:\n",
        "                \n",
        "                    x = x + ((x*y)*odds_2016_short['Bookie_pred'].iloc[i]-x*y)\n",
        "                    lt_bet.append(x)\n",
        "            elif odds_2016_short['Bookie_pred_def'].iloc[i] != odds_2016_short['FTR'].iloc[i] and x >=0 :\n",
        "              x = x - (x*y)\n",
        "              lt_bet.append(x)\n",
        "            elif odds_2016_short['Bookie_pred_def'].iloc[i] != odds_2016_short['FTR'].iloc[i] and x<0 :\n",
        "                    z = input('Vous avez tout perdu, combien remettez vous?:')\n",
        "                    y = input('Quel est le pourcentage maximum que vous êtes pret à perdre? ')\n",
        "                    z = int(z)\n",
        "                    y = float(y)\n",
        "                    x = z\n",
        "                    while z<0:\n",
        "                        z = input('Vous avez tout perdu, combien remettez vous?:')\n",
        "                        z = int(z)\n",
        "                        y = input('Quel est le pourcentage maximum que vous êtes pret à perdre? ')\n",
        "                        y = float(y)\n",
        "                    x= x - (x*y)\n",
        "                    \n",
        "         \n",
        "plt.figure(figsize=(10,10))                  \n",
        "plt.plot(lt_bet)\n",
        "plt.title('Evolution de la bankroll en fonction des matchs')\n",
        "plt.xlabel('Nombre de matchs')\n",
        "plt.ylabel('Euros')\n"
      ],
      "metadata": {
        "colab": {
          "base_uri": "https://localhost:8080/",
          "height": 673
        },
        "id": "aUoz4CeCj_vI",
        "outputId": "1af2d7a1-509e-4710-d942-2a20a6974ca0"
      },
      "execution_count": 51,
      "outputs": [
        {
          "name": "stdout",
          "output_type": "stream",
          "text": [
            "Quel est votre bankroll? 100\n",
            "Quel est le pourcentage maximum que vous êtes pret à perdre? 0.05\n"
          ]
        },
        {
          "output_type": "execute_result",
          "data": {
            "text/plain": [
              "Text(0, 0.5, 'Euros')"
            ]
          },
          "metadata": {},
          "execution_count": 51
        },
        {
          "output_type": "display_data",
          "data": {
            "image/png": "[encoded data removed]",
            "text/plain": [
              "<Figure size 720x720 with 1 Axes>"
            ]
          },
          "metadata": {
            "needs_background": "light"
          }
        }
      ]
    },
    {
      "cell_type": "code",
      "source": [
        "#Strategy betting on the underdog\n",
        "x = input('Quel est votre bankroll? ')\n",
        "y = input('Quel est le pourcentage maximum que vous êtes pret à perdre? ')\n",
        "x,y = int(x),float(y)\n",
        "lt_bet = [x]\n",
        "z = x\n",
        "for i in range(len(odds_2016_short)):\n",
        "    \n",
        "        \n",
        "            if odds_2016_short['Bookie_pred_underdog'].iloc[i] == odds_2016_short['FTR'].iloc[i]:\n",
        "                \n",
        "                    x = x + ((x*y)*odds_2016_short['Bookie_underdog'].iloc[i]-x*y)\n",
        "                    lt_bet.append(x)\n",
        "            elif odds_2016_short['Bookie_pred_underdog'].iloc[i] != odds_2016_short['FTR'].iloc[i] and x >=0 :\n",
        "              x = x - (x*y)\n",
        "              lt_bet.append(x)\n",
        "            elif odds_2016_short['Bookie_pred_underdog'].iloc[i] != odds_2016_short['FTR'].iloc[i] and x<0 :\n",
        "                    z = input('Vous avez tout perdu, combien remettez v0ous?:')\n",
        "                    y = input('Quel est le pourcentage maximum que vous êtes pret à perdre? ')\n",
        "                    z = int(z)\n",
        "                    y = float(y)\n",
        "                    x = z\n",
        "                    while z<0:\n",
        "                        z = input('Vous avez tout perdu, combien remettez vous?:')\n",
        "                        z = int(z)\n",
        "                        y = input('Quel est le pourcentage maximum que vous êtes pret à perdre? ')\n",
        "                        y = float(y)\n",
        "                    x= x - (x*y)\n",
        "                    \n",
        "         \n",
        "plt.figure(figsize=(10,10))                       \n",
        "plt.plot(lt_bet)\n",
        "plt.title('Evolution de la bankroll en fonction des matchs')\n",
        "plt.xlabel('Nombre de matchs')\n",
        "plt.ylabel('Euros')\n"
      ],
      "metadata": {
        "colab": {
          "base_uri": "https://localhost:8080/",
          "height": 673
        },
        "id": "cGW4sD9son-L",
        "outputId": "5f83ed16-9f14-4fdd-9f79-581dffebe0df"
      },
      "execution_count": 52,
      "outputs": [
        {
          "name": "stdout",
          "output_type": "stream",
          "text": [
            "Quel est votre bankroll? 100\n",
            "Quel est le pourcentage maximum que vous êtes pret à perdre? 0.05\n"
          ]
        },
        {
          "output_type": "execute_result",
          "data": {
            "text/plain": [
              "Text(0, 0.5, 'Euros')"
            ]
          },
          "metadata": {},
          "execution_count": 52
        },
        {
          "output_type": "display_data",
          "data": {
            "image/png": "[encoded data removed]",
            "text/plain": [
              "<Figure size 720x720 with 1 Axes>"
            ]
          },
          "metadata": {
            "needs_background": "light"
          }
        }
      ]
    },
    {
      "cell_type": "code",
      "source": [
        "#Strategy betting on the fav\n",
        "x = input('Quel est votre bankroll? ')\n",
        "y = input('Quel est le pourcentage maximum que vous êtes pret à perdre? ')\n",
        "x,y = int(x),float(y)\n",
        "lt_bet = [x]\n",
        "z = x\n",
        "for i in range(len(odds_2016_short)):\n",
        "    \n",
        "        \n",
        "            if odds_2016_short['Bookie_pred_fav'].iloc[i] == odds_2016_short['FTR'].iloc[i]:\n",
        "                \n",
        "                    x = x + ((x*y)*odds_2016_short['Bookie_fav'].iloc[i]-x*y)\n",
        "                    lt_bet.append(x)\n",
        "            elif odds_2016_short['Bookie_pred_fav'].iloc[i] != odds_2016_short['FTR'].iloc[i] and x >=0 :\n",
        "              x = x - (x*y)\n",
        "              lt_bet.append(x)\n",
        "            elif odds_2016_short['Bookie_pred_fav'].iloc[i] != odds_2016_short['FTR'].iloc[i] and x<0 :\n",
        "                    z = input('Vous avez tout perdu, combien remettez v0ous?:')\n",
        "                    y = input('Quel est le pourcentage maximum que vous êtes pret à perdre? ')\n",
        "                    z = int(z)\n",
        "                    y = float(y)\n",
        "                    x = z\n",
        "                    while z<0:\n",
        "                        z = input('Vous avez tout perdu, combien remettez vous?:')\n",
        "                        z = int(z)\n",
        "                        y = input('Quel est le pourcentage maximum que vous êtes pret à perdre? ')\n",
        "                        y = float(y)\n",
        "                    x= x - (x*y)\n",
        "                    \n",
        "         \n",
        "plt.figure(figsize=(10,10))    \n",
        "plt.plot(lt_bet)\n",
        "plt.title('Evolution de la bankroll en fonction des matchs')\n",
        "plt.xlabel('Nombre de matchs')\n",
        "plt.ylabel('Euros')\n"
      ],
      "metadata": {
        "colab": {
          "base_uri": "https://localhost:8080/",
          "height": 673
        },
        "id": "8hIyTpimpADt",
        "outputId": "a83d4a67-16d8-4e80-b70e-3e81591b5398"
      },
      "execution_count": 53,
      "outputs": [
        {
          "name": "stdout",
          "output_type": "stream",
          "text": [
            "Quel est votre bankroll? 100\n",
            "Quel est le pourcentage maximum que vous êtes pret à perdre? 0.05\n"
          ]
        },
        {
          "output_type": "execute_result",
          "data": {
            "text/plain": [
              "Text(0, 0.5, 'Euros')"
            ]
          },
          "metadata": {},
          "execution_count": 53
        },
        {
          "output_type": "display_data",
          "data": {
            "image/png": "[encoded data removed]",
            "text/plain": [
              "<Figure size 720x720 with 1 Axes>"
            ]
          },
          "metadata": {
            "needs_background": "light"
          }
        }
      ]
    },
    {
      "cell_type": "markdown",
      "source": [
        "Aucune des stratégies ci dessous ne semble être rentable. \n"
      ],
      "metadata": {
        "id": "3-y51dLl-YDb"
      }
    }
  ]
}