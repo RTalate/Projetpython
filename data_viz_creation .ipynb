{
 "cells": [
  {
   "cell_type": "markdown",
   "metadata": {},
   "source": [
    "# Machine learning for football prediction\n",
    "\n",
    "Rayan TALATE et Victor MICHEL"
   ]
  },
  {
   "cell_type": "markdown",
   "metadata": {},
   "source": [
    "Dans ce notebook, nous allons chercher à prédire des résultats de matchs de football à partir de diverses caractéristiques, notamment les notes des joueurs sur la simulation de football FIFA."
   ]
  },
  {
   "cell_type": "markdown",
   "metadata": {},
   "source": [
    "# Import de la base de données et des modules indispensables"
   ]
  },
  {
   "cell_type": "code",
   "execution_count": 2,
   "metadata": {
    "colab": {
     "base_uri": "https://localhost:8080/",
     "height": 377
    },
    "executionInfo": {
     "elapsed": 716,
     "status": "error",
     "timestamp": 1640249128894,
     "user": {
      "displayName": "R T",
      "photoUrl": "https://lh3.googleusercontent.com/a/default-user=s64",
      "userId": "01703325576658181394"
     },
     "user_tz": -60
    },
    "id": "zo7AzTFpMY7A",
    "outputId": "f3ebd39d-9736-41ee-8443-fecf51fb8cf8"
   },
   "outputs": [],
   "source": [
    "\"\"\"Tout d'abord, les modules:\"\"\"\n",
    "from time import time\n",
    "import numpy as np\n",
    "import pandas as pd\n",
    "import sqlite3\n",
    "import matplotlib.pyplot as plt\n",
    "import scipy\n",
    "from scipy import stats\n",
    "import seaborn as sns\n",
    "from scipy.stats import entropy\n",
    "from functions_football import (win,get_match_outcome,get_last_matches,get_last_team_stats,get_last_matches_against_eachother,get_goals,\n",
    " get_goals_conceided,get_match_features,get_features)"
   ]
  },
  {
   "cell_type": "code",
   "execution_count": 4,
   "metadata": {
    "executionInfo": {
     "elapsed": 25,
     "status": "aborted",
     "timestamp": 1640249128880,
     "user": {
      "displayName": "R T",
      "photoUrl": "https://lh3.googleusercontent.com/a/default-user=s64",
      "userId": "01703325576658181394"
     },
     "user_tz": -60
    },
    "id": "88J4LECQMY7C"
   },
   "outputs": [
    {
     "ename": "DatabaseError",
     "evalue": "Execution failed on sql 'SELECT * from Country': no such table: Country",
     "output_type": "error",
     "traceback": [
      "\u001b[0;31m---------------------------------------------------------------------------\u001b[0m",
      "\u001b[0;31mOperationalError\u001b[0m                          Traceback (most recent call last)",
      "\u001b[0;32m/opt/conda/lib/python3.9/site-packages/pandas/io/sql.py\u001b[0m in \u001b[0;36mexecute\u001b[0;34m(self, *args, **kwargs)\u001b[0m\n\u001b[1;32m   2055\u001b[0m         \u001b[0;32mtry\u001b[0m\u001b[0;34m:\u001b[0m\u001b[0;34m\u001b[0m\u001b[0;34m\u001b[0m\u001b[0m\n\u001b[0;32m-> 2056\u001b[0;31m             \u001b[0mcur\u001b[0m\u001b[0;34m.\u001b[0m\u001b[0mexecute\u001b[0m\u001b[0;34m(\u001b[0m\u001b[0;34m*\u001b[0m\u001b[0margs\u001b[0m\u001b[0;34m,\u001b[0m \u001b[0;34m**\u001b[0m\u001b[0mkwargs\u001b[0m\u001b[0;34m)\u001b[0m\u001b[0;34m\u001b[0m\u001b[0;34m\u001b[0m\u001b[0m\n\u001b[0m\u001b[1;32m   2057\u001b[0m             \u001b[0;32mreturn\u001b[0m \u001b[0mcur\u001b[0m\u001b[0;34m\u001b[0m\u001b[0;34m\u001b[0m\u001b[0m\n",
      "\u001b[0;31mOperationalError\u001b[0m: no such table: Country",
      "\nThe above exception was the direct cause of the following exception:\n",
      "\u001b[0;31mDatabaseError\u001b[0m                             Traceback (most recent call last)",
      "\u001b[0;32m/tmp/ipykernel_311/517613720.py\u001b[0m in \u001b[0;36m<module>\u001b[0;34m\u001b[0m\n\u001b[1;32m      1\u001b[0m \u001b[0;34m\"\"\"Ensuite, la base de données, que l'on va lire grâce à pandas tout en utilisant la syntaxe SQL:\"\"\"\u001b[0m\u001b[0;34m\u001b[0m\u001b[0;34m\u001b[0m\u001b[0m\n\u001b[1;32m      2\u001b[0m \u001b[0;32mwith\u001b[0m \u001b[0msqlite3\u001b[0m\u001b[0;34m.\u001b[0m\u001b[0mconnect\u001b[0m\u001b[0;34m(\u001b[0m\u001b[0;34m'C:\\\\Users\\\\rayan\\\\Documents\\\\football prediction\\\\football-classification-predications-master\\\\Database sqlite\\\\database.sqlite'\u001b[0m\u001b[0;34m)\u001b[0m \u001b[0;32mas\u001b[0m \u001b[0mcon\u001b[0m\u001b[0;34m:\u001b[0m\u001b[0;34m\u001b[0m\u001b[0;34m\u001b[0m\u001b[0m\n\u001b[0;32m----> 3\u001b[0;31m     \u001b[0mcountries\u001b[0m \u001b[0;34m=\u001b[0m \u001b[0mpd\u001b[0m\u001b[0;34m.\u001b[0m\u001b[0mread_sql_query\u001b[0m\u001b[0;34m(\u001b[0m\u001b[0;34m\"SELECT * from Country\"\u001b[0m\u001b[0;34m,\u001b[0m \u001b[0mcon\u001b[0m\u001b[0;34m)\u001b[0m\u001b[0;34m\u001b[0m\u001b[0;34m\u001b[0m\u001b[0m\n\u001b[0m\u001b[1;32m      4\u001b[0m     \u001b[0mmatches\u001b[0m \u001b[0;34m=\u001b[0m \u001b[0mpd\u001b[0m\u001b[0;34m.\u001b[0m\u001b[0mread_sql_query\u001b[0m\u001b[0;34m(\u001b[0m\u001b[0;34m\"SELECT * from Match\"\u001b[0m\u001b[0;34m,\u001b[0m \u001b[0mcon\u001b[0m\u001b[0;34m)\u001b[0m\u001b[0;34m\u001b[0m\u001b[0;34m\u001b[0m\u001b[0m\n\u001b[1;32m      5\u001b[0m     \u001b[0mleagues\u001b[0m \u001b[0;34m=\u001b[0m \u001b[0mpd\u001b[0m\u001b[0;34m.\u001b[0m\u001b[0mread_sql_query\u001b[0m\u001b[0;34m(\u001b[0m\u001b[0;34m\"SELECT * from League\"\u001b[0m\u001b[0;34m,\u001b[0m \u001b[0mcon\u001b[0m\u001b[0;34m)\u001b[0m\u001b[0;34m\u001b[0m\u001b[0;34m\u001b[0m\u001b[0m\n",
      "\u001b[0;32m/opt/conda/lib/python3.9/site-packages/pandas/io/sql.py\u001b[0m in \u001b[0;36mread_sql_query\u001b[0;34m(sql, con, index_col, coerce_float, params, parse_dates, chunksize, dtype)\u001b[0m\n\u001b[1;32m    434\u001b[0m     \"\"\"\n\u001b[1;32m    435\u001b[0m     \u001b[0mpandas_sql\u001b[0m \u001b[0;34m=\u001b[0m \u001b[0mpandasSQL_builder\u001b[0m\u001b[0;34m(\u001b[0m\u001b[0mcon\u001b[0m\u001b[0;34m)\u001b[0m\u001b[0;34m\u001b[0m\u001b[0;34m\u001b[0m\u001b[0m\n\u001b[0;32m--> 436\u001b[0;31m     return pandas_sql.read_query(\n\u001b[0m\u001b[1;32m    437\u001b[0m         \u001b[0msql\u001b[0m\u001b[0;34m,\u001b[0m\u001b[0;34m\u001b[0m\u001b[0;34m\u001b[0m\u001b[0m\n\u001b[1;32m    438\u001b[0m         \u001b[0mindex_col\u001b[0m\u001b[0;34m=\u001b[0m\u001b[0mindex_col\u001b[0m\u001b[0;34m,\u001b[0m\u001b[0;34m\u001b[0m\u001b[0;34m\u001b[0m\u001b[0m\n",
      "\u001b[0;32m/opt/conda/lib/python3.9/site-packages/pandas/io/sql.py\u001b[0m in \u001b[0;36mread_query\u001b[0;34m(self, sql, index_col, coerce_float, params, parse_dates, chunksize, dtype)\u001b[0m\n\u001b[1;32m   2114\u001b[0m \u001b[0;34m\u001b[0m\u001b[0m\n\u001b[1;32m   2115\u001b[0m         \u001b[0margs\u001b[0m \u001b[0;34m=\u001b[0m \u001b[0m_convert_params\u001b[0m\u001b[0;34m(\u001b[0m\u001b[0msql\u001b[0m\u001b[0;34m,\u001b[0m \u001b[0mparams\u001b[0m\u001b[0;34m)\u001b[0m\u001b[0;34m\u001b[0m\u001b[0;34m\u001b[0m\u001b[0m\n\u001b[0;32m-> 2116\u001b[0;31m         \u001b[0mcursor\u001b[0m \u001b[0;34m=\u001b[0m \u001b[0mself\u001b[0m\u001b[0;34m.\u001b[0m\u001b[0mexecute\u001b[0m\u001b[0;34m(\u001b[0m\u001b[0;34m*\u001b[0m\u001b[0margs\u001b[0m\u001b[0;34m)\u001b[0m\u001b[0;34m\u001b[0m\u001b[0;34m\u001b[0m\u001b[0m\n\u001b[0m\u001b[1;32m   2117\u001b[0m         \u001b[0mcolumns\u001b[0m \u001b[0;34m=\u001b[0m \u001b[0;34m[\u001b[0m\u001b[0mcol_desc\u001b[0m\u001b[0;34m[\u001b[0m\u001b[0;36m0\u001b[0m\u001b[0;34m]\u001b[0m \u001b[0;32mfor\u001b[0m \u001b[0mcol_desc\u001b[0m \u001b[0;32min\u001b[0m \u001b[0mcursor\u001b[0m\u001b[0;34m.\u001b[0m\u001b[0mdescription\u001b[0m\u001b[0;34m]\u001b[0m\u001b[0;34m\u001b[0m\u001b[0;34m\u001b[0m\u001b[0m\n\u001b[1;32m   2118\u001b[0m \u001b[0;34m\u001b[0m\u001b[0m\n",
      "\u001b[0;32m/opt/conda/lib/python3.9/site-packages/pandas/io/sql.py\u001b[0m in \u001b[0;36mexecute\u001b[0;34m(self, *args, **kwargs)\u001b[0m\n\u001b[1;32m   2066\u001b[0m \u001b[0;34m\u001b[0m\u001b[0m\n\u001b[1;32m   2067\u001b[0m             \u001b[0mex\u001b[0m \u001b[0;34m=\u001b[0m \u001b[0mDatabaseError\u001b[0m\u001b[0;34m(\u001b[0m\u001b[0;34mf\"Execution failed on sql '{args[0]}': {exc}\"\u001b[0m\u001b[0;34m)\u001b[0m\u001b[0;34m\u001b[0m\u001b[0;34m\u001b[0m\u001b[0m\n\u001b[0;32m-> 2068\u001b[0;31m             \u001b[0;32mraise\u001b[0m \u001b[0mex\u001b[0m \u001b[0;32mfrom\u001b[0m \u001b[0mexc\u001b[0m\u001b[0;34m\u001b[0m\u001b[0;34m\u001b[0m\u001b[0m\n\u001b[0m\u001b[1;32m   2069\u001b[0m \u001b[0;34m\u001b[0m\u001b[0m\n\u001b[1;32m   2070\u001b[0m     \u001b[0;34m@\u001b[0m\u001b[0mstaticmethod\u001b[0m\u001b[0;34m\u001b[0m\u001b[0;34m\u001b[0m\u001b[0m\n",
      "\u001b[0;31mDatabaseError\u001b[0m: Execution failed on sql 'SELECT * from Country': no such table: Country"
     ]
    }
   ],
   "source": [
    "\"\"\"Ensuite, la base de données, que l'on va lire grâce à pandas tout en utilisant la syntaxe SQL:\"\"\"\n",
    "with sqlite3.connect('C:\\\\Users\\\\rayan\\\\Documents\\\\football prediction\\\\football-classification-predications-master\\\\Database sqlite\\\\database.sqlite') as con:\n",
    "    countries = pd.read_sql_query(\"SELECT * from Country\", con)\n",
    "    matches = pd.read_sql_query(\"SELECT * from Match\", con)\n",
    "    leagues = pd.read_sql_query(\"SELECT * from League\", con)\n",
    "    teams = pd.read_sql_query(\"SELECT * from Team\", con)\n",
    "    team_attributes = pd.read_sql_query(\"SELECT distinct * from Team_Attributes\",con)\n",
    "    player = pd.read_sql_query(\"SELECT * from Player\",con)\n",
    "    player_attributes = pd.read_sql_query(\"SELECT * from Player_Attributes\",con)\n",
    "df_italy = pd.read_csv('C:\\\\Users\\\\rayan\\\\Downloads\\\\df_italy.csv', error_bad_lines=False, sep =',',encoding = 'utf_8')\n",
    "possessions_data = pd.read_csv('C:\\\\Users\\\\rayan\\\\Documents\\\\football prediction\\\\football-classification-predications-master\\\\Dataset\\\\possession_detail.csv')"
   ]
  },
  {
   "cell_type": "code",
   "execution_count": 4,
   "metadata": {},
   "outputs": [
    {
     "data": {
      "text/html": [
       "<div>\n",
       "<style scoped>\n",
       "    .dataframe tbody tr th:only-of-type {\n",
       "        vertical-align: middle;\n",
       "    }\n",
       "\n",
       "    .dataframe tbody tr th {\n",
       "        vertical-align: top;\n",
       "    }\n",
       "\n",
       "    .dataframe thead th {\n",
       "        text-align: right;\n",
       "    }\n",
       "</style>\n",
       "<table border=\"1\" class=\"dataframe\">\n",
       "  <thead>\n",
       "    <tr style=\"text-align: right;\">\n",
       "      <th></th>\n",
       "      <th>id</th>\n",
       "      <th>team_fifa_api_id</th>\n",
       "      <th>team_api_id</th>\n",
       "      <th>buildUpPlaySpeed</th>\n",
       "      <th>buildUpPlayDribbling</th>\n",
       "      <th>buildUpPlayPassing</th>\n",
       "      <th>chanceCreationPassing</th>\n",
       "      <th>chanceCreationCrossing</th>\n",
       "      <th>chanceCreationShooting</th>\n",
       "      <th>defencePressure</th>\n",
       "      <th>defenceAggression</th>\n",
       "      <th>defenceTeamWidth</th>\n",
       "    </tr>\n",
       "  </thead>\n",
       "  <tbody>\n",
       "    <tr>\n",
       "      <th>count</th>\n",
       "      <td>1458.000000</td>\n",
       "      <td>1458.000000</td>\n",
       "      <td>1458.000000</td>\n",
       "      <td>1458.000000</td>\n",
       "      <td>489.000000</td>\n",
       "      <td>1458.000000</td>\n",
       "      <td>1458.000000</td>\n",
       "      <td>1458.000000</td>\n",
       "      <td>1458.000000</td>\n",
       "      <td>1458.000000</td>\n",
       "      <td>1458.000000</td>\n",
       "      <td>1458.000000</td>\n",
       "    </tr>\n",
       "    <tr>\n",
       "      <th>mean</th>\n",
       "      <td>729.500000</td>\n",
       "      <td>17706.982167</td>\n",
       "      <td>9995.727023</td>\n",
       "      <td>52.462277</td>\n",
       "      <td>48.607362</td>\n",
       "      <td>48.490398</td>\n",
       "      <td>52.165295</td>\n",
       "      <td>53.731824</td>\n",
       "      <td>53.969136</td>\n",
       "      <td>46.017147</td>\n",
       "      <td>49.251029</td>\n",
       "      <td>52.185871</td>\n",
       "    </tr>\n",
       "    <tr>\n",
       "      <th>std</th>\n",
       "      <td>421.032659</td>\n",
       "      <td>39179.857739</td>\n",
       "      <td>13264.869900</td>\n",
       "      <td>11.545869</td>\n",
       "      <td>9.678290</td>\n",
       "      <td>10.896101</td>\n",
       "      <td>10.360793</td>\n",
       "      <td>11.086796</td>\n",
       "      <td>10.327566</td>\n",
       "      <td>10.227225</td>\n",
       "      <td>9.738028</td>\n",
       "      <td>9.574712</td>\n",
       "    </tr>\n",
       "    <tr>\n",
       "      <th>min</th>\n",
       "      <td>1.000000</td>\n",
       "      <td>1.000000</td>\n",
       "      <td>1601.000000</td>\n",
       "      <td>20.000000</td>\n",
       "      <td>24.000000</td>\n",
       "      <td>20.000000</td>\n",
       "      <td>21.000000</td>\n",
       "      <td>20.000000</td>\n",
       "      <td>22.000000</td>\n",
       "      <td>23.000000</td>\n",
       "      <td>24.000000</td>\n",
       "      <td>29.000000</td>\n",
       "    </tr>\n",
       "    <tr>\n",
       "      <th>25%</th>\n",
       "      <td>365.250000</td>\n",
       "      <td>110.000000</td>\n",
       "      <td>8457.750000</td>\n",
       "      <td>45.000000</td>\n",
       "      <td>42.000000</td>\n",
       "      <td>40.000000</td>\n",
       "      <td>46.000000</td>\n",
       "      <td>47.000000</td>\n",
       "      <td>48.000000</td>\n",
       "      <td>39.000000</td>\n",
       "      <td>44.000000</td>\n",
       "      <td>47.000000</td>\n",
       "    </tr>\n",
       "    <tr>\n",
       "      <th>50%</th>\n",
       "      <td>729.500000</td>\n",
       "      <td>485.000000</td>\n",
       "      <td>8674.000000</td>\n",
       "      <td>52.000000</td>\n",
       "      <td>49.000000</td>\n",
       "      <td>50.000000</td>\n",
       "      <td>52.000000</td>\n",
       "      <td>53.000000</td>\n",
       "      <td>53.000000</td>\n",
       "      <td>45.000000</td>\n",
       "      <td>48.000000</td>\n",
       "      <td>52.000000</td>\n",
       "    </tr>\n",
       "    <tr>\n",
       "      <th>75%</th>\n",
       "      <td>1093.750000</td>\n",
       "      <td>1900.000000</td>\n",
       "      <td>9904.000000</td>\n",
       "      <td>62.000000</td>\n",
       "      <td>55.000000</td>\n",
       "      <td>55.000000</td>\n",
       "      <td>59.000000</td>\n",
       "      <td>62.000000</td>\n",
       "      <td>61.000000</td>\n",
       "      <td>51.000000</td>\n",
       "      <td>55.000000</td>\n",
       "      <td>58.000000</td>\n",
       "    </tr>\n",
       "    <tr>\n",
       "      <th>max</th>\n",
       "      <td>1458.000000</td>\n",
       "      <td>112513.000000</td>\n",
       "      <td>274581.000000</td>\n",
       "      <td>80.000000</td>\n",
       "      <td>77.000000</td>\n",
       "      <td>80.000000</td>\n",
       "      <td>80.000000</td>\n",
       "      <td>80.000000</td>\n",
       "      <td>80.000000</td>\n",
       "      <td>72.000000</td>\n",
       "      <td>72.000000</td>\n",
       "      <td>73.000000</td>\n",
       "    </tr>\n",
       "  </tbody>\n",
       "</table>\n",
       "</div>"
      ],
      "text/plain": [
       "                id  team_fifa_api_id    team_api_id  buildUpPlaySpeed  \\\n",
       "count  1458.000000       1458.000000    1458.000000       1458.000000   \n",
       "mean    729.500000      17706.982167    9995.727023         52.462277   \n",
       "std     421.032659      39179.857739   13264.869900         11.545869   \n",
       "min       1.000000          1.000000    1601.000000         20.000000   \n",
       "25%     365.250000        110.000000    8457.750000         45.000000   \n",
       "50%     729.500000        485.000000    8674.000000         52.000000   \n",
       "75%    1093.750000       1900.000000    9904.000000         62.000000   \n",
       "max    1458.000000     112513.000000  274581.000000         80.000000   \n",
       "\n",
       "       buildUpPlayDribbling  buildUpPlayPassing  chanceCreationPassing  \\\n",
       "count            489.000000         1458.000000            1458.000000   \n",
       "mean              48.607362           48.490398              52.165295   \n",
       "std                9.678290           10.896101              10.360793   \n",
       "min               24.000000           20.000000              21.000000   \n",
       "25%               42.000000           40.000000              46.000000   \n",
       "50%               49.000000           50.000000              52.000000   \n",
       "75%               55.000000           55.000000              59.000000   \n",
       "max               77.000000           80.000000              80.000000   \n",
       "\n",
       "       chanceCreationCrossing  chanceCreationShooting  defencePressure  \\\n",
       "count             1458.000000             1458.000000      1458.000000   \n",
       "mean                53.731824               53.969136        46.017147   \n",
       "std                 11.086796               10.327566        10.227225   \n",
       "min                 20.000000               22.000000        23.000000   \n",
       "25%                 47.000000               48.000000        39.000000   \n",
       "50%                 53.000000               53.000000        45.000000   \n",
       "75%                 62.000000               61.000000        51.000000   \n",
       "max                 80.000000               80.000000        72.000000   \n",
       "\n",
       "       defenceAggression  defenceTeamWidth  \n",
       "count        1458.000000       1458.000000  \n",
       "mean           49.251029         52.185871  \n",
       "std             9.738028          9.574712  \n",
       "min            24.000000         29.000000  \n",
       "25%            44.000000         47.000000  \n",
       "50%            48.000000         52.000000  \n",
       "75%            55.000000         58.000000  \n",
       "max            72.000000         73.000000  "
      ]
     },
     "execution_count": 4,
     "metadata": {},
     "output_type": "execute_result"
    }
   ],
   "source": [
    "teams_stats = team_attributes\n",
    "teams_stats.describe() #Pour avoir une vue d'ensemble de notre base de données."
   ]
  },
  {
   "cell_type": "code",
   "execution_count": 5,
   "metadata": {
    "executionInfo": {
     "elapsed": 26,
     "status": "aborted",
     "timestamp": 1640249128880,
     "user": {
      "displayName": "R T",
      "photoUrl": "https://lh3.googleusercontent.com/a/default-user=s64",
      "userId": "01703325576658181394"
     },
     "user_tz": -60
    },
    "id": "-rz4QgJ6MY7D"
   },
   "outputs": [
    {
     "name": "stderr",
     "output_type": "stream",
     "text": [
      "C:\\Users\\rayan\\anaconda3\\lib\\site-packages\\IPython\\core\\interactiveshell.py:3071: DtypeWarning: Columns (0,14) have mixed types.Specify dtype option on import or set low_memory=False.\n",
      "  has_raised = await self.run_ast_nodes(code_ast.body, cell_name,\n",
      "C:\\Users\\rayan\\anaconda3\\lib\\site-packages\\IPython\\core\\interactiveshell.py:3071: DtypeWarning: Columns (1,7,16) have mixed types.Specify dtype option on import or set low_memory=False.\n",
      "  has_raised = await self.run_ast_nodes(code_ast.body, cell_name,\n"
     ]
    },
    {
     "name": "stdout",
     "output_type": "stream",
     "text": [
      "8455.0    4716\n",
      "8650.0    4524\n",
      "8586.0    4390\n",
      "8456.0    4246\n",
      "9825.0    4235\n",
      "          ... \n",
      "2183.0      12\n",
      "8245.0      11\n",
      "8030.0      10\n",
      "8398.0       9\n",
      "9873.0       3\n",
      "Name: team, Length: 178, dtype: int64\n"
     ]
    }
   ],
   "source": [
    "shots_off = pd.read_csv(\"C:\\\\Users\\\\rayan\\\\Documents\\\\football prediction\\\\football-classification-predications-master\\\\dataset\\\\shotoff_detail.csv\")\n",
    "shots_on = pd.read_csv(\"C:\\\\Users\\\\rayan\\\\Documents\\\\football prediction\\\\football-classification-predications-master\\\\dataset\\\\shoton_detail.csv\")\n",
    "shots = pd.concat([shots_off[['match_id', 'team']], shots_on[['match_id', 'team']]])\n",
    "total_matches = shots.drop_duplicates(['match_id', 'team'])[\"team\"].value_counts()\n",
    "#On compte le nombre de tirs par équipe:\n",
    "shots = shots[\"team\"].value_counts()\n",
    "print(shots)"
   ]
  },
  {
   "cell_type": "markdown",
   "metadata": {},
   "source": [
    "# Préparation des données"
   ]
  },
  {
   "cell_type": "markdown",
   "metadata": {},
   "source": [
    "## Première étape: gestion des données manquantes."
   ]
  },
  {
   "cell_type": "markdown",
   "metadata": {},
   "source": [
    "Motivation: on a pu remarquer, dans le \"describe\" de teams_stats fait plus haut, que certaines colonnes manquent d'informations, notamment \"buildUpPlayDribbling\" qui n'a pas le même nombre d'observations que les autres colonnes. Il est donc nécessaire de gérer ces données manquantes pour ne pas avoir d'erreur dans les fonctions utilisées plus loin, et pour essayer de limiter le biais que ce manque de données crée."
   ]
  },
  {
   "cell_type": "markdown",
   "metadata": {},
   "source": [
    "Premièrement, nous travaillons sur les possessions et les matches en eux-mêmes:"
   ]
  },
  {
   "cell_type": "code",
   "execution_count": 6,
   "metadata": {
    "executionInfo": {
     "elapsed": 26,
     "status": "aborted",
     "timestamp": 1640249128882,
     "user": {
      "displayName": "R T",
      "photoUrl": "https://lh3.googleusercontent.com/a/default-user=s64",
      "userId": "01703325576658181394"
     },
     "user_tz": -60
    },
    "id": "X-ht0aJoMY7L"
   },
   "outputs": [],
   "source": [
    "last_possessions = possessions_data.sort_values(['elapsed'], ascending=False).drop_duplicates(subset=['match_id'])\n",
    "last_possessions = last_possessions[['match_id', 'homepos', 'awaypos']]"
   ]
  },
  {
   "cell_type": "code",
   "execution_count": 7,
   "metadata": {
    "executionInfo": {
     "elapsed": 26,
     "status": "aborted",
     "timestamp": 1640249128882,
     "user": {
      "displayName": "R T",
      "photoUrl": "https://lh3.googleusercontent.com/a/default-user=s64",
      "userId": "01703325576658181394"
     },
     "user_tz": -60
    },
    "id": "y24d-DqrMY7L"
   },
   "outputs": [],
   "source": [
    "\"\"\"On récupère les ID de home_team et away_team, ça nous servira plus tard.\"\"\"\n",
    "possessions = pd.DataFrame(columns=['team', 'possession', 'match'])\n",
    "for index, row in last_possessions.iterrows():\n",
    "    match = matches.loc[matches['id'] == row['match_id'], ['home_team_api_id', 'away_team_api_id']]\n",
    "    if match.empty:\n",
    "        continue\n",
    "    hometeam = match['home_team_api_id'].values[0]\n",
    "    awayteam = match['away_team_api_id'].values[0]\n",
    "    possessions = possessions.append({'team': hometeam, 'possession': row['homepos'], 'match': row['match_id']}, ignore_index=True)\n",
    "    possessions = possessions.append({'team': awayteam, 'possession': row['awaypos'], 'match': row['match_id']}, ignore_index=True)\n",
    "\n",
    "total_possessions = possessions.groupby(by=['team'])['possession'].sum()\n",
    "total_matches = possessions.drop_duplicates(['team', 'match'])[\"team\"].value_counts()\n",
    "    \n",
    "#Remarque: cette cellule prend un peu de temps à s'exécuter."
   ]
  },
  {
   "cell_type": "markdown",
   "metadata": {},
   "source": [
    "On retire les colonnes qui ne nous intéressent pas:"
   ]
  },
  {
   "cell_type": "code",
   "execution_count": 8,
   "metadata": {
    "executionInfo": {
     "elapsed": 26,
     "status": "aborted",
     "timestamp": 1640249128882,
     "user": {
      "displayName": "R T",
      "photoUrl": "https://lh3.googleusercontent.com/a/default-user=s64",
      "userId": "01703325576658181394"
     },
     "user_tz": -60
    },
    "id": "ctDMGU0tMY7M"
   },
   "outputs": [],
   "source": [
    "matches =matches.drop(['IWH',\n",
    "'IWD',\n",
    "'IWA',\n",
    "'LBH',\n",
    "'LBD',\n",
    "'LBA',\n",
    "'PSH',\n",
    "'PSD',\n",
    "'PSA',\n",
    "'WHH',\n",
    "'WHD',\n",
    "'WHA',\n",
    "'SJH',\n",
    "'SJD',\n",
    "'SJA',\n",
    "'VCH',\n",
    "'VCD',\n",
    "'VCA',\n",
    "'GBH',\n",
    "'GBD',\n",
    "'GBA',\n",
    "'BSH',\n",
    "'BSD',\n",
    "'BSA','BWH','BWD','BWA'],axis = 1 )"
   ]
  },
  {
   "cell_type": "markdown",
   "metadata": {},
   "source": [
    "Puis on obtient les résultats de chaque match (pour l'équipe à domicile):"
   ]
  },
  {
   "cell_type": "code",
   "execution_count": 9,
   "metadata": {
    "executionInfo": {
     "elapsed": 26,
     "status": "aborted",
     "timestamp": 1640249128883,
     "user": {
      "displayName": "R T",
      "photoUrl": "https://lh3.googleusercontent.com/a/default-user=s64",
      "userId": "01703325576658181394"
     },
     "user_tz": -60
    },
    "id": "IqvkSP3kMY7M"
   },
   "outputs": [
    {
     "name": "stdout",
     "output_type": "stream",
     "text": [
      "0        D\n",
      "1        D\n",
      "2        L\n",
      "3        W\n",
      "4        L\n",
      "        ..\n",
      "25974    W\n",
      "25975    L\n",
      "25976    W\n",
      "25977    D\n",
      "25978    W\n",
      "Name: result, Length: 25979, dtype: object\n"
     ]
    }
   ],
   "source": [
    "matches['result']  = matches[['home_team_goal', 'away_team_goal']].apply(win, axis=1)\n",
    "print(matches['result'])"
   ]
  },
  {
   "cell_type": "markdown",
   "metadata": {},
   "source": [
    "Ensuite, on retire les matchs pouvant poser problème, et on range dans \"home_teams\" et \"away_teams\" les matchs à domicile et à l'extérieur."
   ]
  },
  {
   "cell_type": "code",
   "execution_count": 10,
   "metadata": {
    "executionInfo": {
     "elapsed": 26,
     "status": "aborted",
     "timestamp": 1640249128883,
     "user": {
      "displayName": "R T",
      "photoUrl": "https://lh3.googleusercontent.com/a/default-user=s64",
      "userId": "01703325576658181394"
     },
     "user_tz": -60
    },
    "id": "7LFgsNk6MY7N"
   },
   "outputs": [
    {
     "data": {
      "text/html": [
       "<div>\n",
       "<style scoped>\n",
       "    .dataframe tbody tr th:only-of-type {\n",
       "        vertical-align: middle;\n",
       "    }\n",
       "\n",
       "    .dataframe tbody tr th {\n",
       "        vertical-align: top;\n",
       "    }\n",
       "\n",
       "    .dataframe thead th {\n",
       "        text-align: right;\n",
       "    }\n",
       "</style>\n",
       "<table border=\"1\" class=\"dataframe\">\n",
       "  <thead>\n",
       "    <tr style=\"text-align: right;\">\n",
       "      <th></th>\n",
       "      <th>id</th>\n",
       "      <th>country_id</th>\n",
       "      <th>league_id</th>\n",
       "      <th>stage</th>\n",
       "      <th>match_api_id</th>\n",
       "      <th>home_team_api_id</th>\n",
       "      <th>away_team_api_id</th>\n",
       "      <th>home_team_goal</th>\n",
       "      <th>away_team_goal</th>\n",
       "      <th>home_player_X1</th>\n",
       "      <th>...</th>\n",
       "      <th>away_player_5</th>\n",
       "      <th>away_player_6</th>\n",
       "      <th>away_player_7</th>\n",
       "      <th>away_player_8</th>\n",
       "      <th>away_player_9</th>\n",
       "      <th>away_player_10</th>\n",
       "      <th>away_player_11</th>\n",
       "      <th>B365H</th>\n",
       "      <th>B365D</th>\n",
       "      <th>B365A</th>\n",
       "    </tr>\n",
       "  </thead>\n",
       "  <tbody>\n",
       "    <tr>\n",
       "      <th>count</th>\n",
       "      <td>13214.000000</td>\n",
       "      <td>13214.000000</td>\n",
       "      <td>13214.000000</td>\n",
       "      <td>13214.000000</td>\n",
       "      <td>1.321400e+04</td>\n",
       "      <td>13214.000000</td>\n",
       "      <td>13214.000000</td>\n",
       "      <td>13214.000000</td>\n",
       "      <td>13214.000000</td>\n",
       "      <td>13214.0</td>\n",
       "      <td>...</td>\n",
       "      <td>13214.000000</td>\n",
       "      <td>13214.000000</td>\n",
       "      <td>13214.000000</td>\n",
       "      <td>13214.000000</td>\n",
       "      <td>13214.000000</td>\n",
       "      <td>13214.000000</td>\n",
       "      <td>13214.000000</td>\n",
       "      <td>13214.000000</td>\n",
       "      <td>13214.000000</td>\n",
       "      <td>13214.000000</td>\n",
       "    </tr>\n",
       "    <tr>\n",
       "      <th>mean</th>\n",
       "      <td>11110.432042</td>\n",
       "      <td>9528.298623</td>\n",
       "      <td>9528.298623</td>\n",
       "      <td>19.327380</td>\n",
       "      <td>1.275672e+06</td>\n",
       "      <td>9358.790601</td>\n",
       "      <td>9398.467988</td>\n",
       "      <td>1.554336</td>\n",
       "      <td>1.159830</td>\n",
       "      <td>1.0</td>\n",
       "      <td>...</td>\n",
       "      <td>102547.031179</td>\n",
       "      <td>95752.749584</td>\n",
       "      <td>91761.388906</td>\n",
       "      <td>103789.505827</td>\n",
       "      <td>104844.369532</td>\n",
       "      <td>99294.979718</td>\n",
       "      <td>93745.604510</td>\n",
       "      <td>2.621012</td>\n",
       "      <td>3.860472</td>\n",
       "      <td>4.716746</td>\n",
       "    </tr>\n",
       "    <tr>\n",
       "      <th>std</th>\n",
       "      <td>6951.053423</td>\n",
       "      <td>6901.753670</td>\n",
       "      <td>6901.753670</td>\n",
       "      <td>10.667404</td>\n",
       "      <td>4.839190e+05</td>\n",
       "      <td>6612.497403</td>\n",
       "      <td>7105.659946</td>\n",
       "      <td>1.299840</td>\n",
       "      <td>1.144863</td>\n",
       "      <td>0.0</td>\n",
       "      <td>...</td>\n",
       "      <td>110836.246033</td>\n",
       "      <td>107168.569582</td>\n",
       "      <td>105932.825953</td>\n",
       "      <td>114633.375796</td>\n",
       "      <td>114043.200928</td>\n",
       "      <td>108758.532844</td>\n",
       "      <td>104052.420984</td>\n",
       "      <td>1.809361</td>\n",
       "      <td>1.184474</td>\n",
       "      <td>3.852017</td>\n",
       "    </tr>\n",
       "    <tr>\n",
       "      <th>min</th>\n",
       "      <td>1729.000000</td>\n",
       "      <td>1729.000000</td>\n",
       "      <td>1729.000000</td>\n",
       "      <td>1.000000</td>\n",
       "      <td>4.890420e+05</td>\n",
       "      <td>4087.000000</td>\n",
       "      <td>4087.000000</td>\n",
       "      <td>0.000000</td>\n",
       "      <td>0.000000</td>\n",
       "      <td>1.0</td>\n",
       "      <td>...</td>\n",
       "      <td>2790.000000</td>\n",
       "      <td>2802.000000</td>\n",
       "      <td>2802.000000</td>\n",
       "      <td>2802.000000</td>\n",
       "      <td>2802.000000</td>\n",
       "      <td>2770.000000</td>\n",
       "      <td>2802.000000</td>\n",
       "      <td>1.040000</td>\n",
       "      <td>1.400000</td>\n",
       "      <td>1.080000</td>\n",
       "    </tr>\n",
       "    <tr>\n",
       "      <th>25%</th>\n",
       "      <td>6070.250000</td>\n",
       "      <td>4769.000000</td>\n",
       "      <td>4769.000000</td>\n",
       "      <td>10.000000</td>\n",
       "      <td>8.572878e+05</td>\n",
       "      <td>8533.000000</td>\n",
       "      <td>8533.000000</td>\n",
       "      <td>1.000000</td>\n",
       "      <td>0.000000</td>\n",
       "      <td>1.0</td>\n",
       "      <td>...</td>\n",
       "      <td>32569.000000</td>\n",
       "      <td>30889.000000</td>\n",
       "      <td>30682.000000</td>\n",
       "      <td>30985.000000</td>\n",
       "      <td>31921.000000</td>\n",
       "      <td>30924.000000</td>\n",
       "      <td>30893.000000</td>\n",
       "      <td>1.670000</td>\n",
       "      <td>3.300000</td>\n",
       "      <td>2.562500</td>\n",
       "    </tr>\n",
       "    <tr>\n",
       "      <th>50%</th>\n",
       "      <td>9594.500000</td>\n",
       "      <td>7809.000000</td>\n",
       "      <td>7809.000000</td>\n",
       "      <td>19.000000</td>\n",
       "      <td>1.239632e+06</td>\n",
       "      <td>8668.000000</td>\n",
       "      <td>8668.000000</td>\n",
       "      <td>1.000000</td>\n",
       "      <td>1.000000</td>\n",
       "      <td>1.0</td>\n",
       "      <td>...</td>\n",
       "      <td>41360.000000</td>\n",
       "      <td>39993.000000</td>\n",
       "      <td>39782.000000</td>\n",
       "      <td>41540.000000</td>\n",
       "      <td>41350.000000</td>\n",
       "      <td>40686.000000</td>\n",
       "      <td>40165.000000</td>\n",
       "      <td>2.100000</td>\n",
       "      <td>3.500000</td>\n",
       "      <td>3.500000</td>\n",
       "    </tr>\n",
       "    <tr>\n",
       "      <th>75%</th>\n",
       "      <td>13165.750000</td>\n",
       "      <td>10257.000000</td>\n",
       "      <td>10257.000000</td>\n",
       "      <td>28.000000</td>\n",
       "      <td>1.724056e+06</td>\n",
       "      <td>9874.000000</td>\n",
       "      <td>9874.000000</td>\n",
       "      <td>2.000000</td>\n",
       "      <td>2.000000</td>\n",
       "      <td>1.0</td>\n",
       "      <td>...</td>\n",
       "      <td>154938.000000</td>\n",
       "      <td>143757.000000</td>\n",
       "      <td>121695.250000</td>\n",
       "      <td>154949.000000</td>\n",
       "      <td>155623.000000</td>\n",
       "      <td>150565.000000</td>\n",
       "      <td>141161.000000</td>\n",
       "      <td>2.800000</td>\n",
       "      <td>4.000000</td>\n",
       "      <td>5.250000</td>\n",
       "    </tr>\n",
       "    <tr>\n",
       "      <th>max</th>\n",
       "      <td>24557.000000</td>\n",
       "      <td>21518.000000</td>\n",
       "      <td>21518.000000</td>\n",
       "      <td>38.000000</td>\n",
       "      <td>2.060645e+06</td>\n",
       "      <td>208931.000000</td>\n",
       "      <td>208931.000000</td>\n",
       "      <td>10.000000</td>\n",
       "      <td>9.000000</td>\n",
       "      <td>1.0</td>\n",
       "      <td>...</td>\n",
       "      <td>720738.000000</td>\n",
       "      <td>722766.000000</td>\n",
       "      <td>750435.000000</td>\n",
       "      <td>710807.000000</td>\n",
       "      <td>722766.000000</td>\n",
       "      <td>722766.000000</td>\n",
       "      <td>725718.000000</td>\n",
       "      <td>26.000000</td>\n",
       "      <td>17.000000</td>\n",
       "      <td>51.000000</td>\n",
       "    </tr>\n",
       "  </tbody>\n",
       "</table>\n",
       "<p>8 rows × 78 columns</p>\n",
       "</div>"
      ],
      "text/plain": [
       "                 id    country_id     league_id         stage  match_api_id  \\\n",
       "count  13214.000000  13214.000000  13214.000000  13214.000000  1.321400e+04   \n",
       "mean   11110.432042   9528.298623   9528.298623     19.327380  1.275672e+06   \n",
       "std     6951.053423   6901.753670   6901.753670     10.667404  4.839190e+05   \n",
       "min     1729.000000   1729.000000   1729.000000      1.000000  4.890420e+05   \n",
       "25%     6070.250000   4769.000000   4769.000000     10.000000  8.572878e+05   \n",
       "50%     9594.500000   7809.000000   7809.000000     19.000000  1.239632e+06   \n",
       "75%    13165.750000  10257.000000  10257.000000     28.000000  1.724056e+06   \n",
       "max    24557.000000  21518.000000  21518.000000     38.000000  2.060645e+06   \n",
       "\n",
       "       home_team_api_id  away_team_api_id  home_team_goal  away_team_goal  \\\n",
       "count      13214.000000      13214.000000    13214.000000    13214.000000   \n",
       "mean        9358.790601       9398.467988        1.554336        1.159830   \n",
       "std         6612.497403       7105.659946        1.299840        1.144863   \n",
       "min         4087.000000       4087.000000        0.000000        0.000000   \n",
       "25%         8533.000000       8533.000000        1.000000        0.000000   \n",
       "50%         8668.000000       8668.000000        1.000000        1.000000   \n",
       "75%         9874.000000       9874.000000        2.000000        2.000000   \n",
       "max       208931.000000     208931.000000       10.000000        9.000000   \n",
       "\n",
       "       home_player_X1  ...  away_player_5  away_player_6  away_player_7  \\\n",
       "count         13214.0  ...   13214.000000   13214.000000   13214.000000   \n",
       "mean              1.0  ...  102547.031179   95752.749584   91761.388906   \n",
       "std               0.0  ...  110836.246033  107168.569582  105932.825953   \n",
       "min               1.0  ...    2790.000000    2802.000000    2802.000000   \n",
       "25%               1.0  ...   32569.000000   30889.000000   30682.000000   \n",
       "50%               1.0  ...   41360.000000   39993.000000   39782.000000   \n",
       "75%               1.0  ...  154938.000000  143757.000000  121695.250000   \n",
       "max               1.0  ...  720738.000000  722766.000000  750435.000000   \n",
       "\n",
       "       away_player_8  away_player_9  away_player_10  away_player_11  \\\n",
       "count   13214.000000   13214.000000    13214.000000    13214.000000   \n",
       "mean   103789.505827  104844.369532    99294.979718    93745.604510   \n",
       "std    114633.375796  114043.200928   108758.532844   104052.420984   \n",
       "min      2802.000000    2802.000000     2770.000000     2802.000000   \n",
       "25%     30985.000000   31921.000000    30924.000000    30893.000000   \n",
       "50%     41540.000000   41350.000000    40686.000000    40165.000000   \n",
       "75%    154949.000000  155623.000000   150565.000000   141161.000000   \n",
       "max    710807.000000  722766.000000   722766.000000   725718.000000   \n",
       "\n",
       "              B365H         B365D         B365A  \n",
       "count  13214.000000  13214.000000  13214.000000  \n",
       "mean       2.621012      3.860472      4.716746  \n",
       "std        1.809361      1.184474      3.852017  \n",
       "min        1.040000      1.400000      1.080000  \n",
       "25%        1.670000      3.300000      2.562500  \n",
       "50%        2.100000      3.500000      3.500000  \n",
       "75%        2.800000      4.000000      5.250000  \n",
       "max       26.000000     17.000000     51.000000  \n",
       "\n",
       "[8 rows x 78 columns]"
      ]
     },
     "execution_count": 10,
     "metadata": {},
     "output_type": "execute_result"
    }
   ],
   "source": [
    "matches = matches.dropna(inplace=False)\n",
    "\n",
    "home_teams = matches['home_team_api_id'].isin(teams_stats['team_api_id'].tolist())\n",
    "away_teams = matches['away_team_api_id'].isin(teams_stats['team_api_id'].tolist())\n",
    "\n",
    "matches.describe()"
   ]
  },
  {
   "cell_type": "markdown",
   "metadata": {},
   "source": [
    "Via ce describe, on peut voir qu'il n esemble pas y avoir de problèmes de valeurs manquantes sur ce DataFrame. Nous passons donc à l'autre DataFrame qui nous intéresse, à savoir teams_stats, pour lequel nous corrigeons les valeurs manquantes à travers la méthode de la mean imputation: on donne arbitrairement aux observations manquantes la valeur moyenne de la colonne."
   ]
  },
  {
   "cell_type": "code",
   "execution_count": 11,
   "metadata": {
    "executionInfo": {
     "elapsed": 26,
     "status": "aborted",
     "timestamp": 1640249128881,
     "user": {
      "displayName": "R T",
      "photoUrl": "https://lh3.googleusercontent.com/a/default-user=s64",
      "userId": "01703325576658181394"
     },
     "user_tz": -60
    },
    "id": "MKfdedX7MY7E"
   },
   "outputs": [
    {
     "data": {
      "text/plain": [
       "count    997.000000\n",
       "mean      10.794465\n",
       "std        2.877979\n",
       "min        3.000000\n",
       "25%        9.500000\n",
       "50%       10.437086\n",
       "75%       11.397727\n",
       "max       42.000000\n",
       "Name: avg_shots, dtype: float64"
      ]
     },
     "execution_count": 11,
     "metadata": {},
     "output_type": "execute_result"
    }
   ],
   "source": [
    "\"\"\"Premier exemple de mean imputation: shots\"\"\"\n",
    "for i, n in shots.iteritems():\n",
    "    \n",
    "    n_matches = total_matches[i]\n",
    "    avg_shots = n / n_matches\n",
    "    teams_stats.loc[teams_stats['team_api_id'] == i, 'avg_shots'] = avg_shots\n",
    "    \n",
    "teams_stats['avg_shots'].describe()"
   ]
  },
  {
   "cell_type": "markdown",
   "metadata": {},
   "source": [
    "Puisque le compte n'est pas de 1458, il y a des valeurs manquantes. Nous allons regarder l'histogramme de \"avg_shots\" pour s'assurer que la mean imputation a du sens, autrement dit, qu'il n'y a pas trop d'écart par rapport à la moyenne."
   ]
  },
  {
   "cell_type": "code",
   "execution_count": 12,
   "metadata": {
    "executionInfo": {
     "elapsed": 25,
     "status": "aborted",
     "timestamp": 1640249128881,
     "user": {
      "displayName": "R T",
      "photoUrl": "https://lh3.googleusercontent.com/a/default-user=s64",
      "userId": "01703325576658181394"
     },
     "user_tz": -60
    },
    "id": "EUlm-H-5MY7E"
   },
   "outputs": [
    {
     "data": {
      "text/plain": [
       "<matplotlib.axes._subplots.AxesSubplot at 0x2745ec2d8e0>"
      ]
     },
     "execution_count": 12,
     "metadata": {},
     "output_type": "execute_result"
    },
    {
     "data": {
      "image/png": "[encoded data removed]",
      "text/plain": [
       "<Figure size 432x288 with 1 Axes>"
      ]
     },
     "metadata": {
      "needs_background": "light"
     },
     "output_type": "display_data"
    }
   ],
   "source": [
    "teams_stats['avg_shots'].hist()"
   ]
  },
  {
   "cell_type": "markdown",
   "metadata": {},
   "source": [
    "L'histogramme nous indique que l'écart à la moyenne (qui est autour de 10,5 d'après le \"describe\" vu plus haut) est relativement restreint: la majorité des valeurs du DataFrame se trouvent entre 8 et 12. La mean imputation semble donc pertinente."
   ]
  },
  {
   "cell_type": "code",
   "execution_count": 13,
   "metadata": {
    "executionInfo": {
     "elapsed": 26,
     "status": "aborted",
     "timestamp": 1640249128882,
     "user": {
      "displayName": "R T",
      "photoUrl": "https://lh3.googleusercontent.com/a/default-user=s64",
      "userId": "01703325576658181394"
     },
     "user_tz": -60
    },
    "id": "9COsmXtrMY7L"
   },
   "outputs": [
    {
     "data": {
      "text/plain": [
       "count    1458.000000\n",
       "mean       10.794465\n",
       "std         2.379510\n",
       "min         3.000000\n",
       "25%        10.000000\n",
       "50%        10.794465\n",
       "75%        11.000000\n",
       "max        42.000000\n",
       "Name: avg_shots, dtype: float64"
      ]
     },
     "execution_count": 13,
     "metadata": {},
     "output_type": "execute_result"
    }
   ],
   "source": [
    "\"\"\"Mean imputation pour team stats\"\"\"\n",
    "shots_avg_team_avg = teams_stats['avg_shots'].mean()\n",
    "teams_stats.loc[(teams_stats['avg_shots'].isnull()), 'avg_shots'] = shots_avg_team_avg\n",
    "teams_stats['avg_shots'].describe()"
   ]
  },
  {
   "cell_type": "markdown",
   "metadata": {},
   "source": [
    "On a désormais le bon nombre d'observations. Notons aussi que les quantiles se sont rapprochés de la moyenne, ce qui est naturel au vu de la méthode.\n",
    "Nous allons désormais faire de même avec la colonne \"buildUpPlayDribbling\" de teams_stats."
   ]
  },
  {
   "cell_type": "code",
   "execution_count": 14,
   "metadata": {},
   "outputs": [
    {
     "data": {
      "text/plain": [
       "count    489.000000\n",
       "mean      48.607362\n",
       "std        9.678290\n",
       "min       24.000000\n",
       "25%       42.000000\n",
       "50%       49.000000\n",
       "75%       55.000000\n",
       "max       77.000000\n",
       "Name: buildUpPlayDribbling, dtype: float64"
      ]
     },
     "execution_count": 14,
     "metadata": {},
     "output_type": "execute_result"
    }
   ],
   "source": [
    "teams_stats['buildUpPlayDribbling'].describe()"
   ]
  },
  {
   "cell_type": "code",
   "execution_count": 15,
   "metadata": {
    "executionInfo": {
     "elapsed": 26,
     "status": "aborted",
     "timestamp": 1640249128883,
     "user": {
      "displayName": "R T",
      "photoUrl": "https://lh3.googleusercontent.com/a/default-user=s64",
      "userId": "01703325576658181394"
     },
     "user_tz": -60
    },
    "id": "eif2aWzRMY7N"
   },
   "outputs": [
    {
     "data": {
      "text/plain": [
       "<matplotlib.axes._subplots.AxesSubplot at 0x274533358e0>"
      ]
     },
     "execution_count": 15,
     "metadata": {},
     "output_type": "execute_result"
    },
    {
     "data": {
      "image/png": "[encoded data removed]",
      "text/plain": [
       "<Figure size 432x288 with 1 Axes>"
      ]
     },
     "metadata": {
      "needs_background": "light"
     },
     "output_type": "display_data"
    }
   ],
   "source": [
    "teams_stats['buildUpPlayDribbling'].hist()"
   ]
  },
  {
   "cell_type": "markdown",
   "metadata": {},
   "source": [
    "L'histogramme nous indique que les valeurs sont plus étalées qu'auparavant. Nous allons tout de même faire une imputation, car l'étalement semble encore acceptable."
   ]
  },
  {
   "cell_type": "code",
   "execution_count": 16,
   "metadata": {
    "executionInfo": {
     "elapsed": 26,
     "status": "aborted",
     "timestamp": 1640249128884,
     "user": {
      "displayName": "R T",
      "photoUrl": "https://lh3.googleusercontent.com/a/default-user=s64",
      "userId": "01703325576658181394"
     },
     "user_tz": -60
    },
    "id": "hyxfm4S1MY7O"
   },
   "outputs": [],
   "source": [
    "temp = teams_stats['buildUpPlayDribbling'].mean()\n",
    "teams_stats.loc[(teams_stats['buildUpPlayDribbling'].isnull()), 'buildUpPlayDribbling'] = temp"
   ]
  },
  {
   "cell_type": "markdown",
   "metadata": {},
   "source": [
    "## Deuxième étape: rajout des données des corners"
   ]
  },
  {
   "cell_type": "markdown",
   "metadata": {},
   "source": [
    "Les corners sont des coups de pied arrêtés pouvant mener à des buts. Certaines équipes cherchent activement à s'en procurer afin d'essayer de marquer depuis cet événement de jeu. De ce fait, nous rajoutons les données liées aux corners afin d'affiner notre modèle."
   ]
  },
  {
   "cell_type": "code",
   "execution_count": 17,
   "metadata": {},
   "outputs": [
    {
     "name": "stderr",
     "output_type": "stream",
     "text": [
      "C:\\Users\\rayan\\anaconda3\\lib\\site-packages\\IPython\\core\\interactiveshell.py:3071: DtypeWarning: Columns (15) have mixed types.Specify dtype option on import or set low_memory=False.\n",
      "  has_raised = await self.run_ast_nodes(code_ast.body, cell_name,\n"
     ]
    },
    {
     "data": {
      "text/html": [
       "<div>\n",
       "<style scoped>\n",
       "    .dataframe tbody tr th:only-of-type {\n",
       "        vertical-align: middle;\n",
       "    }\n",
       "\n",
       "    .dataframe tbody tr th {\n",
       "        vertical-align: top;\n",
       "    }\n",
       "\n",
       "    .dataframe thead th {\n",
       "        text-align: right;\n",
       "    }\n",
       "</style>\n",
       "<table border=\"1\" class=\"dataframe\">\n",
       "  <thead>\n",
       "    <tr style=\"text-align: right;\">\n",
       "      <th></th>\n",
       "      <th>id</th>\n",
       "      <th>team_fifa_api_id</th>\n",
       "      <th>team_api_id</th>\n",
       "      <th>buildUpPlaySpeed</th>\n",
       "      <th>buildUpPlayDribbling</th>\n",
       "      <th>buildUpPlayPassing</th>\n",
       "      <th>chanceCreationPassing</th>\n",
       "      <th>chanceCreationCrossing</th>\n",
       "      <th>chanceCreationShooting</th>\n",
       "      <th>defencePressure</th>\n",
       "      <th>defenceAggression</th>\n",
       "      <th>defenceTeamWidth</th>\n",
       "      <th>avg_shots</th>\n",
       "      <th>avg_corners</th>\n",
       "    </tr>\n",
       "  </thead>\n",
       "  <tbody>\n",
       "    <tr>\n",
       "      <th>count</th>\n",
       "      <td>1458.000000</td>\n",
       "      <td>1458.000000</td>\n",
       "      <td>1458.000000</td>\n",
       "      <td>1458.000000</td>\n",
       "      <td>1458.000000</td>\n",
       "      <td>1458.000000</td>\n",
       "      <td>1458.000000</td>\n",
       "      <td>1458.000000</td>\n",
       "      <td>1458.000000</td>\n",
       "      <td>1458.000000</td>\n",
       "      <td>1458.000000</td>\n",
       "      <td>1458.000000</td>\n",
       "      <td>1458.000000</td>\n",
       "      <td>997.000000</td>\n",
       "    </tr>\n",
       "    <tr>\n",
       "      <th>mean</th>\n",
       "      <td>729.500000</td>\n",
       "      <td>17706.982167</td>\n",
       "      <td>9995.727023</td>\n",
       "      <td>52.462277</td>\n",
       "      <td>48.607362</td>\n",
       "      <td>48.490398</td>\n",
       "      <td>52.165295</td>\n",
       "      <td>53.731824</td>\n",
       "      <td>53.969136</td>\n",
       "      <td>46.017147</td>\n",
       "      <td>49.251029</td>\n",
       "      <td>52.185871</td>\n",
       "      <td>10.794465</td>\n",
       "      <td>10.807166</td>\n",
       "    </tr>\n",
       "    <tr>\n",
       "      <th>std</th>\n",
       "      <td>421.032659</td>\n",
       "      <td>39179.857739</td>\n",
       "      <td>13264.869900</td>\n",
       "      <td>11.545869</td>\n",
       "      <td>5.601170</td>\n",
       "      <td>10.896101</td>\n",
       "      <td>10.360793</td>\n",
       "      <td>11.086796</td>\n",
       "      <td>10.327566</td>\n",
       "      <td>10.227225</td>\n",
       "      <td>9.738028</td>\n",
       "      <td>9.574712</td>\n",
       "      <td>2.379510</td>\n",
       "      <td>1.916837</td>\n",
       "    </tr>\n",
       "    <tr>\n",
       "      <th>min</th>\n",
       "      <td>1.000000</td>\n",
       "      <td>1.000000</td>\n",
       "      <td>1601.000000</td>\n",
       "      <td>20.000000</td>\n",
       "      <td>24.000000</td>\n",
       "      <td>20.000000</td>\n",
       "      <td>21.000000</td>\n",
       "      <td>20.000000</td>\n",
       "      <td>22.000000</td>\n",
       "      <td>23.000000</td>\n",
       "      <td>24.000000</td>\n",
       "      <td>29.000000</td>\n",
       "      <td>3.000000</td>\n",
       "      <td>3.000000</td>\n",
       "    </tr>\n",
       "    <tr>\n",
       "      <th>25%</th>\n",
       "      <td>365.250000</td>\n",
       "      <td>110.000000</td>\n",
       "      <td>8457.750000</td>\n",
       "      <td>45.000000</td>\n",
       "      <td>48.607362</td>\n",
       "      <td>40.000000</td>\n",
       "      <td>46.000000</td>\n",
       "      <td>47.000000</td>\n",
       "      <td>48.000000</td>\n",
       "      <td>39.000000</td>\n",
       "      <td>44.000000</td>\n",
       "      <td>47.000000</td>\n",
       "      <td>10.000000</td>\n",
       "      <td>9.700000</td>\n",
       "    </tr>\n",
       "    <tr>\n",
       "      <th>50%</th>\n",
       "      <td>729.500000</td>\n",
       "      <td>485.000000</td>\n",
       "      <td>8674.000000</td>\n",
       "      <td>52.000000</td>\n",
       "      <td>48.607362</td>\n",
       "      <td>50.000000</td>\n",
       "      <td>52.000000</td>\n",
       "      <td>53.000000</td>\n",
       "      <td>53.000000</td>\n",
       "      <td>45.000000</td>\n",
       "      <td>48.000000</td>\n",
       "      <td>52.000000</td>\n",
       "      <td>10.794465</td>\n",
       "      <td>10.591837</td>\n",
       "    </tr>\n",
       "    <tr>\n",
       "      <th>75%</th>\n",
       "      <td>1093.750000</td>\n",
       "      <td>1900.000000</td>\n",
       "      <td>9904.000000</td>\n",
       "      <td>62.000000</td>\n",
       "      <td>48.607362</td>\n",
       "      <td>55.000000</td>\n",
       "      <td>59.000000</td>\n",
       "      <td>62.000000</td>\n",
       "      <td>61.000000</td>\n",
       "      <td>51.000000</td>\n",
       "      <td>55.000000</td>\n",
       "      <td>58.000000</td>\n",
       "      <td>11.000000</td>\n",
       "      <td>11.526316</td>\n",
       "    </tr>\n",
       "    <tr>\n",
       "      <th>max</th>\n",
       "      <td>1458.000000</td>\n",
       "      <td>112513.000000</td>\n",
       "      <td>274581.000000</td>\n",
       "      <td>80.000000</td>\n",
       "      <td>77.000000</td>\n",
       "      <td>80.000000</td>\n",
       "      <td>80.000000</td>\n",
       "      <td>80.000000</td>\n",
       "      <td>80.000000</td>\n",
       "      <td>72.000000</td>\n",
       "      <td>72.000000</td>\n",
       "      <td>73.000000</td>\n",
       "      <td>42.000000</td>\n",
       "      <td>21.000000</td>\n",
       "    </tr>\n",
       "  </tbody>\n",
       "</table>\n",
       "</div>"
      ],
      "text/plain": [
       "                id  team_fifa_api_id    team_api_id  buildUpPlaySpeed  \\\n",
       "count  1458.000000       1458.000000    1458.000000       1458.000000   \n",
       "mean    729.500000      17706.982167    9995.727023         52.462277   \n",
       "std     421.032659      39179.857739   13264.869900         11.545869   \n",
       "min       1.000000          1.000000    1601.000000         20.000000   \n",
       "25%     365.250000        110.000000    8457.750000         45.000000   \n",
       "50%     729.500000        485.000000    8674.000000         52.000000   \n",
       "75%    1093.750000       1900.000000    9904.000000         62.000000   \n",
       "max    1458.000000     112513.000000  274581.000000         80.000000   \n",
       "\n",
       "       buildUpPlayDribbling  buildUpPlayPassing  chanceCreationPassing  \\\n",
       "count           1458.000000         1458.000000            1458.000000   \n",
       "mean              48.607362           48.490398              52.165295   \n",
       "std                5.601170           10.896101              10.360793   \n",
       "min               24.000000           20.000000              21.000000   \n",
       "25%               48.607362           40.000000              46.000000   \n",
       "50%               48.607362           50.000000              52.000000   \n",
       "75%               48.607362           55.000000              59.000000   \n",
       "max               77.000000           80.000000              80.000000   \n",
       "\n",
       "       chanceCreationCrossing  chanceCreationShooting  defencePressure  \\\n",
       "count             1458.000000             1458.000000      1458.000000   \n",
       "mean                53.731824               53.969136        46.017147   \n",
       "std                 11.086796               10.327566        10.227225   \n",
       "min                 20.000000               22.000000        23.000000   \n",
       "25%                 47.000000               48.000000        39.000000   \n",
       "50%                 53.000000               53.000000        45.000000   \n",
       "75%                 62.000000               61.000000        51.000000   \n",
       "max                 80.000000               80.000000        72.000000   \n",
       "\n",
       "       defenceAggression  defenceTeamWidth    avg_shots  avg_corners  \n",
       "count        1458.000000       1458.000000  1458.000000   997.000000  \n",
       "mean           49.251029         52.185871    10.794465    10.807166  \n",
       "std             9.738028          9.574712     2.379510     1.916837  \n",
       "min            24.000000         29.000000     3.000000     3.000000  \n",
       "25%            44.000000         47.000000    10.000000     9.700000  \n",
       "50%            48.000000         52.000000    10.794465    10.591837  \n",
       "75%            55.000000         58.000000    11.000000    11.526316  \n",
       "max            72.000000         73.000000    42.000000    21.000000  "
      ]
     },
     "execution_count": 17,
     "metadata": {},
     "output_type": "execute_result"
    }
   ],
   "source": [
    "corners_data = pd.read_csv(\"C:\\\\Users\\\\rayan\\\\Documents\\\\football prediction\\\\football-classification-predications-master\\\\Dataset\\\\corner_detail.csv\")\n",
    "corners = corners_data[['match_id', 'team']]\n",
    "\n",
    "total_corners = corners[\"team\"].value_counts()\n",
    "total_matches = corners.drop_duplicates(['match_id', 'team'])[\"team\"].value_counts()\n",
    "\n",
    "for index, n_corners in shots.iteritems():\n",
    "    n_matches = total_matches[index]\n",
    "    avg_corners = n_corners / n_matches\n",
    "    teams_stats.loc[teams_stats['team_api_id'] == index, 'avg_corners'] = avg_corners\n",
    "    \n",
    "teams_stats.describe()"
   ]
  },
  {
   "cell_type": "markdown",
   "metadata": {},
   "source": [
    "On remarque qu'il manque des données puisque le compte de \"avg_corners\" est inférieur à celui des autres colonnes. Cependant, nous estimons que le gain de précision lié à l'ajout des données de corners pour certains matchs est trop important pour laisser cette colonne de côté: nous allons donc utiliser à nouveau la technique de la mean imputation pour nous défaire de notre problème."
   ]
  },
  {
   "cell_type": "code",
   "execution_count": 18,
   "metadata": {},
   "outputs": [
    {
     "data": {
      "text/html": [
       "<div>\n",
       "<style scoped>\n",
       "    .dataframe tbody tr th:only-of-type {\n",
       "        vertical-align: middle;\n",
       "    }\n",
       "\n",
       "    .dataframe tbody tr th {\n",
       "        vertical-align: top;\n",
       "    }\n",
       "\n",
       "    .dataframe thead th {\n",
       "        text-align: right;\n",
       "    }\n",
       "</style>\n",
       "<table border=\"1\" class=\"dataframe\">\n",
       "  <thead>\n",
       "    <tr style=\"text-align: right;\">\n",
       "      <th></th>\n",
       "      <th>id</th>\n",
       "      <th>team_fifa_api_id</th>\n",
       "      <th>team_api_id</th>\n",
       "      <th>buildUpPlaySpeed</th>\n",
       "      <th>buildUpPlayDribbling</th>\n",
       "      <th>buildUpPlayPassing</th>\n",
       "      <th>chanceCreationPassing</th>\n",
       "      <th>chanceCreationCrossing</th>\n",
       "      <th>chanceCreationShooting</th>\n",
       "      <th>defencePressure</th>\n",
       "      <th>defenceAggression</th>\n",
       "      <th>defenceTeamWidth</th>\n",
       "      <th>avg_shots</th>\n",
       "      <th>avg_corners</th>\n",
       "    </tr>\n",
       "  </thead>\n",
       "  <tbody>\n",
       "    <tr>\n",
       "      <th>count</th>\n",
       "      <td>1458.000000</td>\n",
       "      <td>1458.000000</td>\n",
       "      <td>1458.000000</td>\n",
       "      <td>1458.000000</td>\n",
       "      <td>1458.000000</td>\n",
       "      <td>1458.000000</td>\n",
       "      <td>1458.000000</td>\n",
       "      <td>1458.000000</td>\n",
       "      <td>1458.000000</td>\n",
       "      <td>1458.000000</td>\n",
       "      <td>1458.000000</td>\n",
       "      <td>1458.000000</td>\n",
       "      <td>1458.000000</td>\n",
       "      <td>1458.000000</td>\n",
       "    </tr>\n",
       "    <tr>\n",
       "      <th>mean</th>\n",
       "      <td>729.500000</td>\n",
       "      <td>17706.982167</td>\n",
       "      <td>9995.727023</td>\n",
       "      <td>52.462277</td>\n",
       "      <td>48.607362</td>\n",
       "      <td>48.490398</td>\n",
       "      <td>52.165295</td>\n",
       "      <td>53.731824</td>\n",
       "      <td>53.969136</td>\n",
       "      <td>46.017147</td>\n",
       "      <td>49.251029</td>\n",
       "      <td>52.185871</td>\n",
       "      <td>10.794465</td>\n",
       "      <td>10.807166</td>\n",
       "    </tr>\n",
       "    <tr>\n",
       "      <th>std</th>\n",
       "      <td>421.032659</td>\n",
       "      <td>39179.857739</td>\n",
       "      <td>13264.869900</td>\n",
       "      <td>11.545869</td>\n",
       "      <td>5.601170</td>\n",
       "      <td>10.896101</td>\n",
       "      <td>10.360793</td>\n",
       "      <td>11.086796</td>\n",
       "      <td>10.327566</td>\n",
       "      <td>10.227225</td>\n",
       "      <td>9.738028</td>\n",
       "      <td>9.574712</td>\n",
       "      <td>2.379510</td>\n",
       "      <td>1.584839</td>\n",
       "    </tr>\n",
       "    <tr>\n",
       "      <th>min</th>\n",
       "      <td>1.000000</td>\n",
       "      <td>1.000000</td>\n",
       "      <td>1601.000000</td>\n",
       "      <td>20.000000</td>\n",
       "      <td>24.000000</td>\n",
       "      <td>20.000000</td>\n",
       "      <td>21.000000</td>\n",
       "      <td>20.000000</td>\n",
       "      <td>22.000000</td>\n",
       "      <td>23.000000</td>\n",
       "      <td>24.000000</td>\n",
       "      <td>29.000000</td>\n",
       "      <td>3.000000</td>\n",
       "      <td>3.000000</td>\n",
       "    </tr>\n",
       "    <tr>\n",
       "      <th>25%</th>\n",
       "      <td>365.250000</td>\n",
       "      <td>110.000000</td>\n",
       "      <td>8457.750000</td>\n",
       "      <td>45.000000</td>\n",
       "      <td>48.607362</td>\n",
       "      <td>40.000000</td>\n",
       "      <td>46.000000</td>\n",
       "      <td>47.000000</td>\n",
       "      <td>48.000000</td>\n",
       "      <td>39.000000</td>\n",
       "      <td>44.000000</td>\n",
       "      <td>47.000000</td>\n",
       "      <td>10.000000</td>\n",
       "      <td>10.119718</td>\n",
       "    </tr>\n",
       "    <tr>\n",
       "      <th>50%</th>\n",
       "      <td>729.500000</td>\n",
       "      <td>485.000000</td>\n",
       "      <td>8674.000000</td>\n",
       "      <td>52.000000</td>\n",
       "      <td>48.607362</td>\n",
       "      <td>50.000000</td>\n",
       "      <td>52.000000</td>\n",
       "      <td>53.000000</td>\n",
       "      <td>53.000000</td>\n",
       "      <td>45.000000</td>\n",
       "      <td>48.000000</td>\n",
       "      <td>52.000000</td>\n",
       "      <td>10.794465</td>\n",
       "      <td>10.807166</td>\n",
       "    </tr>\n",
       "    <tr>\n",
       "      <th>75%</th>\n",
       "      <td>1093.750000</td>\n",
       "      <td>1900.000000</td>\n",
       "      <td>9904.000000</td>\n",
       "      <td>62.000000</td>\n",
       "      <td>48.607362</td>\n",
       "      <td>55.000000</td>\n",
       "      <td>59.000000</td>\n",
       "      <td>62.000000</td>\n",
       "      <td>61.000000</td>\n",
       "      <td>51.000000</td>\n",
       "      <td>55.000000</td>\n",
       "      <td>58.000000</td>\n",
       "      <td>11.000000</td>\n",
       "      <td>11.105263</td>\n",
       "    </tr>\n",
       "    <tr>\n",
       "      <th>max</th>\n",
       "      <td>1458.000000</td>\n",
       "      <td>112513.000000</td>\n",
       "      <td>274581.000000</td>\n",
       "      <td>80.000000</td>\n",
       "      <td>77.000000</td>\n",
       "      <td>80.000000</td>\n",
       "      <td>80.000000</td>\n",
       "      <td>80.000000</td>\n",
       "      <td>80.000000</td>\n",
       "      <td>72.000000</td>\n",
       "      <td>72.000000</td>\n",
       "      <td>73.000000</td>\n",
       "      <td>42.000000</td>\n",
       "      <td>21.000000</td>\n",
       "    </tr>\n",
       "  </tbody>\n",
       "</table>\n",
       "</div>"
      ],
      "text/plain": [
       "                id  team_fifa_api_id    team_api_id  buildUpPlaySpeed  \\\n",
       "count  1458.000000       1458.000000    1458.000000       1458.000000   \n",
       "mean    729.500000      17706.982167    9995.727023         52.462277   \n",
       "std     421.032659      39179.857739   13264.869900         11.545869   \n",
       "min       1.000000          1.000000    1601.000000         20.000000   \n",
       "25%     365.250000        110.000000    8457.750000         45.000000   \n",
       "50%     729.500000        485.000000    8674.000000         52.000000   \n",
       "75%    1093.750000       1900.000000    9904.000000         62.000000   \n",
       "max    1458.000000     112513.000000  274581.000000         80.000000   \n",
       "\n",
       "       buildUpPlayDribbling  buildUpPlayPassing  chanceCreationPassing  \\\n",
       "count           1458.000000         1458.000000            1458.000000   \n",
       "mean              48.607362           48.490398              52.165295   \n",
       "std                5.601170           10.896101              10.360793   \n",
       "min               24.000000           20.000000              21.000000   \n",
       "25%               48.607362           40.000000              46.000000   \n",
       "50%               48.607362           50.000000              52.000000   \n",
       "75%               48.607362           55.000000              59.000000   \n",
       "max               77.000000           80.000000              80.000000   \n",
       "\n",
       "       chanceCreationCrossing  chanceCreationShooting  defencePressure  \\\n",
       "count             1458.000000             1458.000000      1458.000000   \n",
       "mean                53.731824               53.969136        46.017147   \n",
       "std                 11.086796               10.327566        10.227225   \n",
       "min                 20.000000               22.000000        23.000000   \n",
       "25%                 47.000000               48.000000        39.000000   \n",
       "50%                 53.000000               53.000000        45.000000   \n",
       "75%                 62.000000               61.000000        51.000000   \n",
       "max                 80.000000               80.000000        72.000000   \n",
       "\n",
       "       defenceAggression  defenceTeamWidth    avg_shots  avg_corners  \n",
       "count        1458.000000       1458.000000  1458.000000  1458.000000  \n",
       "mean           49.251029         52.185871    10.794465    10.807166  \n",
       "std             9.738028          9.574712     2.379510     1.584839  \n",
       "min            24.000000         29.000000     3.000000     3.000000  \n",
       "25%            44.000000         47.000000    10.000000    10.119718  \n",
       "50%            48.000000         52.000000    10.794465    10.807166  \n",
       "75%            55.000000         58.000000    11.000000    11.105263  \n",
       "max            72.000000         73.000000    42.000000    21.000000  "
      ]
     },
     "execution_count": 18,
     "metadata": {},
     "output_type": "execute_result"
    }
   ],
   "source": [
    "corners_avg_team_avg = teams_stats['avg_corners'].mean()\n",
    "# mean imputation\n",
    "teams_stats.loc[(teams_stats['avg_corners'].isnull()), 'avg_corners'] = corners_avg_team_avg\n",
    "teams_stats.describe()"
   ]
  },
  {
   "cell_type": "markdown",
   "metadata": {},
   "source": [
    "## Troisième étape: Rajout des données des centres"
   ]
  },
  {
   "cell_type": "markdown",
   "metadata": {},
   "source": [
    "De même que les corners, les centres sont des événements pouvant mener à des buts et affectent donc substantiellement le résultat d'un match. Nous alons donc ajouter les données des centres dans notre DataFrame."
   ]
  },
  {
   "cell_type": "code",
   "execution_count": 19,
   "metadata": {},
   "outputs": [
    {
     "name": "stderr",
     "output_type": "stream",
     "text": [
      "C:\\Users\\rayan\\anaconda3\\lib\\site-packages\\IPython\\core\\interactiveshell.py:3071: DtypeWarning: Columns (8,17) have mixed types.Specify dtype option on import or set low_memory=False.\n",
      "  has_raised = await self.run_ast_nodes(code_ast.body, cell_name,\n"
     ]
    },
    {
     "data": {
      "text/html": [
       "<div>\n",
       "<style scoped>\n",
       "    .dataframe tbody tr th:only-of-type {\n",
       "        vertical-align: middle;\n",
       "    }\n",
       "\n",
       "    .dataframe tbody tr th {\n",
       "        vertical-align: top;\n",
       "    }\n",
       "\n",
       "    .dataframe thead th {\n",
       "        text-align: right;\n",
       "    }\n",
       "</style>\n",
       "<table border=\"1\" class=\"dataframe\">\n",
       "  <thead>\n",
       "    <tr style=\"text-align: right;\">\n",
       "      <th></th>\n",
       "      <th>id</th>\n",
       "      <th>team_fifa_api_id</th>\n",
       "      <th>team_api_id</th>\n",
       "      <th>buildUpPlaySpeed</th>\n",
       "      <th>buildUpPlayDribbling</th>\n",
       "      <th>buildUpPlayPassing</th>\n",
       "      <th>chanceCreationPassing</th>\n",
       "      <th>chanceCreationCrossing</th>\n",
       "      <th>chanceCreationShooting</th>\n",
       "      <th>defencePressure</th>\n",
       "      <th>defenceAggression</th>\n",
       "      <th>defenceTeamWidth</th>\n",
       "      <th>avg_shots</th>\n",
       "      <th>avg_corners</th>\n",
       "      <th>avg_crosses</th>\n",
       "    </tr>\n",
       "  </thead>\n",
       "  <tbody>\n",
       "    <tr>\n",
       "      <th>count</th>\n",
       "      <td>1458.000000</td>\n",
       "      <td>1458.000000</td>\n",
       "      <td>1458.000000</td>\n",
       "      <td>1458.000000</td>\n",
       "      <td>1458.000000</td>\n",
       "      <td>1458.000000</td>\n",
       "      <td>1458.000000</td>\n",
       "      <td>1458.000000</td>\n",
       "      <td>1458.000000</td>\n",
       "      <td>1458.000000</td>\n",
       "      <td>1458.000000</td>\n",
       "      <td>1458.000000</td>\n",
       "      <td>1458.000000</td>\n",
       "      <td>1458.000000</td>\n",
       "      <td>997.000000</td>\n",
       "    </tr>\n",
       "    <tr>\n",
       "      <th>mean</th>\n",
       "      <td>729.500000</td>\n",
       "      <td>17706.982167</td>\n",
       "      <td>9995.727023</td>\n",
       "      <td>52.462277</td>\n",
       "      <td>48.607362</td>\n",
       "      <td>48.490398</td>\n",
       "      <td>52.165295</td>\n",
       "      <td>53.731824</td>\n",
       "      <td>53.969136</td>\n",
       "      <td>46.017147</td>\n",
       "      <td>49.251029</td>\n",
       "      <td>52.185871</td>\n",
       "      <td>10.794465</td>\n",
       "      <td>10.807166</td>\n",
       "      <td>15.888237</td>\n",
       "    </tr>\n",
       "    <tr>\n",
       "      <th>std</th>\n",
       "      <td>421.032659</td>\n",
       "      <td>39179.857739</td>\n",
       "      <td>13264.869900</td>\n",
       "      <td>11.545869</td>\n",
       "      <td>5.601170</td>\n",
       "      <td>10.896101</td>\n",
       "      <td>10.360793</td>\n",
       "      <td>11.086796</td>\n",
       "      <td>10.327566</td>\n",
       "      <td>10.227225</td>\n",
       "      <td>9.738028</td>\n",
       "      <td>9.574712</td>\n",
       "      <td>2.379510</td>\n",
       "      <td>1.584839</td>\n",
       "      <td>2.815376</td>\n",
       "    </tr>\n",
       "    <tr>\n",
       "      <th>min</th>\n",
       "      <td>1.000000</td>\n",
       "      <td>1.000000</td>\n",
       "      <td>1601.000000</td>\n",
       "      <td>20.000000</td>\n",
       "      <td>24.000000</td>\n",
       "      <td>20.000000</td>\n",
       "      <td>21.000000</td>\n",
       "      <td>20.000000</td>\n",
       "      <td>22.000000</td>\n",
       "      <td>23.000000</td>\n",
       "      <td>24.000000</td>\n",
       "      <td>29.000000</td>\n",
       "      <td>3.000000</td>\n",
       "      <td>3.000000</td>\n",
       "      <td>1.500000</td>\n",
       "    </tr>\n",
       "    <tr>\n",
       "      <th>25%</th>\n",
       "      <td>365.250000</td>\n",
       "      <td>110.000000</td>\n",
       "      <td>8457.750000</td>\n",
       "      <td>45.000000</td>\n",
       "      <td>48.607362</td>\n",
       "      <td>40.000000</td>\n",
       "      <td>46.000000</td>\n",
       "      <td>47.000000</td>\n",
       "      <td>48.000000</td>\n",
       "      <td>39.000000</td>\n",
       "      <td>44.000000</td>\n",
       "      <td>47.000000</td>\n",
       "      <td>10.000000</td>\n",
       "      <td>10.119718</td>\n",
       "      <td>14.358974</td>\n",
       "    </tr>\n",
       "    <tr>\n",
       "      <th>50%</th>\n",
       "      <td>729.500000</td>\n",
       "      <td>485.000000</td>\n",
       "      <td>8674.000000</td>\n",
       "      <td>52.000000</td>\n",
       "      <td>48.607362</td>\n",
       "      <td>50.000000</td>\n",
       "      <td>52.000000</td>\n",
       "      <td>53.000000</td>\n",
       "      <td>53.000000</td>\n",
       "      <td>45.000000</td>\n",
       "      <td>48.000000</td>\n",
       "      <td>52.000000</td>\n",
       "      <td>10.794465</td>\n",
       "      <td>10.807166</td>\n",
       "      <td>15.750000</td>\n",
       "    </tr>\n",
       "    <tr>\n",
       "      <th>75%</th>\n",
       "      <td>1093.750000</td>\n",
       "      <td>1900.000000</td>\n",
       "      <td>9904.000000</td>\n",
       "      <td>62.000000</td>\n",
       "      <td>48.607362</td>\n",
       "      <td>55.000000</td>\n",
       "      <td>59.000000</td>\n",
       "      <td>62.000000</td>\n",
       "      <td>61.000000</td>\n",
       "      <td>51.000000</td>\n",
       "      <td>55.000000</td>\n",
       "      <td>58.000000</td>\n",
       "      <td>11.000000</td>\n",
       "      <td>11.105263</td>\n",
       "      <td>17.782895</td>\n",
       "    </tr>\n",
       "    <tr>\n",
       "      <th>max</th>\n",
       "      <td>1458.000000</td>\n",
       "      <td>112513.000000</td>\n",
       "      <td>274581.000000</td>\n",
       "      <td>80.000000</td>\n",
       "      <td>77.000000</td>\n",
       "      <td>80.000000</td>\n",
       "      <td>80.000000</td>\n",
       "      <td>80.000000</td>\n",
       "      <td>80.000000</td>\n",
       "      <td>72.000000</td>\n",
       "      <td>72.000000</td>\n",
       "      <td>73.000000</td>\n",
       "      <td>42.000000</td>\n",
       "      <td>21.000000</td>\n",
       "      <td>27.000000</td>\n",
       "    </tr>\n",
       "  </tbody>\n",
       "</table>\n",
       "</div>"
      ],
      "text/plain": [
       "                id  team_fifa_api_id    team_api_id  buildUpPlaySpeed  \\\n",
       "count  1458.000000       1458.000000    1458.000000       1458.000000   \n",
       "mean    729.500000      17706.982167    9995.727023         52.462277   \n",
       "std     421.032659      39179.857739   13264.869900         11.545869   \n",
       "min       1.000000          1.000000    1601.000000         20.000000   \n",
       "25%     365.250000        110.000000    8457.750000         45.000000   \n",
       "50%     729.500000        485.000000    8674.000000         52.000000   \n",
       "75%    1093.750000       1900.000000    9904.000000         62.000000   \n",
       "max    1458.000000     112513.000000  274581.000000         80.000000   \n",
       "\n",
       "       buildUpPlayDribbling  buildUpPlayPassing  chanceCreationPassing  \\\n",
       "count           1458.000000         1458.000000            1458.000000   \n",
       "mean              48.607362           48.490398              52.165295   \n",
       "std                5.601170           10.896101              10.360793   \n",
       "min               24.000000           20.000000              21.000000   \n",
       "25%               48.607362           40.000000              46.000000   \n",
       "50%               48.607362           50.000000              52.000000   \n",
       "75%               48.607362           55.000000              59.000000   \n",
       "max               77.000000           80.000000              80.000000   \n",
       "\n",
       "       chanceCreationCrossing  chanceCreationShooting  defencePressure  \\\n",
       "count             1458.000000             1458.000000      1458.000000   \n",
       "mean                53.731824               53.969136        46.017147   \n",
       "std                 11.086796               10.327566        10.227225   \n",
       "min                 20.000000               22.000000        23.000000   \n",
       "25%                 47.000000               48.000000        39.000000   \n",
       "50%                 53.000000               53.000000        45.000000   \n",
       "75%                 62.000000               61.000000        51.000000   \n",
       "max                 80.000000               80.000000        72.000000   \n",
       "\n",
       "       defenceAggression  defenceTeamWidth    avg_shots  avg_corners  \\\n",
       "count        1458.000000       1458.000000  1458.000000  1458.000000   \n",
       "mean           49.251029         52.185871    10.794465    10.807166   \n",
       "std             9.738028          9.574712     2.379510     1.584839   \n",
       "min            24.000000         29.000000     3.000000     3.000000   \n",
       "25%            44.000000         47.000000    10.000000    10.119718   \n",
       "50%            48.000000         52.000000    10.794465    10.807166   \n",
       "75%            55.000000         58.000000    11.000000    11.105263   \n",
       "max            72.000000         73.000000    42.000000    21.000000   \n",
       "\n",
       "       avg_crosses  \n",
       "count   997.000000  \n",
       "mean     15.888237  \n",
       "std       2.815376  \n",
       "min       1.500000  \n",
       "25%      14.358974  \n",
       "50%      15.750000  \n",
       "75%      17.782895  \n",
       "max      27.000000  "
      ]
     },
     "execution_count": 19,
     "metadata": {},
     "output_type": "execute_result"
    }
   ],
   "source": [
    "crosses_data = pd.read_csv(\"C:\\\\Users\\\\rayan\\\\Documents\\\\football prediction\\\\football-classification-predications-master\\\\Dataset\\\\cross_detail.csv\")\n",
    "\n",
    "crosses = crosses_data[['match_id', 'team']]\n",
    "total_crosses = crosses[\"team\"].value_counts()\n",
    "total_matches = crosses.drop_duplicates(['match_id', 'team'])[\"team\"].value_counts()\n",
    "\n",
    "for index, n_crosses in total_crosses.iteritems():\n",
    "    n_matches = total_matches[index]\n",
    "    avg_crosses = n_crosses / n_matches\n",
    "    teams_stats.loc[teams_stats['team_api_id'] == index, 'avg_crosses'] = avg_crosses\n",
    "\n",
    "teams_stats.describe()"
   ]
  },
  {
   "cell_type": "markdown",
   "metadata": {},
   "source": [
    "Il manque des valeurs, nous nous tournons donc encore vers la Mean imputation:"
   ]
  },
  {
   "cell_type": "code",
   "execution_count": 20,
   "metadata": {},
   "outputs": [
    {
     "data": {
      "text/html": [
       "<div>\n",
       "<style scoped>\n",
       "    .dataframe tbody tr th:only-of-type {\n",
       "        vertical-align: middle;\n",
       "    }\n",
       "\n",
       "    .dataframe tbody tr th {\n",
       "        vertical-align: top;\n",
       "    }\n",
       "\n",
       "    .dataframe thead th {\n",
       "        text-align: right;\n",
       "    }\n",
       "</style>\n",
       "<table border=\"1\" class=\"dataframe\">\n",
       "  <thead>\n",
       "    <tr style=\"text-align: right;\">\n",
       "      <th></th>\n",
       "      <th>id</th>\n",
       "      <th>team_fifa_api_id</th>\n",
       "      <th>team_api_id</th>\n",
       "      <th>buildUpPlaySpeed</th>\n",
       "      <th>buildUpPlayDribbling</th>\n",
       "      <th>buildUpPlayPassing</th>\n",
       "      <th>chanceCreationPassing</th>\n",
       "      <th>chanceCreationCrossing</th>\n",
       "      <th>chanceCreationShooting</th>\n",
       "      <th>defencePressure</th>\n",
       "      <th>defenceAggression</th>\n",
       "      <th>defenceTeamWidth</th>\n",
       "      <th>avg_shots</th>\n",
       "      <th>avg_corners</th>\n",
       "      <th>avg_crosses</th>\n",
       "    </tr>\n",
       "  </thead>\n",
       "  <tbody>\n",
       "    <tr>\n",
       "      <th>count</th>\n",
       "      <td>1458.000000</td>\n",
       "      <td>1458.000000</td>\n",
       "      <td>1458.000000</td>\n",
       "      <td>1458.000000</td>\n",
       "      <td>1458.000000</td>\n",
       "      <td>1458.000000</td>\n",
       "      <td>1458.000000</td>\n",
       "      <td>1458.000000</td>\n",
       "      <td>1458.000000</td>\n",
       "      <td>1458.000000</td>\n",
       "      <td>1458.000000</td>\n",
       "      <td>1458.000000</td>\n",
       "      <td>1458.000000</td>\n",
       "      <td>1458.000000</td>\n",
       "      <td>1458.000000</td>\n",
       "    </tr>\n",
       "    <tr>\n",
       "      <th>mean</th>\n",
       "      <td>729.500000</td>\n",
       "      <td>17706.982167</td>\n",
       "      <td>9995.727023</td>\n",
       "      <td>52.462277</td>\n",
       "      <td>48.607362</td>\n",
       "      <td>48.490398</td>\n",
       "      <td>52.165295</td>\n",
       "      <td>53.731824</td>\n",
       "      <td>53.969136</td>\n",
       "      <td>46.017147</td>\n",
       "      <td>49.251029</td>\n",
       "      <td>52.185871</td>\n",
       "      <td>10.794465</td>\n",
       "      <td>10.807166</td>\n",
       "      <td>15.888237</td>\n",
       "    </tr>\n",
       "    <tr>\n",
       "      <th>std</th>\n",
       "      <td>421.032659</td>\n",
       "      <td>39179.857739</td>\n",
       "      <td>13264.869900</td>\n",
       "      <td>11.545869</td>\n",
       "      <td>5.601170</td>\n",
       "      <td>10.896101</td>\n",
       "      <td>10.360793</td>\n",
       "      <td>11.086796</td>\n",
       "      <td>10.327566</td>\n",
       "      <td>10.227225</td>\n",
       "      <td>9.738028</td>\n",
       "      <td>9.574712</td>\n",
       "      <td>2.379510</td>\n",
       "      <td>1.584839</td>\n",
       "      <td>2.327750</td>\n",
       "    </tr>\n",
       "    <tr>\n",
       "      <th>min</th>\n",
       "      <td>1.000000</td>\n",
       "      <td>1.000000</td>\n",
       "      <td>1601.000000</td>\n",
       "      <td>20.000000</td>\n",
       "      <td>24.000000</td>\n",
       "      <td>20.000000</td>\n",
       "      <td>21.000000</td>\n",
       "      <td>20.000000</td>\n",
       "      <td>22.000000</td>\n",
       "      <td>23.000000</td>\n",
       "      <td>24.000000</td>\n",
       "      <td>29.000000</td>\n",
       "      <td>3.000000</td>\n",
       "      <td>3.000000</td>\n",
       "      <td>1.500000</td>\n",
       "    </tr>\n",
       "    <tr>\n",
       "      <th>25%</th>\n",
       "      <td>365.250000</td>\n",
       "      <td>110.000000</td>\n",
       "      <td>8457.750000</td>\n",
       "      <td>45.000000</td>\n",
       "      <td>48.607362</td>\n",
       "      <td>40.000000</td>\n",
       "      <td>46.000000</td>\n",
       "      <td>47.000000</td>\n",
       "      <td>48.000000</td>\n",
       "      <td>39.000000</td>\n",
       "      <td>44.000000</td>\n",
       "      <td>47.000000</td>\n",
       "      <td>10.000000</td>\n",
       "      <td>10.119718</td>\n",
       "      <td>14.971448</td>\n",
       "    </tr>\n",
       "    <tr>\n",
       "      <th>50%</th>\n",
       "      <td>729.500000</td>\n",
       "      <td>485.000000</td>\n",
       "      <td>8674.000000</td>\n",
       "      <td>52.000000</td>\n",
       "      <td>48.607362</td>\n",
       "      <td>50.000000</td>\n",
       "      <td>52.000000</td>\n",
       "      <td>53.000000</td>\n",
       "      <td>53.000000</td>\n",
       "      <td>45.000000</td>\n",
       "      <td>48.000000</td>\n",
       "      <td>52.000000</td>\n",
       "      <td>10.794465</td>\n",
       "      <td>10.807166</td>\n",
       "      <td>15.888237</td>\n",
       "    </tr>\n",
       "    <tr>\n",
       "      <th>75%</th>\n",
       "      <td>1093.750000</td>\n",
       "      <td>1900.000000</td>\n",
       "      <td>9904.000000</td>\n",
       "      <td>62.000000</td>\n",
       "      <td>48.607362</td>\n",
       "      <td>55.000000</td>\n",
       "      <td>59.000000</td>\n",
       "      <td>62.000000</td>\n",
       "      <td>61.000000</td>\n",
       "      <td>51.000000</td>\n",
       "      <td>55.000000</td>\n",
       "      <td>58.000000</td>\n",
       "      <td>11.000000</td>\n",
       "      <td>11.105263</td>\n",
       "      <td>16.671053</td>\n",
       "    </tr>\n",
       "    <tr>\n",
       "      <th>max</th>\n",
       "      <td>1458.000000</td>\n",
       "      <td>112513.000000</td>\n",
       "      <td>274581.000000</td>\n",
       "      <td>80.000000</td>\n",
       "      <td>77.000000</td>\n",
       "      <td>80.000000</td>\n",
       "      <td>80.000000</td>\n",
       "      <td>80.000000</td>\n",
       "      <td>80.000000</td>\n",
       "      <td>72.000000</td>\n",
       "      <td>72.000000</td>\n",
       "      <td>73.000000</td>\n",
       "      <td>42.000000</td>\n",
       "      <td>21.000000</td>\n",
       "      <td>27.000000</td>\n",
       "    </tr>\n",
       "  </tbody>\n",
       "</table>\n",
       "</div>"
      ],
      "text/plain": [
       "                id  team_fifa_api_id    team_api_id  buildUpPlaySpeed  \\\n",
       "count  1458.000000       1458.000000    1458.000000       1458.000000   \n",
       "mean    729.500000      17706.982167    9995.727023         52.462277   \n",
       "std     421.032659      39179.857739   13264.869900         11.545869   \n",
       "min       1.000000          1.000000    1601.000000         20.000000   \n",
       "25%     365.250000        110.000000    8457.750000         45.000000   \n",
       "50%     729.500000        485.000000    8674.000000         52.000000   \n",
       "75%    1093.750000       1900.000000    9904.000000         62.000000   \n",
       "max    1458.000000     112513.000000  274581.000000         80.000000   \n",
       "\n",
       "       buildUpPlayDribbling  buildUpPlayPassing  chanceCreationPassing  \\\n",
       "count           1458.000000         1458.000000            1458.000000   \n",
       "mean              48.607362           48.490398              52.165295   \n",
       "std                5.601170           10.896101              10.360793   \n",
       "min               24.000000           20.000000              21.000000   \n",
       "25%               48.607362           40.000000              46.000000   \n",
       "50%               48.607362           50.000000              52.000000   \n",
       "75%               48.607362           55.000000              59.000000   \n",
       "max               77.000000           80.000000              80.000000   \n",
       "\n",
       "       chanceCreationCrossing  chanceCreationShooting  defencePressure  \\\n",
       "count             1458.000000             1458.000000      1458.000000   \n",
       "mean                53.731824               53.969136        46.017147   \n",
       "std                 11.086796               10.327566        10.227225   \n",
       "min                 20.000000               22.000000        23.000000   \n",
       "25%                 47.000000               48.000000        39.000000   \n",
       "50%                 53.000000               53.000000        45.000000   \n",
       "75%                 62.000000               61.000000        51.000000   \n",
       "max                 80.000000               80.000000        72.000000   \n",
       "\n",
       "       defenceAggression  defenceTeamWidth    avg_shots  avg_corners  \\\n",
       "count        1458.000000       1458.000000  1458.000000  1458.000000   \n",
       "mean           49.251029         52.185871    10.794465    10.807166   \n",
       "std             9.738028          9.574712     2.379510     1.584839   \n",
       "min            24.000000         29.000000     3.000000     3.000000   \n",
       "25%            44.000000         47.000000    10.000000    10.119718   \n",
       "50%            48.000000         52.000000    10.794465    10.807166   \n",
       "75%            55.000000         58.000000    11.000000    11.105263   \n",
       "max            72.000000         73.000000    42.000000    21.000000   \n",
       "\n",
       "       avg_crosses  \n",
       "count  1458.000000  \n",
       "mean     15.888237  \n",
       "std       2.327750  \n",
       "min       1.500000  \n",
       "25%      14.971448  \n",
       "50%      15.888237  \n",
       "75%      16.671053  \n",
       "max      27.000000  "
      ]
     },
     "execution_count": 20,
     "metadata": {},
     "output_type": "execute_result"
    }
   ],
   "source": [
    "crosses_avg_team_avg = teams_stats['avg_crosses'].mean()\n",
    "# mean imputation\n",
    "teams_stats.loc[(teams_stats['avg_crosses'].isnull()), 'avg_crosses'] = crosses_avg_team_avg\n",
    "teams_stats.describe()"
   ]
  },
  {
   "cell_type": "markdown",
   "metadata": {},
   "source": [
    "Nos  DataFrame \"teams_stats\" et \"matches\" sont désormais complets: nous pouvons essayer d'en visualiser les caractéristiques avant de se lancer dans une modélisation."
   ]
  },
  {
   "cell_type": "markdown",
   "metadata": {},
   "source": [
    "# Exploration et visualisation des données"
   ]
  },
  {
   "cell_type": "markdown",
   "metadata": {},
   "source": [
    "Nous allons commencer par le dataframe \"player_attributes\", que nous n'avons pas vraiment pu appréhender pour l'instant."
   ]
  },
  {
   "cell_type": "code",
   "execution_count": 21,
   "metadata": {
    "executionInfo": {
     "elapsed": 26,
     "status": "aborted",
     "timestamp": 1640249128885,
     "user": {
      "displayName": "R T",
      "photoUrl": "https://lh3.googleusercontent.com/a/default-user=s64",
      "userId": "01703325576658181394"
     },
     "user_tz": -60
    },
    "id": "axsE6dz6MY7P"
   },
   "outputs": [
    {
     "data": {
      "text/plain": [
       "Index(['id', 'player_fifa_api_id', 'player_api_id', 'date', 'overall_rating',\n",
       "       'potential', 'preferred_foot', 'attacking_work_rate',\n",
       "       'defensive_work_rate', 'crossing', 'finishing', 'heading_accuracy',\n",
       "       'short_passing', 'volleys', 'dribbling', 'curve', 'free_kick_accuracy',\n",
       "       'long_passing', 'ball_control', 'acceleration', 'sprint_speed',\n",
       "       'agility', 'reactions', 'balance', 'shot_power', 'jumping', 'stamina',\n",
       "       'strength', 'long_shots', 'aggression', 'interceptions', 'positioning',\n",
       "       'vision', 'penalties', 'marking', 'standing_tackle', 'sliding_tackle',\n",
       "       'gk_diving', 'gk_handling', 'gk_kicking', 'gk_positioning',\n",
       "       'gk_reflexes'],\n",
       "      dtype='object')"
      ]
     },
     "execution_count": 21,
     "metadata": {},
     "output_type": "execute_result"
    }
   ],
   "source": [
    "player_attributes.columns"
   ]
  },
  {
   "cell_type": "markdown",
   "metadata": {},
   "source": [
    "On peut ranger les caractéristiques des joueurs en deux catégories: offensives, et défensives (les caractéristiques des gardiens, moins nombreuses, revêtent un intérêt moindre). Nous allons regarder les corrélations entre les caractéristiques d'une même catégorie:"
   ]
  },
  {
   "cell_type": "code",
   "execution_count": 22,
   "metadata": {
    "executionInfo": {
     "elapsed": 26,
     "status": "aborted",
     "timestamp": 1640249128885,
     "user": {
      "displayName": "R T",
      "photoUrl": "https://lh3.googleusercontent.com/a/default-user=s64",
      "userId": "01703325576658181394"
     },
     "user_tz": -60
    },
    "id": "xTs8VxuLMY7Q"
   },
   "outputs": [],
   "source": [
    "lt_attacking_feature = ['crossing', 'finishing', 'heading_accuracy',\n",
    "       'short_passing', 'volleys', 'dribbling', 'curve', 'free_kick_accuracy',\n",
    "       'long_passing', 'ball_control', 'acceleration', 'sprint_speed',\n",
    "       'agility', 'reactions', 'balance', 'shot_power', 'jumping','penalties']"
   ]
  },
  {
   "cell_type": "code",
   "execution_count": 23,
   "metadata": {
    "executionInfo": {
     "elapsed": 26,
     "status": "aborted",
     "timestamp": 1640249128885,
     "user": {
      "displayName": "R T",
      "photoUrl": "https://lh3.googleusercontent.com/a/default-user=s64",
      "userId": "01703325576658181394"
     },
     "user_tz": -60
    },
    "id": "yLPGU4ZVMY7Q"
   },
   "outputs": [],
   "source": [
    " corr = player_attributes[lt_attacking_feature].corr()"
   ]
  },
  {
   "cell_type": "code",
   "execution_count": 24,
   "metadata": {
    "executionInfo": {
     "elapsed": 25,
     "status": "aborted",
     "timestamp": 1640249128885,
     "user": {
      "displayName": "R T",
      "photoUrl": "https://lh3.googleusercontent.com/a/default-user=s64",
      "userId": "01703325576658181394"
     },
     "user_tz": -60
    },
    "id": "DGsKxXJZMY7Q"
   },
   "outputs": [
    {
     "data": {
      "text/plain": [
       "<matplotlib.axes._subplots.AxesSubplot at 0x27454622550>"
      ]
     },
     "execution_count": 24,
     "metadata": {},
     "output_type": "execute_result"
    },
    {
     "data": {
      "image/png": "[encoded data removed]",
      "text/plain": [
       "<Figure size 720x576 with 2 Axes>"
      ]
     },
     "metadata": {
      "needs_background": "light"
     },
     "output_type": "display_data"
    }
   ],
   "source": [
    "f, ax = plt.subplots(figsize=(10, 8))\n",
    "\n",
    "sns.heatmap(corr, mask=np.zeros_like(corr, dtype=np.bool), cmap=sns.diverging_palette(220, 10, as_cmap=True),\n",
    "            square=True, ax=ax)"
   ]
  },
  {
   "cell_type": "markdown",
   "metadata": {},
   "source": [
    "L'on peut remarquer une réelle corrélation entre certaines variables, surtout dans le coin supérieur gauche de la heatmap. La plus grande corrélation se retrouve ependant entre \"sprint_speed\" et \"acceleration\": les deux variables étant étroitement liées à la vitesse d'un joueur, cela est compréhensible. De même, on observe une corrélation forte entre les statistiques liées au tir (\"free_kick_accuracy\",\"curve\",\"finishing\"). Ainsi, cette heatmap nous permet de visualiser que l'on a des sous-groupes de corrélations parmi les caractéristiques offensives."
   ]
  },
  {
   "cell_type": "markdown",
   "metadata": {
    "executionInfo": {
     "elapsed": 26,
     "status": "aborted",
     "timestamp": 1640249128886,
     "user": {
      "displayName": "R T",
      "photoUrl": "https://lh3.googleusercontent.com/a/default-user=s64",
      "userId": "01703325576658181394"
     },
     "user_tz": -60
    },
    "id": "1nG29HmLMY7Q"
   },
   "source": [
    "Faisons de même pour les caractéristiques défensives, qui sont moins nombreuses."
   ]
  },
  {
   "cell_type": "code",
   "execution_count": 25,
   "metadata": {
    "executionInfo": {
     "elapsed": 26,
     "status": "aborted",
     "timestamp": 1640249128886,
     "user": {
      "displayName": "R T",
      "photoUrl": "https://lh3.googleusercontent.com/a/default-user=s64",
      "userId": "01703325576658181394"
     },
     "user_tz": -60
    },
    "id": "lSXueyw7MY7R"
   },
   "outputs": [],
   "source": [
    "lt_defense_feature = ['aggression', 'interceptions', 'positioning',\n",
    "       'marking', 'standing_tackle', 'sliding_tackle']"
   ]
  },
  {
   "cell_type": "code",
   "execution_count": 26,
   "metadata": {
    "executionInfo": {
     "elapsed": 25,
     "status": "aborted",
     "timestamp": 1640249128886,
     "user": {
      "displayName": "R T",
      "photoUrl": "https://lh3.googleusercontent.com/a/default-user=s64",
      "userId": "01703325576658181394"
     },
     "user_tz": -60
    },
    "id": "2Kd_BdDUMY7R"
   },
   "outputs": [],
   "source": [
    "corr_defence = player_attributes[lt_defense_feature].corr()"
   ]
  },
  {
   "cell_type": "code",
   "execution_count": 27,
   "metadata": {
    "executionInfo": {
     "elapsed": 25,
     "status": "aborted",
     "timestamp": 1640249128886,
     "user": {
      "displayName": "R T",
      "photoUrl": "https://lh3.googleusercontent.com/a/default-user=s64",
      "userId": "01703325576658181394"
     },
     "user_tz": -60
    },
    "id": "n1u1dDlaMY7S"
   },
   "outputs": [
    {
     "data": {
      "text/plain": [
       "<matplotlib.axes._subplots.AxesSubplot at 0x27463f4ba90>"
      ]
     },
     "execution_count": 27,
     "metadata": {},
     "output_type": "execute_result"
    },
    {
     "data": {
      "image/png": "[encoded data removed]",
      "text/plain": [
       "<Figure size 720x576 with 2 Axes>"
      ]
     },
     "metadata": {
      "needs_background": "light"
     },
     "output_type": "display_data"
    }
   ],
   "source": [
    "f, ax = plt.subplots(figsize=(10, 8))\n",
    "\n",
    "sns.heatmap(corr_defence, mask=np.zeros_like(corr_defence, dtype=np.bool), cmap=sns.diverging_palette(220, 10, as_cmap=True),\n",
    "            square=True, ax=ax)"
   ]
  },
  {
   "cell_type": "markdown",
   "metadata": {},
   "source": [
    "L'on peut voir qu'à l'exception de \"positioning\", les attributs défensifs sont fortement corrélés entre eux, surtout sans le coin inférieur droit de la heatmap. Ces corrélations font sens: un défenseur qui est excellent tacleur le fait généralement aussi bien debout qu'en glissant. De même, les tacles nécessitant d'être proche de l'adversaire, il est logique qu'un bon tacleur soit aussi bon en marquage."
   ]
  },
  {
   "cell_type": "markdown",
   "metadata": {},
   "source": [
    "Visualisons désormais le DataFrame \"player\":"
   ]
  },
  {
   "cell_type": "code",
   "execution_count": 28,
   "metadata": {
    "executionInfo": {
     "elapsed": 25,
     "status": "aborted",
     "timestamp": 1640249128886,
     "user": {
      "displayName": "R T",
      "photoUrl": "https://lh3.googleusercontent.com/a/default-user=s64",
      "userId": "01703325576658181394"
     },
     "user_tz": -60
    },
    "id": "pVCUzKLqMY7S"
   },
   "outputs": [
    {
     "data": {
      "text/html": [
       "<div>\n",
       "<style scoped>\n",
       "    .dataframe tbody tr th:only-of-type {\n",
       "        vertical-align: middle;\n",
       "    }\n",
       "\n",
       "    .dataframe tbody tr th {\n",
       "        vertical-align: top;\n",
       "    }\n",
       "\n",
       "    .dataframe thead th {\n",
       "        text-align: right;\n",
       "    }\n",
       "</style>\n",
       "<table border=\"1\" class=\"dataframe\">\n",
       "  <thead>\n",
       "    <tr style=\"text-align: right;\">\n",
       "      <th></th>\n",
       "      <th>id</th>\n",
       "      <th>player_api_id</th>\n",
       "      <th>player_name</th>\n",
       "      <th>player_fifa_api_id</th>\n",
       "      <th>birthday</th>\n",
       "      <th>height</th>\n",
       "      <th>weight</th>\n",
       "    </tr>\n",
       "  </thead>\n",
       "  <tbody>\n",
       "    <tr>\n",
       "      <th>0</th>\n",
       "      <td>1</td>\n",
       "      <td>505942</td>\n",
       "      <td>Aaron Appindangoye</td>\n",
       "      <td>218353</td>\n",
       "      <td>1992-02-29 00:00:00</td>\n",
       "      <td>182.88</td>\n",
       "      <td>187</td>\n",
       "    </tr>\n",
       "    <tr>\n",
       "      <th>1</th>\n",
       "      <td>2</td>\n",
       "      <td>155782</td>\n",
       "      <td>Aaron Cresswell</td>\n",
       "      <td>189615</td>\n",
       "      <td>1989-12-15 00:00:00</td>\n",
       "      <td>170.18</td>\n",
       "      <td>146</td>\n",
       "    </tr>\n",
       "    <tr>\n",
       "      <th>2</th>\n",
       "      <td>3</td>\n",
       "      <td>162549</td>\n",
       "      <td>Aaron Doran</td>\n",
       "      <td>186170</td>\n",
       "      <td>1991-05-13 00:00:00</td>\n",
       "      <td>170.18</td>\n",
       "      <td>163</td>\n",
       "    </tr>\n",
       "    <tr>\n",
       "      <th>3</th>\n",
       "      <td>4</td>\n",
       "      <td>30572</td>\n",
       "      <td>Aaron Galindo</td>\n",
       "      <td>140161</td>\n",
       "      <td>1982-05-08 00:00:00</td>\n",
       "      <td>182.88</td>\n",
       "      <td>198</td>\n",
       "    </tr>\n",
       "    <tr>\n",
       "      <th>4</th>\n",
       "      <td>5</td>\n",
       "      <td>23780</td>\n",
       "      <td>Aaron Hughes</td>\n",
       "      <td>17725</td>\n",
       "      <td>1979-11-08 00:00:00</td>\n",
       "      <td>182.88</td>\n",
       "      <td>154</td>\n",
       "    </tr>\n",
       "  </tbody>\n",
       "</table>\n",
       "</div>"
      ],
      "text/plain": [
       "   id  player_api_id         player_name  player_fifa_api_id  \\\n",
       "0   1         505942  Aaron Appindangoye              218353   \n",
       "1   2         155782     Aaron Cresswell              189615   \n",
       "2   3         162549         Aaron Doran              186170   \n",
       "3   4          30572       Aaron Galindo              140161   \n",
       "4   5          23780        Aaron Hughes               17725   \n",
       "\n",
       "              birthday  height  weight  \n",
       "0  1992-02-29 00:00:00  182.88     187  \n",
       "1  1989-12-15 00:00:00  170.18     146  \n",
       "2  1991-05-13 00:00:00  170.18     163  \n",
       "3  1982-05-08 00:00:00  182.88     198  \n",
       "4  1979-11-08 00:00:00  182.88     154  "
      ]
     },
     "execution_count": 28,
     "metadata": {},
     "output_type": "execute_result"
    }
   ],
   "source": [
    "player.head(5)"
   ]
  },
  {
   "cell_type": "markdown",
   "metadata": {},
   "source": [
    "Le DataFrame contient peu d'informations; nous n'allons donc pas l'étudier en profondeur. Notons cependant qu'il nous permet de retrouver le nom d'un joueur à partir de sa fiche fifa, puisqu'il contient la colonne \"player_fifa_api_id\"."
   ]
  },
  {
   "cell_type": "markdown",
   "metadata": {},
   "source": [
    "Regardons désormais s'il y a des valeurs nulles pour les dataframes précédemment étudiés:"
   ]
  },
  {
   "cell_type": "code",
   "execution_count": 29,
   "metadata": {
    "executionInfo": {
     "elapsed": 25,
     "status": "aborted",
     "timestamp": 1640249128887,
     "user": {
      "displayName": "R T",
      "photoUrl": "https://lh3.googleusercontent.com/a/default-user=s64",
      "userId": "01703325576658181394"
     },
     "user_tz": -60
    },
    "id": "1HeZNzb8MY7S"
   },
   "outputs": [
    {
     "data": {
      "text/plain": [
       "id                        0\n",
       "player_fifa_api_id        0\n",
       "player_api_id             0\n",
       "date                      0\n",
       "overall_rating          836\n",
       "potential               836\n",
       "preferred_foot          836\n",
       "attacking_work_rate    3230\n",
       "defensive_work_rate     836\n",
       "crossing                836\n",
       "finishing               836\n",
       "heading_accuracy        836\n",
       "short_passing           836\n",
       "volleys                2713\n",
       "dribbling               836\n",
       "curve                  2713\n",
       "free_kick_accuracy      836\n",
       "long_passing            836\n",
       "ball_control            836\n",
       "acceleration            836\n",
       "sprint_speed            836\n",
       "agility                2713\n",
       "reactions               836\n",
       "balance                2713\n",
       "shot_power              836\n",
       "jumping                2713\n",
       "stamina                 836\n",
       "strength                836\n",
       "long_shots              836\n",
       "aggression              836\n",
       "interceptions           836\n",
       "positioning             836\n",
       "vision                 2713\n",
       "penalties               836\n",
       "marking                 836\n",
       "standing_tackle         836\n",
       "sliding_tackle         2713\n",
       "gk_diving               836\n",
       "gk_handling             836\n",
       "gk_kicking              836\n",
       "gk_positioning          836\n",
       "gk_reflexes             836\n",
       "dtype: int64"
      ]
     },
     "execution_count": 29,
     "metadata": {},
     "output_type": "execute_result"
    }
   ],
   "source": [
    "player_attributes.isnull().sum(axis = 0 )"
   ]
  },
  {
   "cell_type": "code",
   "execution_count": 30,
   "metadata": {
    "executionInfo": {
     "elapsed": 25,
     "status": "aborted",
     "timestamp": 1640249128887,
     "user": {
      "displayName": "R T",
      "photoUrl": "https://lh3.googleusercontent.com/a/default-user=s64",
      "userId": "01703325576658181394"
     },
     "user_tz": -60
    },
    "id": "W3lQKIoYMY7T"
   },
   "outputs": [
    {
     "data": {
      "text/plain": [
       "id                                0\n",
       "team_fifa_api_id                  0\n",
       "team_api_id                       0\n",
       "date                              0\n",
       "buildUpPlaySpeed                  0\n",
       "buildUpPlaySpeedClass             0\n",
       "buildUpPlayDribbling              0\n",
       "buildUpPlayDribblingClass         0\n",
       "buildUpPlayPassing                0\n",
       "buildUpPlayPassingClass           0\n",
       "buildUpPlayPositioningClass       0\n",
       "chanceCreationPassing             0\n",
       "chanceCreationPassingClass        0\n",
       "chanceCreationCrossing            0\n",
       "chanceCreationCrossingClass       0\n",
       "chanceCreationShooting            0\n",
       "chanceCreationShootingClass       0\n",
       "chanceCreationPositioningClass    0\n",
       "defencePressure                   0\n",
       "defencePressureClass              0\n",
       "defenceAggression                 0\n",
       "defenceAggressionClass            0\n",
       "defenceTeamWidth                  0\n",
       "defenceTeamWidthClass             0\n",
       "defenceDefenderLineClass          0\n",
       "avg_shots                         0\n",
       "avg_corners                       0\n",
       "avg_crosses                       0\n",
       "dtype: int64"
      ]
     },
     "execution_count": 30,
     "metadata": {},
     "output_type": "execute_result"
    }
   ],
   "source": [
    "team_attributes.isnull().sum(axis = 0 )"
   ]
  },
  {
   "cell_type": "markdown",
   "metadata": {},
   "source": [
    "Team_attributes ne contient aucune valeur nulle, au contraire de \"player_attributes\". Remarquons cependant qu'à l'exception de la valeur \"attacking_workrate\", le nombre de valeurs manquantes est soit égal à 836, soit égal à 2713, ce qui laisse penser que les mêmes joueurs sont affectés par ces valeurs manquantes.\n",
    "Cette fois, plutôt que d'utiliser la mean imputation, nous allons laisser les valeurs manquantes, et nous aviserons si leur manque nous pose un problème par la suite. En effet, il est possible que nous n'ayons pas besoin d'informations sur les joueurs concernés par les valeurs manquantes."
   ]
  },
  {
   "cell_type": "markdown",
   "metadata": {},
   "source": [
    "## Etude de cas: Les équipes ayant progressé entre 2011 et 2016."
   ]
  },
  {
   "cell_type": "markdown",
   "metadata": {},
   "source": [
    "Nous allons chercher à voir les équipes ayant le plus progressé d'un point de vue offensif et d'un point de vue défensif grâce à notre dataset.\n",
    "Auparavant, nous effectuons quelques modifications sur \"matches\", et nous regardons quelques statistiques sur la saison 2015-2016 afin de se familiariser avec le dataset."
   ]
  },
  {
   "cell_type": "code",
   "execution_count": 31,
   "metadata": {
    "executionInfo": {
     "elapsed": 24,
     "status": "aborted",
     "timestamp": 1640249128887,
     "user": {
      "displayName": "R T",
      "photoUrl": "https://lh3.googleusercontent.com/a/default-user=s64",
      "userId": "01703325576658181394"
     },
     "user_tz": -60
    },
    "id": "BB5TNTNLMY7T"
   },
   "outputs": [],
   "source": [
    "matches['league_id'] = matches['league_id'].replace(leagues['id'].to_list(),leagues['name'].to_list())\n",
    "matches['away_name'] = matches['away_team_api_id'].replace(teams['team_api_id'].to_list(),teams['team_long_name'].to_list())\n",
    "matches['home_name'] = matches['home_team_api_id'].replace(teams['team_api_id'].to_list(),teams['team_long_name'].to_list())"
   ]
  },
  {
   "cell_type": "code",
   "execution_count": 32,
   "metadata": {
    "executionInfo": {
     "elapsed": 25,
     "status": "aborted",
     "timestamp": 1640249128888,
     "user": {
      "displayName": "R T",
      "photoUrl": "https://lh3.googleusercontent.com/a/default-user=s64",
      "userId": "01703325576658181394"
     },
     "user_tz": -60
    },
    "id": "YFbShckJMY7T"
   },
   "outputs": [
    {
     "data": {
      "text/plain": [
       "Text(0, 0.5, 'Leagues')"
      ]
     },
     "execution_count": 32,
     "metadata": {},
     "output_type": "execute_result"
    },
    {
     "data": {
      "image/png": "[encoded data removed]",
      "text/plain": [
       "<Figure size 432x288 with 1 Axes>"
      ]
     },
     "metadata": {
      "needs_background": "light"
     },
     "output_type": "display_data"
    }
   ],
   "source": [
    "match_2016 = matches[matches['season'] == '2015/2016']\n",
    "match_ = match_2016.groupby('league_id')['home_team_api_id'].count().sort_values()\n",
    "match_.plot(kind='barh', title='Number of Matches in each League')\n",
    "plt.xlabel('Number of Matches')\n",
    "plt.ylabel('Leagues')"
   ]
  },
  {
   "cell_type": "markdown",
   "metadata": {},
   "source": [
    "On remarque que les principaux championnats ne jouent pas le même nombre de matches."
   ]
  },
  {
   "cell_type": "code",
   "execution_count": 33,
   "metadata": {
    "executionInfo": {
     "elapsed": 25,
     "status": "aborted",
     "timestamp": 1640249128888,
     "user": {
      "displayName": "R T",
      "photoUrl": "https://lh3.googleusercontent.com/a/default-user=s64",
      "userId": "01703325576658181394"
     },
     "user_tz": -60
    },
    "id": "WtEBWNBPMY7T"
   },
   "outputs": [
    {
     "data": {
      "text/plain": [
       "Text(0, 0.5, 'Leagues')"
      ]
     },
     "execution_count": 33,
     "metadata": {},
     "output_type": "execute_result"
    },
    {
     "data": {
      "image/png": "[encoded data removed]",
      "text/plain": [
       "<Figure size 432x288 with 1 Axes>"
      ]
     },
     "metadata": {
      "needs_background": "light"
     },
     "output_type": "display_data"
    }
   ],
   "source": [
    "match_2016 = matches[(matches['season'] == '2015/2016')&(matches.result == 'D')]\n",
    "match_ = match_2016.groupby('league_id')['home_team_api_id'].count().sort_values()\n",
    "match_.plot(kind='barh', title='Number of Draws in each League');\n",
    "plt.xlabel('Number of Draws')\n",
    "plt.ylabel('Leagues')"
   ]
  },
  {
   "cell_type": "markdown",
   "metadata": {},
   "source": [
    "Logiquement, le nombre de matches nuls n'est pas le même."
   ]
  },
  {
   "cell_type": "markdown",
   "metadata": {},
   "source": [
    "Comme nous avons un dataset qui s'étend sur 5 années, nous voulons voir les équipes ayant le plus progressé offensivement et défensivement parmi les 5 grands championnats étudiés."
   ]
  },
  {
   "cell_type": "code",
   "execution_count": 34,
   "metadata": {
    "executionInfo": {
     "elapsed": 25,
     "status": "aborted",
     "timestamp": 1640249128888,
     "user": {
      "displayName": "R T",
      "photoUrl": "https://lh3.googleusercontent.com/a/default-user=s64",
      "userId": "01703325576658181394"
     },
     "user_tz": -60
    },
    "id": "1rRyqnuwMY7T"
   },
   "outputs": [],
   "source": [
    "#On récupère tous les matches de la saison 2015-2016, et les buts marqués en moyenne.\n",
    "match_2016 = matches[(matches['season'] == '2015/2016')]\n",
    "match_2016_away_goal = match_2016.groupby(['away_name'])['away_team_goal'].mean()\n",
    "match_2016_home_goal = match_2016.groupby(['home_name'])['home_team_goal'].mean()\n",
    "\n",
    "#On fait de même pour la saison 2010-2011\n",
    "match_2011 = matches[(matches['season'] == '2010/2011')]\n",
    "match_2011_away_goal = match_2011.groupby(['away_name'])['away_team_goal'].mean()\n",
    "match_2011_home_goal = match_2011.groupby(['home_name'])['home_team_goal'].mean()"
   ]
  },
  {
   "cell_type": "markdown",
   "metadata": {},
   "source": [
    "On fait ensuite la moyenne des buts marqués à domicile et à l'extérieur pour chaque équipe."
   ]
  },
  {
   "cell_type": "code",
   "execution_count": 35,
   "metadata": {
    "executionInfo": {
     "elapsed": 24,
     "status": "aborted",
     "timestamp": 1640249128888,
     "user": {
      "displayName": "R T",
      "photoUrl": "https://lh3.googleusercontent.com/a/default-user=s64",
      "userId": "01703325576658181394"
     },
     "user_tz": -60
    },
    "id": "Obqb2dYmMY7U"
   },
   "outputs": [],
   "source": [
    "mean_11 = (match_2011_home_goal + match_2011_away_goal)/2\n",
    "mean_16 = (match_2016_home_goal + match_2016_away_goal)/2\n",
    "diff = mean_16 - mean_11"
   ]
  },
  {
   "cell_type": "markdown",
   "metadata": {},
   "source": [
    "Enfin, on représente graphiquement la progression des joueurs:"
   ]
  },
  {
   "cell_type": "code",
   "execution_count": 36,
   "metadata": {
    "executionInfo": {
     "elapsed": 25,
     "status": "aborted",
     "timestamp": 1640249128889,
     "user": {
      "displayName": "R T",
      "photoUrl": "https://lh3.googleusercontent.com/a/default-user=s64",
      "userId": "01703325576658181394"
     },
     "user_tz": -60
    },
    "id": "KyYkmNKPMY7U"
   },
   "outputs": [],
   "source": [
    "color = []\n",
    "def coloring(df):\n",
    "        \n",
    "        if df < 0:\n",
    "            return 'red'\n",
    "        else:\n",
    "            return 'green'  \n",
    "color= diff.sort_values().apply(coloring) \n",
    "#Une équipe qui progresse apparaîtra en vert, une équipe qui régresse, en rouge."
   ]
  },
  {
   "cell_type": "code",
   "execution_count": 37,
   "metadata": {
    "executionInfo": {
     "elapsed": 25,
     "status": "aborted",
     "timestamp": 1640249128889,
     "user": {
      "displayName": "R T",
      "photoUrl": "https://lh3.googleusercontent.com/a/default-user=s64",
      "userId": "01703325576658181394"
     },
     "user_tz": -60
    },
    "id": "Fg9YyTdsMY7U"
   },
   "outputs": [
    {
     "name": "stdout",
     "output_type": "stream",
     "text": [
      "Improved teams :43\n"
     ]
    },
    {
     "data": {
      "image/png": "[encoded data removed]",
      "text/plain": [
       "<Figure size 1080x1800 with 1 Axes>"
      ]
     },
     "metadata": {
      "needs_background": "light"
     },
     "output_type": "display_data"
    }
   ],
   "source": [
    "diff.dropna(inplace=True)\n",
    "print('Improved teams :' + str(diff[diff.sort_values() > 0].count())) #On compte le nombre d'équipes ayant progressé.\n",
    "\n",
    "# On classe les valeurs, de l'équipe ayant le plus progressé à l'équipe ayant le plus régressé:\n",
    "sorted_index = diff.sort_values().index\n",
    "\n",
    "fig, ax = plt.subplots(figsize=(15, 25))\n",
    "\n",
    "\n",
    "plt.barh(range(0,len(sorted_index)), diff.sort_values(),color = color)\n",
    "\n",
    "\n",
    "ax.set_yticks(range(0,len(sorted_index)))\n",
    "\n",
    "\n",
    "ax.set_yticklabels(sorted_index)\n",
    "\n",
    "\n",
    "ax.set_ylabel('Teams')\n",
    "\n",
    "\n",
    "ax.set_title('Improvements  Attacking Team Quality from 2011 to 2016')\n",
    "\n",
    "\n",
    "plt.xlabel(\"Averages\")\n",
    "\n",
    "plt.tight_layout()"
   ]
  },
  {
   "cell_type": "markdown",
   "metadata": {},
   "source": [
    "Désormais, nous voulons regarder la même chose, mais du point de vue défensif:"
   ]
  },
  {
   "cell_type": "code",
   "execution_count": 38,
   "metadata": {
    "executionInfo": {
     "elapsed": 24,
     "status": "aborted",
     "timestamp": 1640249128889,
     "user": {
      "displayName": "R T",
      "photoUrl": "https://lh3.googleusercontent.com/a/default-user=s64",
      "userId": "01703325576658181394"
     },
     "user_tz": -60
    },
    "id": "hAEoTiCeMY7U"
   },
   "outputs": [],
   "source": [
    "match_2016_away_goal_against = match_2016.groupby(['away_name'])['home_team_goal'].mean()\n",
    "match_2016_home_goal_against = match_2016.groupby(['home_name'])['away_team_goal'].mean()\n",
    "match_2011 = matches[(matches['season'] == '2010/2011')]\n",
    "match_2011_away_goal_against = match_2011.groupby(['away_name'])['home_team_goal'].mean()\n",
    "match_2011_home_goal_against = match_2011.groupby(['home_name'])['away_team_goal'].mean()"
   ]
  },
  {
   "cell_type": "code",
   "execution_count": 39,
   "metadata": {
    "executionInfo": {
     "elapsed": 24,
     "status": "aborted",
     "timestamp": 1640249128890,
     "user": {
      "displayName": "R T",
      "photoUrl": "https://lh3.googleusercontent.com/a/default-user=s64",
      "userId": "01703325576658181394"
     },
     "user_tz": -60
    },
    "id": "84_Nz_FtMY7W"
   },
   "outputs": [],
   "source": [
    "mean_11_against = (match_2011_home_goal_against + match_2011_away_goal_against)/2\n",
    "mean_16_against = (match_2016_home_goal_against + match_2016_away_goal_against)/2\n",
    "diff_against = mean_16_against - mean_11_against"
   ]
  },
  {
   "cell_type": "code",
   "execution_count": 40,
   "metadata": {
    "executionInfo": {
     "elapsed": 24,
     "status": "aborted",
     "timestamp": 1640249128890,
     "user": {
      "displayName": "R T",
      "photoUrl": "https://lh3.googleusercontent.com/a/default-user=s64",
      "userId": "01703325576658181394"
     },
     "user_tz": -60
    },
    "id": "S5kyq1spMY7W"
   },
   "outputs": [],
   "source": [
    "color = []\n",
    "def coloring(df):\n",
    "        \n",
    "        if df < 0:\n",
    "            return 'red'\n",
    "        else:\n",
    "            return 'green'  \n",
    "color= diff_against.sort_values().apply(coloring) "
   ]
  },
  {
   "cell_type": "code",
   "execution_count": 41,
   "metadata": {
    "executionInfo": {
     "elapsed": 24,
     "status": "aborted",
     "timestamp": 1640249128890,
     "user": {
      "displayName": "R T",
      "photoUrl": "https://lh3.googleusercontent.com/a/default-user=s64",
      "userId": "01703325576658181394"
     },
     "user_tz": -60
    },
    "id": "MX54paKbMY7W"
   },
   "outputs": [
    {
     "name": "stdout",
     "output_type": "stream",
     "text": [
      "Improved teams :44\n"
     ]
    },
    {
     "data": {
      "image/png": "[encoded data removed]",
      "text/plain": [
       "<Figure size 1080x1800 with 1 Axes>"
      ]
     },
     "metadata": {
      "needs_background": "light"
     },
     "output_type": "display_data"
    }
   ],
   "source": [
    "diff_against.dropna(inplace=True)\n",
    "print('Improved teams :' + str(diff_against[diff_against.sort_values() < 0].count()))\n",
    "\n",
    "\n",
    "sorted_index = diff_against.sort_values().index\n",
    "\n",
    "fig, ax = plt.subplots(figsize=(15, 25))\n",
    "\n",
    "\n",
    "plt.barh(range(0,len(sorted_index)), diff_against.sort_values(),color = color)\n",
    "\n",
    "\n",
    "ax.set_yticks(range(0,len(sorted_index)))\n",
    "\n",
    "\n",
    "ax.set_yticklabels(sorted_index)\n",
    "\n",
    "\n",
    "ax.set_ylabel('Teams')\n",
    "\n",
    "\n",
    "ax.set_title('Improvements Defencing Team Quality from 2011 to 2016')\n",
    "\n",
    "\n",
    "plt.xlabel(\"Averages\")\n",
    "\n",
    "plt.tight_layout()"
   ]
  },
  {
   "cell_type": "markdown",
   "metadata": {},
   "source": [
    "Désormais, nous regardons des résultats sur les championnats, autrement dit sur les différents pays. \n",
    "Premièrement, nous ajoutons le nombre de pays à leagues."
   ]
  },
  {
   "cell_type": "code",
   "execution_count": 42,
   "metadata": {
    "executionInfo": {
     "elapsed": 24,
     "status": "aborted",
     "timestamp": 1640249128890,
     "user": {
      "displayName": "R T",
      "photoUrl": "https://lh3.googleusercontent.com/a/default-user=s64",
      "userId": "01703325576658181394"
     },
     "user_tz": -60
    },
    "id": "gOO0xflKMY7W"
   },
   "outputs": [],
   "source": [
    "countries = countries.rename(columns = {1:'id','Belgium':'name'})\n",
    "selected_countries = ['England','France','Germany','Italy','Spain']\n",
    "\n",
    "countries = countries[countries.name.isin(selected_countries)]\n",
    "\n",
    "leagues = countries.merge(leagues,on='id',suffixes=('', '_y'))"
   ]
  },
  {
   "cell_type": "code",
   "execution_count": 43,
   "metadata": {
    "executionInfo": {
     "elapsed": 24,
     "status": "aborted",
     "timestamp": 1640249128891,
     "user": {
      "displayName": "R T",
      "photoUrl": "https://lh3.googleusercontent.com/a/default-user=s64",
      "userId": "01703325576658181394"
     },
     "user_tz": -60
    },
    "id": "Uh_TgmiiMY7W"
   },
   "outputs": [],
   "source": [
    "subset = matches[matches.league_id.isin(leagues.name_y)]\n",
    "subset = subset[['id', 'country_id' ,'league_id', 'season', 'stage', 'date','match_api_id', 'home_team_api_id', 'away_team_api_id','B365H', 'B365D' ,'B365A']]\n",
    "\n",
    "subset.dropna(inplace=True)\n"
   ]
  },
  {
   "cell_type": "markdown",
   "metadata": {},
   "source": [
    "Nous allons considérer l'entropie des championnats sélectionnés, autrement dit leur prédictabilité, à partir des cotes de B365."
   ]
  },
  {
   "cell_type": "code",
   "execution_count": 44,
   "metadata": {
    "executionInfo": {
     "elapsed": 24,
     "status": "aborted",
     "timestamp": 1640249128891,
     "user": {
      "displayName": "R T",
      "photoUrl": "https://lh3.googleusercontent.com/a/default-user=s64",
      "userId": "01703325576658181394"
     },
     "user_tz": -60
    },
    "id": "5yUi07aLMY7W"
   },
   "outputs": [],
   "source": [
    "\n",
    "\n",
    "def match_entropy(row):\n",
    "\n",
    "    odds = [row['B365H'],row['B365D'],row['B365A']]\n",
    "\n",
    "    #On transforme les cotes, supérieures à 1, en probabilités\n",
    "\n",
    "    probs = [1/o for o in odds]\n",
    "\n",
    "    #On normalise pour avoir une somme qui vaut 1\n",
    "\n",
    "    norm = sum(probs)\n",
    "\n",
    "    probs = [p/norm for p in probs]\n",
    "\n",
    "    return entropy(probs)\n",
    "\n",
    "\n",
    "\n",
    "#On applique ensuite la fonction aux matches.\n",
    "\n",
    "subset['entropy'] = matches.apply(match_entropy,axis=1)\n"
   ]
  },
  {
   "cell_type": "code",
   "execution_count": 45,
   "metadata": {
    "executionInfo": {
     "elapsed": 24,
     "status": "aborted",
     "timestamp": 1640249128891,
     "user": {
      "displayName": "R T",
      "photoUrl": "https://lh3.googleusercontent.com/a/default-user=s64",
      "userId": "01703325576658181394"
     },
     "user_tz": -60
    },
    "id": "gWGVKG8xMY7W"
   },
   "outputs": [
    {
     "data": {
      "text/plain": [
       "1728     0.738980\n",
       "1729     0.641186\n",
       "1730     0.975928\n",
       "1731     1.039730\n",
       "1733     1.053487\n",
       "           ...   \n",
       "24552    0.931709\n",
       "24553    1.080348\n",
       "24554    0.907856\n",
       "24555    1.084461\n",
       "24556    1.078821\n",
       "Name: entropy, Length: 12710, dtype: float64"
      ]
     },
     "execution_count": 45,
     "metadata": {},
     "output_type": "execute_result"
    }
   ],
   "source": [
    "subset['entropy']"
   ]
  },
  {
   "cell_type": "markdown",
   "metadata": {},
   "source": [
    "On prend la moyenne, et on crée un dataset compréhensible puis qui pourra être représenté:"
   ]
  },
  {
   "cell_type": "code",
   "execution_count": 46,
   "metadata": {
    "executionInfo": {
     "elapsed": 23,
     "status": "aborted",
     "timestamp": 1640249128891,
     "user": {
      "displayName": "R T",
      "photoUrl": "https://lh3.googleusercontent.com/a/default-user=s64",
      "userId": "01703325576658181394"
     },
     "user_tz": -60
    },
    "id": "KzN912MPMY7W"
   },
   "outputs": [
    {
     "data": {
      "text/html": [
       "<div>\n",
       "<style scoped>\n",
       "    .dataframe tbody tr th:only-of-type {\n",
       "        vertical-align: middle;\n",
       "    }\n",
       "\n",
       "    .dataframe tbody tr th {\n",
       "        vertical-align: top;\n",
       "    }\n",
       "\n",
       "    .dataframe thead th {\n",
       "        text-align: right;\n",
       "    }\n",
       "</style>\n",
       "<table border=\"1\" class=\"dataframe\">\n",
       "  <thead>\n",
       "    <tr style=\"text-align: right;\">\n",
       "      <th>league_id</th>\n",
       "      <th>England Premier League</th>\n",
       "      <th>France Ligue 1</th>\n",
       "      <th>Germany 1. Bundesliga</th>\n",
       "      <th>Italy Serie A</th>\n",
       "      <th>Spain LIGA BBVA</th>\n",
       "    </tr>\n",
       "    <tr>\n",
       "      <th>season</th>\n",
       "      <th></th>\n",
       "      <th></th>\n",
       "      <th></th>\n",
       "      <th></th>\n",
       "      <th></th>\n",
       "    </tr>\n",
       "  </thead>\n",
       "  <tbody>\n",
       "    <tr>\n",
       "      <th>2008/2009</th>\n",
       "      <td>0.983154</td>\n",
       "      <td>NaN</td>\n",
       "      <td>1.002363</td>\n",
       "      <td>1.006269</td>\n",
       "      <td>1.013739</td>\n",
       "    </tr>\n",
       "    <tr>\n",
       "      <th>2009/2010</th>\n",
       "      <td>0.956528</td>\n",
       "      <td>NaN</td>\n",
       "      <td>0.997493</td>\n",
       "      <td>1.004651</td>\n",
       "      <td>0.981855</td>\n",
       "    </tr>\n",
       "    <tr>\n",
       "      <th>2010/2011</th>\n",
       "      <td>0.981499</td>\n",
       "      <td>1.020088</td>\n",
       "      <td>1.015570</td>\n",
       "      <td>1.004084</td>\n",
       "      <td>0.978555</td>\n",
       "    </tr>\n",
       "    <tr>\n",
       "      <th>2011/2012</th>\n",
       "      <td>0.969707</td>\n",
       "      <td>1.022392</td>\n",
       "      <td>1.001298</td>\n",
       "      <td>1.003220</td>\n",
       "      <td>0.956370</td>\n",
       "    </tr>\n",
       "    <tr>\n",
       "      <th>2012/2013</th>\n",
       "      <td>0.981472</td>\n",
       "      <td>1.014901</td>\n",
       "      <td>0.993993</td>\n",
       "      <td>1.003145</td>\n",
       "      <td>0.969854</td>\n",
       "    </tr>\n",
       "    <tr>\n",
       "      <th>2013/2014</th>\n",
       "      <td>0.960156</td>\n",
       "      <td>1.004041</td>\n",
       "      <td>0.977500</td>\n",
       "      <td>0.991617</td>\n",
       "      <td>0.944334</td>\n",
       "    </tr>\n",
       "    <tr>\n",
       "      <th>2014/2015</th>\n",
       "      <td>0.979916</td>\n",
       "      <td>1.014760</td>\n",
       "      <td>0.985835</td>\n",
       "      <td>0.997652</td>\n",
       "      <td>0.934518</td>\n",
       "    </tr>\n",
       "    <tr>\n",
       "      <th>2015/2016</th>\n",
       "      <td>0.997503</td>\n",
       "      <td>1.011497</td>\n",
       "      <td>0.974657</td>\n",
       "      <td>0.981996</td>\n",
       "      <td>0.945476</td>\n",
       "    </tr>\n",
       "  </tbody>\n",
       "</table>\n",
       "</div>"
      ],
      "text/plain": [
       "league_id  England Premier League  France Ligue 1  Germany 1. Bundesliga  \\\n",
       "season                                                                     \n",
       "2008/2009                0.983154             NaN               1.002363   \n",
       "2009/2010                0.956528             NaN               0.997493   \n",
       "2010/2011                0.981499        1.020088               1.015570   \n",
       "2011/2012                0.969707        1.022392               1.001298   \n",
       "2012/2013                0.981472        1.014901               0.993993   \n",
       "2013/2014                0.960156        1.004041               0.977500   \n",
       "2014/2015                0.979916        1.014760               0.985835   \n",
       "2015/2016                0.997503        1.011497               0.974657   \n",
       "\n",
       "league_id  Italy Serie A  Spain LIGA BBVA  \n",
       "season                                     \n",
       "2008/2009       1.006269         1.013739  \n",
       "2009/2010       1.004651         0.981855  \n",
       "2010/2011       1.004084         0.978555  \n",
       "2011/2012       1.003220         0.956370  \n",
       "2012/2013       1.003145         0.969854  \n",
       "2013/2014       0.991617         0.944334  \n",
       "2014/2015       0.997652         0.934518  \n",
       "2015/2016       0.981996         0.945476  "
      ]
     },
     "execution_count": 46,
     "metadata": {},
     "output_type": "execute_result"
    }
   ],
   "source": [
    "entropy_means = subset.groupby(['season','league_id']).entropy.mean()\n",
    "\n",
    "entropy_means = entropy_means.reset_index().pivot(index='season', columns='league_id', values='entropy')\n",
    "\n",
    "entropy_means  = entropy_means[['England Premier League', 'France Ligue 1',\n",
    "       'Germany 1. Bundesliga', 'Italy Serie A','Spain LIGA BBVA']]\n",
    "entropy_means.rename(columns = {'England Premier League':'England','France Ligue 1':'France',\n",
    "                                'Germany 1. Bundesliga':'Germany','Italy Serie A':'Italy',\n",
    "                                'Spain LIGA BBVA':'Spain'})\n",
    "\n",
    "entropy_means.head(10)"
   ]
  },
  {
   "cell_type": "code",
   "execution_count": 47,
   "metadata": {
    "executionInfo": {
     "elapsed": 24,
     "status": "aborted",
     "timestamp": 1640249128892,
     "user": {
      "displayName": "R T",
      "photoUrl": "https://lh3.googleusercontent.com/a/default-user=s64",
      "userId": "01703325576658181394"
     },
     "user_tz": -60
    },
    "id": "_qhnbAHtMY7X"
   },
   "outputs": [
    {
     "data": {
      "text/plain": [
       "Text(7.75, 0.93, 'more predictable')"
      ]
     },
     "execution_count": 47,
     "metadata": {},
     "output_type": "execute_result"
    },
    {
     "data": {
      "image/png": "[encoded data removed]",
      "text/plain": [
       "<Figure size 864x576 with 1 Axes>"
      ]
     },
     "metadata": {
      "needs_background": "light"
     },
     "output_type": "display_data"
    }
   ],
   "source": [
    "#Représentation graphique\n",
    "ax = entropy_means.plot(figsize=(12,8),marker='o')\n",
    "\n",
    "\n",
    "plt.title('Leagues Predictability', fontsize=16)\n",
    "\n",
    "plt.xticks(rotation=50)\n",
    "\n",
    "#On fixe les couleurs\n",
    "colors = [x.get_color() for x in ax.get_lines()]\n",
    "colors_mapping = dict(zip(leagues.id,colors))\n",
    "\n",
    "#On retire le label\n",
    "ax.set_xlabel('')\n",
    "\n",
    "plt.legend(loc='lower left')\n",
    "\n",
    "#On utilise des flèches pour rendre le graphique plus lisible.\n",
    "ax.annotate('', xytext=(7.2, 1),xy=(7.2, 1.039),\n",
    "            arrowprops=dict(facecolor='black',arrowstyle=\"->, head_length=.7, head_width=.3\",linewidth=1), annotation_clip=False)\n",
    "\n",
    "ax.annotate('', xytext=(7.2, 0.96),xy=(7.2, 0.921),\n",
    "            arrowprops=dict(facecolor='black',arrowstyle=\"->, head_length=.7, head_width=.3\",linewidth=1), annotation_clip=False)\n",
    "\n",
    "ax.annotate('less predictable', xy=(7.75, 1.01), annotation_clip=False,fontsize=14,rotation='vertical')\n",
    "ax.annotate('more predictable', xy=(7.75, 0.93), annotation_clip=False,fontsize=14,rotation='vertical')"
   ]
  },
  {
   "cell_type": "markdown",
   "metadata": {},
   "source": [
    "# Etude de cas: l'Italie. \n",
    "Nous allons observer la distribution des points et de la différence de buts pour la première division Italienne sur un certain nombre de saisons. Tout d'abord, observons le dataset:"
   ]
  },
  {
   "cell_type": "code",
   "execution_count": 1,
   "metadata": {
    "executionInfo": {
     "elapsed": 24,
     "status": "aborted",
     "timestamp": 1640249128892,
     "user": {
      "displayName": "R T",
      "photoUrl": "https://lh3.googleusercontent.com/a/default-user=s64",
      "userId": "01703325576658181394"
     },
     "user_tz": -60
    },
    "id": "K4BzB011MY7X"
   },
   "outputs": [
    {
     "ename": "NameError",
     "evalue": "name 'df_italy' is not defined",
     "output_type": "error",
     "traceback": [
      "\u001b[0;31m---------------------------------------------------------------------------\u001b[0m",
      "\u001b[0;31mNameError\u001b[0m                                 Traceback (most recent call last)",
      "\u001b[0;32m/tmp/ipykernel_311/2043684477.py\u001b[0m in \u001b[0;36m<module>\u001b[0;34m\u001b[0m\n\u001b[0;32m----> 1\u001b[0;31m \u001b[0mdf_italy\u001b[0m\u001b[0;34m.\u001b[0m\u001b[0mhead\u001b[0m\u001b[0;34m(\u001b[0m\u001b[0;34m)\u001b[0m\u001b[0;34m\u001b[0m\u001b[0;34m\u001b[0m\u001b[0m\n\u001b[0m",
      "\u001b[0;31mNameError\u001b[0m: name 'df_italy' is not defined"
     ]
    }
   ],
   "source": [
    "df_italy.head()"
   ]
  },
  {
   "cell_type": "markdown",
   "metadata": {},
   "source": [
    "La colonne contient un certain nombre de colonnes. Regardons le nombre de saisons incluses dans le dataset grâce à \"match_season\" qui semble contenir les saisons pour lesquelles les points et la différence de buts de chaque équipe sont comptabilisées."
   ]
  },
  {
   "cell_type": "code",
   "execution_count": null,
   "metadata": {},
   "outputs": [],
   "source": [
    "season = matches['season' ].unique()\n",
    "print(season)"
   ]
  },
  {
   "cell_type": "markdown",
   "metadata": {},
   "source": [
    "Le dataset commence à la saison 2008/2009, et s'arrête à la saison 2015/2016. Nous allons donc observer sur cet intervalle de temps la distribution des points et des différences de buts pour les équipes engagées dans le championnat."
   ]
  },
  {
   "cell_type": "code",
   "execution_count": null,
   "metadata": {},
   "outputs": [],
   "source": [
    "df_italy.describe()"
   ]
  },
  {
   "cell_type": "code",
   "execution_count": null,
   "metadata": {},
   "outputs": [],
   "source": [
    "#Visualisation de la distribution de points en Italie\n",
    "plt.hist(df_italy['points'])\n",
    "plt.title('Distribution of Points in Italy')\n",
    "plt.xlabel('Points')\n",
    "plt.ylabel('Frequency')"
   ]
  },
  {
   "cell_type": "markdown",
   "metadata": {},
   "source": [
    "Commentaire: la plupart des équipes obtiennent entre 40 et 70 points. On retrouve là un résultat déjà lisible au travers des quantiles de la distribution, vus dans le \"describe\" plus haut. \n",
    "L'apprance de la distributions nous laisse penser que la distribution des points pourrait suivre une loi normale. C'est ce que nous allons vérifier:"
   ]
  },
  {
   "cell_type": "code",
   "execution_count": 49,
   "metadata": {
    "executionInfo": {
     "elapsed": 24,
     "status": "aborted",
     "timestamp": 1640249128892,
     "user": {
      "displayName": "R T",
      "photoUrl": "https://lh3.googleusercontent.com/a/default-user=s64",
      "userId": "01703325576658181394"
     },
     "user_tz": -60
    },
    "id": "uxlonR0tMY7Y"
   },
   "outputs": [],
   "source": [
    "stats.normaltest(df_italy['points'], axis=0)"
   ]
  },
  {
   "cell_type": "markdown",
   "metadata": {},
   "source": [
    "La p-value du test de normalité est inférieur à 2%: il semble raisonnable de dire que la distribution de points suit une loi normale.\n",
    "Observons désormais la corrélation entre les points et la différence de buts. Elle devrait être très élevée, puisque c'est en gagnant des matchs (donc en ayant une différence de buts positives) que l'on gagne des points."
   ]
  },
  {
   "cell_type": "code",
   "execution_count": 51,
   "metadata": {
    "executionInfo": {
     "elapsed": 24,
     "status": "aborted",
     "timestamp": 1640249128892,
     "user": {
      "displayName": "R T",
      "photoUrl": "https://lh3.googleusercontent.com/a/default-user=s64",
      "userId": "01703325576658181394"
     },
     "user_tz": -60
    },
    "id": "fqdC_Cg8MY7Y"
   },
   "outputs": [],
   "source": [
    "corr = np.round(df_italy['points'].corr(df_italy['goals_difference']), decimals=2)\n",
    "\n",
    "# plot le nuage de points\n",
    "plt.scatter(df_italy['points'], df_italy['goals_difference'], label=\"Correlation Coefficient {}\".format(corr));\n",
    "plt.title('Scatterplot of Lost Matches and Goals Difference')\n",
    "plt.xlabel('Points')\n",
    "plt.ylabel('Goals Difference')\n",
    "plt.legend()\n",
    "plt.legend(loc='upper left', bbox_to_anchor=(1, 0.5))\n",
    "plt.show();"
   ]
  },
  {
   "cell_type": "markdown",
   "metadata": {},
   "source": [
    "Comme prévu, le coefficient de corrélation est très élevé: une bonne différence de buts s'accompagne presque toujours d'un nombre élevé de points."
   ]
  },
  {
   "cell_type": "code",
   "execution_count": 52,
   "metadata": {
    "executionInfo": {
     "elapsed": 25,
     "status": "aborted",
     "timestamp": 1640249128893,
     "user": {
      "displayName": "R T",
      "photoUrl": "https://lh3.googleusercontent.com/a/default-user=s64",
      "userId": "01703325576658181394"
     },
     "user_tz": -60
    },
    "id": "2NXLLmSrMY7Z"
   },
   "outputs": [],
   "source": [
    "plt.hist(df_italy['goals_difference'])\n",
    "plt.title('Distribution of goal_difference in Italy')\n",
    "plt.xlabel('Goal Diff')\n",
    "plt.ylabel('Frequency')"
   ]
  },
  {
   "cell_type": "markdown",
   "metadata": {},
   "source": [
    "L'histogramme est proche d'être centré en 0, et l'on observe un histogramme pouvant faire penser à une courbe en cloche, ce qui motive notre second test de normalité:"
   ]
  },
  {
   "cell_type": "code",
   "execution_count": 53,
   "metadata": {
    "executionInfo": {
     "elapsed": 25,
     "status": "aborted",
     "timestamp": 1640249128893,
     "user": {
      "displayName": "R T",
      "photoUrl": "https://lh3.googleusercontent.com/a/default-user=s64",
      "userId": "01703325576658181394"
     },
     "user_tz": -60
    },
    "id": "l8rnWbyFMY7Z"
   },
   "outputs": [],
   "source": [
    "stats.normaltest(df_italy['goals_difference'], axis=0)"
   ]
  },
  {
   "cell_type": "markdown",
   "metadata": {},
   "source": [
    "On observe une p_value encore plus basse que pour la distribution de points: il semblerait donc, encore une fois, que l'hypothèse de normalité soit plausible, cette fois à un niveau 1%.\n",
    "Enfin, nous observons la distribution des points sur les saisons en question pour une équipe précise: la Juventus."
   ]
  },
  {
   "cell_type": "code",
   "execution_count": 54,
   "metadata": {
    "executionInfo": {
     "elapsed": 25,
     "status": "aborted",
     "timestamp": 1640249128893,
     "user": {
      "displayName": "R T",
      "photoUrl": "https://lh3.googleusercontent.com/a/default-user=s64",
      "userId": "01703325576658181394"
     },
     "user_tz": -60
    },
    "id": "onLsFAfZMY7Z"
   },
   "outputs": [],
   "source": [
    "df_italy[df_italy.team == 'Juventus'].sort_values(by = 'match_season')['points']"
   ]
  },
  {
   "cell_type": "markdown",
   "metadata": {},
   "source": [
    "L'on peut voir que les points de l'équipe ont beaucoup oscillé, allant de 55 à 102, soit presque du simple au double. Ainsi, il semblerait que la position de l'équipe ait été fluctuante sur ces dernières années."
   ]
  },
  {
   "cell_type": "markdown",
   "metadata": {},
   "source": [
    "Ceci conclut notre étude sur l'Italie. Nous allons désormais continuer notre travail principal, en récupérant les statistiques fifa des joueurs. "
   ]
  },
  {
   "cell_type": "markdown",
   "metadata": {},
   "source": [
    "# Récupération des statistiques FIFA."
   ]
  },
  {
   "cell_type": "markdown",
   "metadata": {},
   "source": [
    "Les commandes à venir pouvant parfois être longues, nous allons utiliser le module tqdm pour s'assurer que tout va bien."
   ]
  },
  {
   "cell_type": "code",
   "execution_count": 58,
   "metadata": {},
   "outputs": [
    {
     "name": "stdout",
     "output_type": "stream",
     "text": [
      "Requirement already satisfied: tqdm>=4.9.0 in c:\\users\\rayan\\anaconda3\\lib\\site-packages (4.47.0)\n",
      "Note: you may need to restart the kernel to use updated packages.\n"
     ]
    }
   ],
   "source": [
    "pip install \"tqdm>=4.9.0\""
   ]
  },
  {
   "cell_type": "code",
   "execution_count": 59,
   "metadata": {},
   "outputs": [],
   "source": [
    "from tqdm import tqdm"
   ]
  },
  {
   "cell_type": "code",
   "execution_count": 60,
   "metadata": {},
   "outputs": [],
   "source": [
    "def get_fifa_stats(match, player_stats):\n",
    "    ''' L'on agrège les statistiques fifa pour un match donné.'''    \n",
    "    \n",
    "    #On commence par définir et initialiser les variables:\n",
    "    id_match =  match.match_api_id\n",
    "    date = match['date']\n",
    "    players = ['home_player_'+str(i) for i in range(1,12)] + [\"away_player_\" +str(i) for i in range(1,12)]\n",
    "    player_stats_fifa = pd.DataFrame()\n",
    "    names = []\n",
    "    \n",
    "    #On va effectuer plusieurs commandes pour chaque joueur:\n",
    "    for player in players:   \n",
    "            \n",
    "        #Tout d'abord, on récupère les identifiants de chaque joueur.\n",
    "        id_player = match[player]\n",
    "        \n",
    "        #L'identifiant nous sert à récupérer les statistiques du joueur:\n",
    "        stats = player_stats[player_stats.player_api_id == id_player]\n",
    "            \n",
    "        #On récupère ensuite les statistiques actuelles du joueur (c'est-à-dire les statistiques avant que le match ne soit joué)    \n",
    "        current_stats = stats[stats.date < date].sort_values(by = 'date', ascending = False)[:1]\n",
    "        current_stats.reset_index(inplace = True, drop = True)\n",
    "        overall_rating = pd.Series(current_stats.loc[0, \"overall_rating\"])\n",
    "\n",
    "        #On change le nom de la statistique.\n",
    "        name = str(player)+\"_overall_rating\"\n",
    "        names.append(name)\n",
    "        \n",
    "            \n",
    "        #On range le tout dans player_stats_fifa, notre sortie:\n",
    "        player_stats_fifa = pd.concat([player_stats_fifa, overall_rating], axis = 1)\n",
    "    \n",
    "    player_stats_fifa.columns = names        \n",
    "    player_stats_fifa['match_api_id'] = id_match\n",
    "\n",
    "    player_stats_fifa.reset_index(inplace = True, drop = True)\n",
    "    \n",
    "    #En sortie,les statistiques fifa: \n",
    "    return player_stats_fifa.iloc[0]  \n",
    "\n",
    "def get_fifa_data(matches, player_stats):\n",
    "    '''On récupère les données fifa de chaque match. '''  \n",
    "    #Puisque la fonction prend du temps, on utilise un petit print rappelant qu'il faut garder patience.\n",
    "    print(\"Collecte des données fifa en cours, veuillez patienter quelques minutes\")       \n",
    "    tqdm.pandas()\n",
    "    #On utilise la fonction précédente par chaque match\n",
    "    fifa_data = matches.progress_apply(lambda x :get_fifa_stats(x, player_stats), axis = 1)\n",
    "        \n",
    "       \n",
    "   \n",
    "    \n",
    "    #La fonction renvoie en sortie les données.\n",
    "    return fifa_data"
   ]
  },
  {
   "cell_type": "code",
   "execution_count": 61,
   "metadata": {
    "executionInfo": {
     "elapsed": 25,
     "status": "aborted",
     "timestamp": 1640249128894,
     "user": {
      "displayName": "R T",
      "photoUrl": "https://lh3.googleusercontent.com/a/default-user=s64",
      "userId": "01703325576658181394"
     },
     "user_tz": -60
    },
    "id": "qx4QLPrsMY7a"
   },
   "outputs": [
    {
     "name": "stderr",
     "output_type": "stream",
     "text": [
      "C:\\Users\\rayan\\anaconda3\\lib\\site-packages\\tqdm\\std.py:668: FutureWarning: The Panel class is removed from pandas. Accessing it from the top-level namespace will also be removed in the next version\n",
      "  from pandas import Panel\n",
      "  0%|                                                                                        | 0/13214 [00:00<?, ?it/s]"
     ]
    },
    {
     "name": "stdout",
     "output_type": "stream",
     "text": [
      "Collecte des données fifa en cours, veuillez patienter quelques minutes\n"
     ]
    },
    {
     "name": "stderr",
     "output_type": "stream",
     "text": [
      "100%|████████████████████████████████████████████████████████████████████████████| 13214/13214 [09:44<00:00, 22.60it/s]\n"
     ]
    },
    {
     "data": {
      "text/plain": [
       "\"Remarque: sachant que c'est d'assez loin la cellule la plus longue, je préconise de mettre fifa_data dans un csv.\""
      ]
     },
     "execution_count": 61,
     "metadata": {},
     "output_type": "execute_result"
    }
   ],
   "source": [
    "fifa_data = get_fifa_data(matches, player_attributes)"
   ]
  },
  {
   "cell_type": "markdown",
   "metadata": {},
   "source": [
    "Remarque: on peut trouver le fichier \"fifa_data.csv\" dans le dossier \"dataset\" du projet Github. Malheureusement, nous remarquions des différences dans les résultats qui rendaient nos modèles moins puissants. Nous préférons donc générer le résultat."
   ]
  },
  {
   "cell_type": "code",
   "execution_count": null,
   "metadata": {},
   "outputs": [],
   "source": []
  },
  {
   "cell_type": "code",
   "execution_count": 62,
   "metadata": {},
   "outputs": [
    {
     "data": {
      "text/plain": [
       "<bound method NDFrame.describe of        home_player_1_overall_rating  home_player_2_overall_rating  \\\n",
       "1728                           85.0                          79.0   \n",
       "1729                           75.0                          76.0   \n",
       "1730                           78.0                          80.0   \n",
       "1731                           77.0                          79.0   \n",
       "1733                           79.0                          78.0   \n",
       "...                             ...                           ...   \n",
       "24552                          81.0                          81.0   \n",
       "24553                          79.0                          75.0   \n",
       "24554                          79.0                          80.0   \n",
       "24555                          77.0                          71.0   \n",
       "24556                          75.0                          77.0   \n",
       "\n",
       "       home_player_3_overall_rating  home_player_4_overall_rating  \\\n",
       "1728                           88.0                          85.0   \n",
       "1729                           85.0                          74.0   \n",
       "1730                           71.0                          61.0   \n",
       "1731                           79.0                          75.0   \n",
       "1733                           80.0                          79.0   \n",
       "...                             ...                           ...   \n",
       "24552                          79.0                          85.0   \n",
       "24553                          74.0                          78.0   \n",
       "24554                          77.0                          83.0   \n",
       "24555                          74.0                          72.0   \n",
       "24556                          76.0                          70.0   \n",
       "\n",
       "       home_player_5_overall_rating  home_player_6_overall_rating  \\\n",
       "1728                           78.0                          74.0   \n",
       "1729                           77.0                          72.0   \n",
       "1730                           66.0                          79.0   \n",
       "1731                           77.0                          77.0   \n",
       "1733                           72.0                          82.0   \n",
       "...                             ...                           ...   \n",
       "24552                          82.0                          80.0   \n",
       "24553                          76.0                          75.0   \n",
       "24554                          79.0                          80.0   \n",
       "24555                          73.0                          76.0   \n",
       "24556                          76.0                          78.0   \n",
       "\n",
       "       home_player_7_overall_rating  home_player_8_overall_rating  \\\n",
       "1728                           83.0                          85.0   \n",
       "1729                           79.0                          75.0   \n",
       "1730                           78.0                          75.0   \n",
       "1731                           72.0                          82.0   \n",
       "1733                           72.0                          73.0   \n",
       "...                             ...                           ...   \n",
       "24552                          81.0                          83.0   \n",
       "24553                          76.0                          74.0   \n",
       "24554                          81.0                          80.0   \n",
       "24555                          75.0                          74.0   \n",
       "24556                          80.0                          77.0   \n",
       "\n",
       "       home_player_9_overall_rating  home_player_10_overall_rating  ...  \\\n",
       "1728                           86.0                           74.0  ...   \n",
       "1729                           85.0                           87.0  ...   \n",
       "1730                           74.0                           81.0  ...   \n",
       "1731                           76.0                           73.0  ...   \n",
       "1733                           77.0                           73.0  ...   \n",
       "...                             ...                            ...  ...   \n",
       "24552                          78.0                           84.0  ...   \n",
       "24553                          73.0                           72.0  ...   \n",
       "24554                          74.0                           78.0  ...   \n",
       "24555                          70.0                           75.0  ...   \n",
       "24556                          71.0                           75.0  ...   \n",
       "\n",
       "       away_player_3_overall_rating  away_player_4_overall_rating  \\\n",
       "1728                           77.0                          78.0   \n",
       "1729                           63.0                          79.0   \n",
       "1730                           88.0                          79.0   \n",
       "1731                           69.0                          69.0   \n",
       "1733                           78.0                          79.0   \n",
       "...                             ...                           ...   \n",
       "24552                          82.0                          80.0   \n",
       "24553                          75.0                          77.0   \n",
       "24554                          74.0                          76.0   \n",
       "24555                          72.0                          76.0   \n",
       "24556                          75.0                          76.0   \n",
       "\n",
       "       away_player_5_overall_rating  away_player_6_overall_rating  \\\n",
       "1728                           76.0                          77.0   \n",
       "1729                           69.0                          71.0   \n",
       "1730                           60.0                          84.0   \n",
       "1731                           74.0                          76.0   \n",
       "1733                           74.0                          73.0   \n",
       "...                             ...                           ...   \n",
       "24552                          80.0                          82.0   \n",
       "24553                          75.0                          75.0   \n",
       "24554                          73.0                          71.0   \n",
       "24555                          71.0                          79.0   \n",
       "24556                          71.0                          76.0   \n",
       "\n",
       "       away_player_7_overall_rating  away_player_8_overall_rating  \\\n",
       "1728                           56.0                          69.0   \n",
       "1729                           71.0                          73.0   \n",
       "1730                           89.0                          70.0   \n",
       "1731                           71.0                          67.0   \n",
       "1733                           75.0                          85.0   \n",
       "...                             ...                           ...   \n",
       "24552                          79.0                          77.0   \n",
       "24553                          77.0                          76.0   \n",
       "24554                          75.0                          73.0   \n",
       "24555                          75.0                          71.0   \n",
       "24556                          77.0                          74.0   \n",
       "\n",
       "       away_player_9_overall_rating  away_player_10_overall_rating  \\\n",
       "1728                           75.0                           76.0   \n",
       "1729                           72.0                           74.0   \n",
       "1730                           80.0                           84.0   \n",
       "1731                           79.0                           71.0   \n",
       "1733                           77.0                           76.0   \n",
       "...                             ...                            ...   \n",
       "24552                          80.0                           79.0   \n",
       "24553                          74.0                           73.0   \n",
       "24554                          76.0                           77.0   \n",
       "24555                          75.0                           72.0   \n",
       "24556                          75.0                           73.0   \n",
       "\n",
       "       away_player_11_overall_rating  match_api_id  \n",
       "1728                            83.0      489042.0  \n",
       "1729                            68.0      489043.0  \n",
       "1730                            87.0      489044.0  \n",
       "1731                            77.0      489045.0  \n",
       "1733                            79.0      489047.0  \n",
       "...                              ...           ...  \n",
       "24552                           75.0     2030167.0  \n",
       "24553                           78.0     2030168.0  \n",
       "24554                           72.0     2030169.0  \n",
       "24555                           79.0     2030170.0  \n",
       "24556                           78.0     2030171.0  \n",
       "\n",
       "[13214 rows x 23 columns]>"
      ]
     },
     "execution_count": 62,
     "metadata": {},
     "output_type": "execute_result"
    }
   ],
   "source": [
    "fifa_data.describe"
   ]
  },
  {
   "cell_type": "markdown",
   "metadata": {},
   "source": [
    "# Création des DataFrame nécessaires à la classification."
   ]
  },
  {
   "cell_type": "markdown",
   "metadata": {},
   "source": [
    "Avant de nous lancer dans le vif du sujet, il nous faut obtenir les features, c'est-à-dire l'ensemble des données qui nous intéressent, les données des matches mais aussi les données FIFA.\n",
    "Nous vous présentons ici les codes ayant permis d'obtenir les datasets utilisés. Pour des soucis d'efficacité, nous vous recommandons d'utiliser par la suite les .csv (\"features.csv\" pour features, \"outcomes.csv\" pour outcomes)."
   ]
  },
  {
   "cell_type": "code",
   "execution_count": 64,
   "metadata": {},
   "outputs": [],
   "source": [
    "#Comment obtenir 'outcomes' et 'features':\n",
    "viable_matches=pd.DataFrame(matches)\n",
    "\n",
    "\n",
    "viable_matches = viable_matches.dropna(inplace=False) #On retire les valeurs NA.\n",
    "\n",
    "teams_stats=pd.DataFrame(teams_stats)\n",
    "\n",
    "home_teams = viable_matches['home_team_api_id'].isin(teams_stats['team_api_id'].tolist())\n",
    "away_teams = viable_matches['away_team_api_id'].isin(teams_stats['team_api_id'].tolist())\n",
    "viable_matches = viable_matches[home_teams & away_teams]"
   ]
  },
  {
   "cell_type": "code",
   "execution_count": 66,
   "metadata": {
    "executionInfo": {
     "elapsed": 25,
     "status": "aborted",
     "timestamp": 1640249128894,
     "user": {
      "displayName": "R T",
      "photoUrl": "https://lh3.googleusercontent.com/a/default-user=s64",
      "userId": "01703325576658181394"
     },
     "user_tz": -60
    },
    "id": "Ho5X8GbbMY7b"
   },
   "outputs": [
    {
     "data": {
      "application/vnd.jupyter.widget-view+json": {
       "model_id": "7774774dee2c4572b1cdfc9d960ae04b",
       "version_major": 2,
       "version_minor": 0
      },
      "text/plain": [
       "HBox(children=(FloatProgress(value=1.0, bar_style='info', max=1.0), HTML(value='')))"
      ]
     },
     "metadata": {},
     "output_type": "display_data"
    },
    {
     "name": "stderr",
     "output_type": "stream",
     "text": [
      "C:\\Users\\rayan\\anaconda3\\lib\\site-packages\\tqdm\\std.py:668: FutureWarning: The Panel class is removed from pandas. Accessing it from the top-level namespace will also be removed in the next version\n",
      "  from pandas import Panel\n"
     ]
    },
    {
     "data": {
      "application/vnd.jupyter.widget-view+json": {
       "model_id": "0fb94791d24449dab95aced3106e9e38",
       "version_major": 2,
       "version_minor": 0
      },
      "text/plain": [
       "HBox(children=(FloatProgress(value=0.0, max=13214.0), HTML(value='')))"
      ]
     },
     "metadata": {},
     "output_type": "display_data"
    },
    {
     "name": "stdout",
     "output_type": "stream",
     "text": [
      "\n",
      "\n"
     ]
    }
   ],
   "source": [
    "#Cette cellule-ci, particulièrement longue (plus de 10 minutes), est la raison pour laquelle nous avons sauvegardé nos résultats dans des csv.\n",
    "viables = get_features(matches=viable_matches,teams_stats=teams_stats, fifa=fifa_data, x=10)\n",
    "\n",
    "inputs = viables.drop('match_api_id', axis=1)\n",
    "outcomes = inputs.loc[:, 'outcome']"
   ]
  },
  {
   "cell_type": "code",
   "execution_count": 67,
   "metadata": {},
   "outputs": [
    {
     "data": {
      "text/plain": [
       "Index(['home_team_buildUpPlaySpeed', 'home_team_buildUpPlayPassing',\n",
       "       'home_team_chanceCreationPassing', 'home_team_chanceCreationCrossing',\n",
       "       'home_team_chanceCreationShooting', 'home_team_defencePressure',\n",
       "       'home_team_defenceAggression', 'home_team_defenceTeamWidth',\n",
       "       'home_team_avg_shots', 'home_team_avg_corners', 'home_team_avg_crosses',\n",
       "       'away_team_buildUpPlaySpeed', 'away_team_buildUpPlayPassing',\n",
       "       'away_team_chanceCreationPassing', 'away_team_chanceCreationCrossing',\n",
       "       'away_team_chanceCreationShooting', 'away_team_defencePressure',\n",
       "       'away_team_defenceAggression', 'away_team_defenceTeamWidth',\n",
       "       'away_team_avg_shots', 'away_team_avg_corners', 'away_team_avg_crosses',\n",
       "       'home_team_goals_difference', 'away_team_goals_difference',\n",
       "       'games_won_home_team', 'games_won_away_team', 'games_against_won',\n",
       "       'games_against_lost', 'B365H', 'B365D', 'B365A',\n",
       "       'League_England Premier League', 'League_France Ligue 1',\n",
       "       'League_Germany 1. Bundesliga', 'League_Italy Serie A',\n",
       "       'League_Netherlands Eredivisie', 'League_Scotland Premier League',\n",
       "       'League_Spain LIGA BBVA', 'home_player_1_overall_rating',\n",
       "       'home_player_2_overall_rating', 'home_player_3_overall_rating',\n",
       "       'home_player_4_overall_rating', 'home_player_5_overall_rating',\n",
       "       'home_player_6_overall_rating', 'home_player_7_overall_rating',\n",
       "       'home_player_8_overall_rating', 'home_player_9_overall_rating',\n",
       "       'home_player_10_overall_rating', 'home_player_11_overall_rating',\n",
       "       'away_player_1_overall_rating', 'away_player_2_overall_rating',\n",
       "       'away_player_3_overall_rating', 'away_player_4_overall_rating',\n",
       "       'away_player_5_overall_rating', 'away_player_6_overall_rating',\n",
       "       'away_player_7_overall_rating', 'away_player_8_overall_rating',\n",
       "       'away_player_9_overall_rating', 'away_player_10_overall_rating',\n",
       "       'away_player_11_overall_rating'],\n",
       "      dtype='object')"
      ]
     },
     "execution_count": 67,
     "metadata": {},
     "output_type": "execute_result"
    }
   ],
   "source": [
    "from sklearn.preprocessing import Normalizer\n",
    "features = inputs.drop('outcome', axis=1) #On retire les 'outcomes' de features, puisqu'on espère les deviner.\n",
    "features.iloc[:,:] = Normalizer(norm='l1').fit_transform(features)\n",
    "features.columns"
   ]
  },
  {
   "cell_type": "markdown",
   "metadata": {},
   "source": [
    "Nous allons regarder les corrélations qu'il y a dans features. Si les variables sont très corrélées, certaines approches (notamment la régression logistique) seront peut-être à exclure."
   ]
  },
  {
   "cell_type": "code",
   "execution_count": 68,
   "metadata": {},
   "outputs": [
    {
     "data": {
      "text/plain": [
       "<function matplotlib.pyplot.show(*args, **kw)>"
      ]
     },
     "execution_count": 68,
     "metadata": {},
     "output_type": "execute_result"
    },
    {
     "data": {
      "image/png": "[encoded data removed]",
      "text/plain": [
       "<Figure size 1080x1080 with 2 Axes>"
      ]
     },
     "metadata": {
      "needs_background": "light"
     },
     "output_type": "display_data"
    }
   ],
   "source": [
    "corr_test=features.drop(['League_England Premier League', 'League_France Ligue 1',\n",
    "       'League_Germany 1. Bundesliga', 'League_Italy Serie A',\n",
    "       'League_Netherlands Eredivisie', 'League_Scotland Premier League',\n",
    "       'League_Spain LIGA BBVA','games_against_lost'],axis=1)\n",
    "\n",
    "\"\"\"On va faire d'un côté les corrélations home_team, de l'autre les corrélations away_team\n",
    "On peut raisonnablement supposer que ces deux clusters sont indépendants.\"\"\"\n",
    "\n",
    "corr_test_home=corr_test[corr_test.columns.drop(list(corr_test.filter(regex='away')))]\n",
    "\n",
    "corr_test_away=corr_test[corr_test.columns.drop(list(corr_test.filter(regex='home')))]\n",
    "\n",
    "corr_home=features[corr_test_home.columns].corr()\n",
    "\n",
    "#corr=corr_test.corr()\n",
    "#print(corr_test)\n",
    "fig, ax = plt.subplots(figsize=(15,15))   \n",
    "ax=plt.axes()\n",
    "sns.heatmap(corr_home,square=True,ax=ax,cmap=\"Accent\")\n",
    "ax.set_title(\"home_team_correlation\")\n",
    "plt.show"
   ]
  },
  {
   "cell_type": "markdown",
   "metadata": {},
   "source": [
    "On peut noter de fortes corrélations entre certaines variables, surtout entre la différence de buts et les buts marqués (ce que l'on avait déjà pu voir avec l'Italie auparavant). Les autres corrélations sont plus faibles, et l'on peut donc espérer pouvoir effectuer une régression."
   ]
  },
  {
   "cell_type": "markdown",
   "metadata": {},
   "source": [
    "Avant cela, une petite remarque: les dataFrame \"features\" et \"outcomes\" ont demandé du temps pour être obtenus. De ce fait, nous avons sauvegardé les DataFrames dans le dossier Github. Ils se nomment respectivement \"features.csv\" et \"outcomes.csv\". Nous nous en servirons plus tard."
   ]
  },
  {
   "cell_type": "markdown",
   "metadata": {},
   "source": [
    "# Modélisation"
   ]
  },
  {
   "cell_type": "code",
   "execution_count": 63,
   "metadata": {},
   "outputs": [],
   "source": [
    "from sklearn.model_selection import GridSearchCV, KFold ,train_test_split\n",
    "from sklearn.metrics import accuracy_score\n",
    "from sklearn.linear_model import LogisticRegression\n",
    "\n",
    "\n",
    "from sklearn.preprocessing import StandardScaler\n",
    "from sklearn.preprocessing import LabelEncoder\n",
    "\n",
    "\n",
    "\n",
    "from sklearn.metrics import f1_score, accuracy_score, recall_score, confusion_matrix, precision_score, ConfusionMatrixDisplay, classification_report\n"
   ]
  },
  {
   "cell_type": "markdown",
   "metadata": {},
   "source": [
    "## Première méthode: les K plus proches voisins"
   ]
  },
  {
   "cell_type": "code",
   "execution_count": 71,
   "metadata": {},
   "outputs": [
    {
     "name": "stdout",
     "output_type": "stream",
     "text": [
      "              precision    recall  f1-score   support\n",
      "\n",
      "      Defeat       0.50      0.37      0.43       935\n",
      "        Draw       0.40      0.03      0.06       842\n",
      "         Win       0.53      0.88      0.66      1527\n",
      "\n",
      "    accuracy                           0.52      3304\n",
      "   macro avg       0.47      0.43      0.38      3304\n",
      "weighted avg       0.49      0.52      0.44      3304\n",
      "\n"
     ]
    },
    {
     "name": "stderr",
     "output_type": "stream",
     "text": [
      "C:\\Users\\rayan\\anaconda3\\lib\\site-packages\\sklearn\\utils\\validation.py:68: FutureWarning: Pass labels=['Win', 'Draw', 'Defeat'] as keyword args. From version 0.25 passing these as positional arguments will result in an error\n",
      "  warnings.warn(\"Pass {} as keyword args. From version 0.25 \"\n"
     ]
    },
    {
     "data": {
      "image/png": "[encoded data removed]",
      "text/plain": [
       "<Figure size 576x576 with 2 Axes>"
      ]
     },
     "metadata": {
      "needs_background": "light"
     },
     "output_type": "display_data"
    }
   ],
   "source": [
    "from sklearn.neighbors import KNeighborsClassifier\n",
    "\n",
    "model = KNeighborsClassifier(n_neighbors=100)\n",
    "\n",
    "Labels=[\"Win\",\"Draw\",\"Defeat\"] #Les labels qui nous importent.\n",
    "\n",
    "features_train,features_test,outcomes_train,outcomes_test=train_test_split(features,outcomes)\n",
    "model.fit(features_train,outcomes_train)\n",
    "pred_outcomes=model.predict(features_test)\n",
    "\n",
    "\n",
    "print(classification_report(outcomes_test,pred_outcomes))\n",
    "    \n",
    "cm=confusion_matrix(outcomes_test,pred_outcomes,Labels,normalize=\"true\")\n",
    "cmdisp=ConfusionMatrixDisplay(confusion_matrix=cm,display_labels=Labels)\n",
    "fig, ax = plt.subplots(figsize=(8, 8))\n",
    "cmdisp.plot(ax=ax)\n",
    "plt.show()"
   ]
  },
  {
   "cell_type": "markdown",
   "metadata": {},
   "source": [
    "L'on peut voir à travers la matrice de confusion que le modèle est très efficace pour prédire les victoires, mais beaucoup moins lorsqu'il est question de prédire les défaites, et tout bonnement médiocre pour les matches nuls. On remarque aussi que le modèle a tendance à beaucoup prédire les victoires, ce qui explique ses bons résultats pour les bonnes prédictions pour les victoires. Cela peut s'expliquer par la sur-représentation de victoires à domicile, et un poids sans doute trop grand donné à ce phénomène par le modèle."
   ]
  },
  {
   "cell_type": "markdown",
   "metadata": {},
   "source": [
    "## Deuxième modèle: les arbres de décisions."
   ]
  },
  {
   "cell_type": "code",
   "execution_count": 72,
   "metadata": {},
   "outputs": [
    {
     "name": "stdout",
     "output_type": "stream",
     "text": [
      "              precision    recall  f1-score   support\n",
      "\n",
      "      Defeat       0.36      0.38      0.37       913\n",
      "        Draw       0.28      0.28      0.28       861\n",
      "         Win       0.53      0.52      0.52      1530\n",
      "\n",
      "    accuracy                           0.42      3304\n",
      "   macro avg       0.39      0.39      0.39      3304\n",
      "weighted avg       0.42      0.42      0.42      3304\n",
      "\n"
     ]
    },
    {
     "name": "stderr",
     "output_type": "stream",
     "text": [
      "C:\\Users\\rayan\\anaconda3\\lib\\site-packages\\sklearn\\utils\\validation.py:68: FutureWarning: Pass labels=['Win', 'Draw', 'Defeat'] as keyword args. From version 0.25 passing these as positional arguments will result in an error\n",
      "  warnings.warn(\"Pass {} as keyword args. From version 0.25 \"\n"
     ]
    },
    {
     "data": {
      "image/png": "[encoded data removed]",
      "text/plain": [
       "<Figure size 576x576 with 2 Axes>"
      ]
     },
     "metadata": {
      "needs_background": "light"
     },
     "output_type": "display_data"
    }
   ],
   "source": [
    "from sklearn.tree import DecisionTreeClassifier\n",
    "\n",
    "model = DecisionTreeClassifier(criterion=\"entropy\",random_state=0)#random state permet de fixer le résultat obtenu\n",
    "\n",
    "Labels=[\"Win\",\"Draw\",\"Defeat\"]\n",
    "\n",
    "features_train,features_test,outcomes_train,outcomes_test=train_test_split(features,outcomes)\n",
    "model.fit(features_train,outcomes_train)\n",
    "pred_outcomes=model.predict(features_test)\n",
    "\n",
    "\n",
    "print(classification_report(outcomes_test,pred_outcomes))\n",
    "    \n",
    "cm=confusion_matrix(outcomes_test,pred_outcomes,Labels,normalize=\"true\")\n",
    "cmdisp=ConfusionMatrixDisplay(confusion_matrix=cm,display_labels=Labels)\n",
    "fig, ax = plt.subplots(figsize=(8, 8))\n",
    "cmdisp.plot(ax=ax)\n",
    "plt.show()"
   ]
  },
  {
   "cell_type": "markdown",
   "metadata": {},
   "source": [
    "Le modèle des arbres de décision a de plus mauvaises métriques, mais semble plus équilibré que son homologue des plus proches voisins. Il prédit correctement les matches nuls 10 fois(!) plus souvent, au détriment d'un score plus faible pour les victoires. Ici, il semblerait donc que le biais empirique des victoires à domicile ait été sous-estimé. Les scores pour les défaites sont, quand à eux, tout à fait semblables."
   ]
  },
  {
   "cell_type": "markdown",
   "metadata": {},
   "source": [
    "## Troisième modèle: le modèle Bayésien \"Naïf\""
   ]
  },
  {
   "cell_type": "code",
   "execution_count": 73,
   "metadata": {},
   "outputs": [
    {
     "name": "stdout",
     "output_type": "stream",
     "text": [
      "              precision    recall  f1-score   support\n",
      "\n",
      "      Defeat       0.47      0.56      0.51       913\n",
      "        Draw       0.30      0.34      0.32       861\n",
      "         Win       0.64      0.52      0.57      1530\n",
      "\n",
      "    accuracy                           0.48      3304\n",
      "   macro avg       0.47      0.47      0.47      3304\n",
      "weighted avg       0.50      0.48      0.49      3304\n",
      "\n"
     ]
    },
    {
     "name": "stderr",
     "output_type": "stream",
     "text": [
      "C:\\Users\\rayan\\anaconda3\\lib\\site-packages\\sklearn\\utils\\validation.py:68: FutureWarning: Pass labels=['Win', 'Draw', 'Defeat'] as keyword args. From version 0.25 passing these as positional arguments will result in an error\n",
      "  warnings.warn(\"Pass {} as keyword args. From version 0.25 \"\n"
     ]
    },
    {
     "data": {
      "image/png": "[encoded data removed]",
      "text/plain": [
       "<Figure size 576x576 with 2 Axes>"
      ]
     },
     "metadata": {
      "needs_background": "light"
     },
     "output_type": "display_data"
    }
   ],
   "source": [
    "from sklearn.naive_bayes import GaussianNB\n",
    "\n",
    "model=GaussianNB()\n",
    "model.fit(features_train,outcomes_train)\n",
    "pred_outcomes=model.predict(features_test)\n",
    "\n",
    "\n",
    "print(classification_report(outcomes_test,pred_outcomes))\n",
    "    \n",
    "cm=confusion_matrix(outcomes_test,pred_outcomes,Labels,normalize=\"true\")\n",
    "cmdisp=ConfusionMatrixDisplay(confusion_matrix=cm,display_labels=Labels)\n",
    "fig, ax = plt.subplots(figsize=(8, 8))\n",
    "cmdisp.plot(ax=ax)\n",
    "plt.show()"
   ]
  },
  {
   "cell_type": "markdown",
   "metadata": {},
   "source": [
    "Dans la lignée des arbres de décision, ce modèle présente des résultats bien plus équilibrés que le modèle des plus proches voisins, avec des résultats au-dessus de la moyenne pour les victoires ainsi que pour les défaites. Malheureusement, le score des matches nuls empêche les différentes métriques d'efficacité du modèle d'être vraiment satisfaisantes."
   ]
  },
  {
   "cell_type": "markdown",
   "metadata": {},
   "source": [
    "## Dernier modèle: la régression logistique."
   ]
  },
  {
   "cell_type": "markdown",
   "metadata": {},
   "source": [
    "Ce modèle nécessite un peu plus de manipulations pour pouvoir fonctionner:"
   ]
  },
  {
   "cell_type": "code",
   "execution_count": 70,
   "metadata": {},
   "outputs": [
    {
     "name": "stdout",
     "output_type": "stream",
     "text": [
      "              precision    recall  f1-score   support\n",
      "\n",
      "      Defeat       0.00      0.00      0.00       953\n",
      "        Draw       0.00      0.00      0.00       812\n",
      "         Win       0.47      1.00      0.64      1539\n",
      "\n",
      "    accuracy                           0.47      3304\n",
      "   macro avg       0.16      0.33      0.21      3304\n",
      "weighted avg       0.22      0.47      0.30      3304\n",
      "\n"
     ]
    },
    {
     "name": "stderr",
     "output_type": "stream",
     "text": [
      "C:\\Users\\rayan\\anaconda3\\lib\\site-packages\\sklearn\\metrics\\_classification.py:1221: UndefinedMetricWarning: Precision and F-score are ill-defined and being set to 0.0 in labels with no predicted samples. Use `zero_division` parameter to control this behavior.\n",
      "  _warn_prf(average, modifier, msg_start, len(result))\n",
      "C:\\Users\\rayan\\anaconda3\\lib\\site-packages\\sklearn\\utils\\validation.py:68: FutureWarning: Pass labels=['Win', 'Draw', 'Defeat'] as keyword args. From version 0.25 passing these as positional arguments will result in an error\n",
      "  warnings.warn(\"Pass {} as keyword args. From version 0.25 \"\n"
     ]
    },
    {
     "data": {
      "image/png": "[encoded data removed]",
      "text/plain": [
       "<Figure size 576x576 with 2 Axes>"
      ]
     },
     "metadata": {
      "needs_background": "light"
     },
     "output_type": "display_data"
    },
    {
     "data": {
      "text/plain": [
       "'cette cellule met beaucoup de temps, mais fonctionne.'"
      ]
     },
     "execution_count": 70,
     "metadata": {},
     "output_type": "execute_result"
    }
   ],
   "source": [
    "from sklearn.linear_model import LogisticRegression\n",
    "from sklearn.model_selection import cross_val_score\n",
    "from sklearn.model_selection import RepeatedStratifiedKFold\n",
    "outcomes=pd.read_csv('C:\\\\Users\\\\rayan\\\\Documents\\\\football prediction\\\\football-classification-predications-master\\\\Dataset\\\\outcomes.csv')\n",
    "\n",
    "model = LogisticRegression(multi_class='multinomial', solver='lbfgs',class_weight = 'balanced')\n",
    "features_train,features_test,outcomes_train,outcomes_test=train_test_split(features,np.array(outcomes['outcome'].astype(str)))\n",
    "model.fit(features_train,outcomes_train)\n",
    "cv = RepeatedStratifiedKFold(n_splits=10, n_repeats=3, random_state=1)\n",
    "n_scores = cross_val_score(model, features_train, outcomes_train, scoring='accuracy', cv=cv, n_jobs=-1)\n",
    "print('Mean Accuracy: %.3f (%.3f)' % (np.mean(n_scores), np.std(n_scores)))\n",
    "\n",
    "yhat = model.predict(features_test)\n",
    "\n",
    "print(classification_report(outcomes_test,pred_outcomes))\n",
    "\n",
    "pred_outcomes=yhat\n",
    "cm=confusion_matrix(outcomes_test,pred_outcomes,normalize=\"true\")\n",
    "cmdisp=ConfusionMatrixDisplay(confusion_matrix=cm,display_labels=Labels)\n",
    "fig, ax = plt.subplots(figsize=(8, 8))\n",
    "cmdisp.plot(ax=ax)\n",
    "plt.show()\n",
    "\n",
    "\n",
    "\n"
   ]
  },
  {
   "cell_type": "markdown",
   "metadata": {},
   "source": [
    "Commentaire: l'on se retrouve avec une \"macro avg\" toujous en-dessous de 0.5 (autrement dit, le classificateur se trompe plus de la moitié du temps), mais les résultats de défaite et de victoires restent satisfaisants. On se retrouve avec le même problème, à savoir que la prédiction des matches nuls est médiocre, ce qui explique le manque d'efficacité du modèle."
   ]
  },
  {
   "cell_type": "markdown",
   "metadata": {},
   "source": [
    "# Conclusion"
   ]
  },
  {
   "cell_type": "markdown",
   "metadata": {},
   "source": [
    "Comme on peut le voir, nos modèles souffrent d'une précision faible,et ne prédisent pas de façon satisfaisante (au moins 50%) le résultat d'un match. Ce manque de précision était prévisible: notre base de données manquait de données qu'il a falllu imputer, et les données FIFA ne collent pas parfaitement à la réalité. Malgré tout, en omettant les prédictions de matches nuls, certains modèles parviennent à obtenir une précision notable pour les victoires et les défaites, ce qui laisse penser que ce système de prédiction revêt un intérêt malgré ses limites."
   ]
  }
 ],
 "metadata": {
  "colab": {
   "name": "data_viz_creation _v2.ipynb",
   "provenance": []
  },
  "kernelspec": {
   "display_name": "Python 3 (ipykernel)",
   "language": "python",
   "name": "python3"
  },
  "language_info": {
   "codemirror_mode": {
    "name": "ipython",
    "version": 3
   },
   "file_extension": ".py",
   "mimetype": "text/x-python",
   "name": "python",
   "nbconvert_exporter": "python",
   "pygments_lexer": "ipython3",
   "version": "3.9.7"
  }
 },
 "nbformat": 4,
 "nbformat_minor": 4
}
